{
  "nbformat": 4,
  "nbformat_minor": 0,
  "metadata": {
    "colab": {
      "name": "Estatística_com_Python_parte_1_Frequências_e_Medidas.ipynb",
      "provenance": [],
      "collapsed_sections": [],
      "toc_visible": true,
      "include_colab_link": true
    },
    "kernelspec": {
      "name": "python3",
      "display_name": "Python 3"
    }
  },
  "cells": [
    {
      "cell_type": "markdown",
      "metadata": {
        "id": "view-in-github",
        "colab_type": "text"
      },
      "source": [
        "<a href=\"https://colab.research.google.com/github/LucasVale98/Formacao_Data_Science/blob/main/Estat%C3%ADstica_com_Python_parte_1_Frequ%C3%AAncias_e_Medidas.ipynb\" target=\"_parent\"><img src=\"https://colab.research.google.com/assets/colab-badge.svg\" alt=\"Open In Colab\"/></a>"
      ]
    },
    {
      "cell_type": "markdown",
      "metadata": {
        "id": "bpRcg5G4gHWw"
      },
      "source": [
        "# **01. Qual o seu tipo de Dado?**"
      ]
    },
    {
      "cell_type": "markdown",
      "metadata": {
        "id": "0XuRwA1dyNqi"
      },
      "source": [
        "**Dataset do projeto**"
      ]
    },
    {
      "cell_type": "code",
      "metadata": {
        "colab": {
          "base_uri": "https://localhost:8080/"
        },
        "id": "PJ4q1GLqXEh9",
        "outputId": "ecae3459-7685-4019-e7f6-e70304d59bea"
      },
      "source": [
        "from google.colab import drive\n",
        "drive.mount('/content/drive')\n",
        "path = '/content/drive/My Drive/datasets/alura_curssos/Estatística com Python parte 1 Frequências e Medidas'"
      ],
      "execution_count": null,
      "outputs": [
        {
          "output_type": "stream",
          "text": [
            "Mounted at /content/drive\n"
          ],
          "name": "stdout"
        }
      ]
    },
    {
      "cell_type": "code",
      "metadata": {
        "id": "GD91vc0CxBwY"
      },
      "source": [
        "import pandas as pd"
      ],
      "execution_count": null,
      "outputs": []
    },
    {
      "cell_type": "code",
      "metadata": {
        "id": "FV2XCwnuw3Jc"
      },
      "source": [
        "dados = pd.read_csv(path + '/dados.csv')"
      ],
      "execution_count": null,
      "outputs": []
    },
    {
      "cell_type": "code",
      "metadata": {
        "colab": {
          "base_uri": "https://localhost:8080/",
          "height": 202
        },
        "id": "kRO9caiZxGHm",
        "outputId": "945717dc-b0d1-4a26-8831-0cf478d4c29b"
      },
      "source": [
        "dados.head()"
      ],
      "execution_count": null,
      "outputs": [
        {
          "output_type": "execute_result",
          "data": {
            "text/html": [
              "<div>\n",
              "<style scoped>\n",
              "    .dataframe tbody tr th:only-of-type {\n",
              "        vertical-align: middle;\n",
              "    }\n",
              "\n",
              "    .dataframe tbody tr th {\n",
              "        vertical-align: top;\n",
              "    }\n",
              "\n",
              "    .dataframe thead th {\n",
              "        text-align: right;\n",
              "    }\n",
              "</style>\n",
              "<table border=\"1\" class=\"dataframe\">\n",
              "  <thead>\n",
              "    <tr style=\"text-align: right;\">\n",
              "      <th></th>\n",
              "      <th>UF</th>\n",
              "      <th>Sexo</th>\n",
              "      <th>Idade</th>\n",
              "      <th>Cor</th>\n",
              "      <th>Anos de Estudo</th>\n",
              "      <th>Renda</th>\n",
              "      <th>Altura</th>\n",
              "    </tr>\n",
              "  </thead>\n",
              "  <tbody>\n",
              "    <tr>\n",
              "      <th>0</th>\n",
              "      <td>11</td>\n",
              "      <td>0</td>\n",
              "      <td>23</td>\n",
              "      <td>8</td>\n",
              "      <td>12</td>\n",
              "      <td>800</td>\n",
              "      <td>1.603808</td>\n",
              "    </tr>\n",
              "    <tr>\n",
              "      <th>1</th>\n",
              "      <td>11</td>\n",
              "      <td>1</td>\n",
              "      <td>23</td>\n",
              "      <td>2</td>\n",
              "      <td>12</td>\n",
              "      <td>1150</td>\n",
              "      <td>1.739790</td>\n",
              "    </tr>\n",
              "    <tr>\n",
              "      <th>2</th>\n",
              "      <td>11</td>\n",
              "      <td>1</td>\n",
              "      <td>35</td>\n",
              "      <td>8</td>\n",
              "      <td>15</td>\n",
              "      <td>880</td>\n",
              "      <td>1.760444</td>\n",
              "    </tr>\n",
              "    <tr>\n",
              "      <th>3</th>\n",
              "      <td>11</td>\n",
              "      <td>0</td>\n",
              "      <td>46</td>\n",
              "      <td>2</td>\n",
              "      <td>6</td>\n",
              "      <td>3500</td>\n",
              "      <td>1.783158</td>\n",
              "    </tr>\n",
              "    <tr>\n",
              "      <th>4</th>\n",
              "      <td>11</td>\n",
              "      <td>1</td>\n",
              "      <td>47</td>\n",
              "      <td>8</td>\n",
              "      <td>9</td>\n",
              "      <td>150</td>\n",
              "      <td>1.690631</td>\n",
              "    </tr>\n",
              "  </tbody>\n",
              "</table>\n",
              "</div>"
            ],
            "text/plain": [
              "   UF  Sexo  Idade  Cor  Anos de Estudo  Renda    Altura\n",
              "0  11     0     23    8              12    800  1.603808\n",
              "1  11     1     23    2              12   1150  1.739790\n",
              "2  11     1     35    8              15    880  1.760444\n",
              "3  11     0     46    2               6   3500  1.783158\n",
              "4  11     1     47    8               9    150  1.690631"
            ]
          },
          "metadata": {
            "tags": []
          },
          "execution_count": 4
        }
      ]
    },
    {
      "cell_type": "markdown",
      "metadata": {
        "id": "QDTqPp3cyRae"
      },
      "source": [
        "**Tipos de dados**"
      ]
    },
    {
      "cell_type": "markdown",
      "metadata": {
        "id": "nV_aCS4k02zm"
      },
      "source": [
        "*Variáveis quantitativas ordinais*"
      ]
    },
    {
      "cell_type": "code",
      "metadata": {
        "colab": {
          "base_uri": "https://localhost:8080/"
        },
        "id": "mE_Q3pWDyF4J",
        "outputId": "d57f2707-a9dc-4bca-f84c-7e940d7f78e6"
      },
      "source": [
        "sorted(dados[\"Anos de Estudo\"].unique())"
      ],
      "execution_count": null,
      "outputs": [
        {
          "output_type": "execute_result",
          "data": {
            "text/plain": [
              "[1, 2, 3, 4, 5, 6, 7, 8, 9, 10, 11, 12, 13, 14, 15, 16, 17]"
            ]
          },
          "metadata": {
            "tags": []
          },
          "execution_count": 5
        }
      ]
    },
    {
      "cell_type": "markdown",
      "metadata": {
        "id": "jN6-rll01DaG"
      },
      "source": [
        "*Variáveis quantitativas nominais*"
      ]
    },
    {
      "cell_type": "code",
      "metadata": {
        "colab": {
          "base_uri": "https://localhost:8080/"
        },
        "id": "V_FOM88V1D6X",
        "outputId": "004fbcd3-dc9a-43e1-b83d-56b1009163aa"
      },
      "source": [
        "sorted(dados[\"UF\"].unique())"
      ],
      "execution_count": null,
      "outputs": [
        {
          "output_type": "execute_result",
          "data": {
            "text/plain": [
              "[11,\n",
              " 12,\n",
              " 13,\n",
              " 14,\n",
              " 15,\n",
              " 16,\n",
              " 17,\n",
              " 21,\n",
              " 22,\n",
              " 23,\n",
              " 24,\n",
              " 25,\n",
              " 26,\n",
              " 27,\n",
              " 28,\n",
              " 29,\n",
              " 31,\n",
              " 32,\n",
              " 33,\n",
              " 35,\n",
              " 41,\n",
              " 42,\n",
              " 43,\n",
              " 50,\n",
              " 51,\n",
              " 52,\n",
              " 53]"
            ]
          },
          "metadata": {
            "tags": []
          },
          "execution_count": 6
        }
      ]
    },
    {
      "cell_type": "code",
      "metadata": {
        "colab": {
          "base_uri": "https://localhost:8080/"
        },
        "id": "ZfUNMK6M1O4X",
        "outputId": "c19317c3-9515-4bf5-f2af-a535ed493eff"
      },
      "source": [
        "sorted(dados[\"Sexo\"].unique())"
      ],
      "execution_count": null,
      "outputs": [
        {
          "output_type": "execute_result",
          "data": {
            "text/plain": [
              "[0, 1]"
            ]
          },
          "metadata": {
            "tags": []
          },
          "execution_count": 7
        }
      ]
    },
    {
      "cell_type": "code",
      "metadata": {
        "colab": {
          "base_uri": "https://localhost:8080/"
        },
        "id": "5m9YHEeA1Xsl",
        "outputId": "76cc749b-2394-4ac7-9782-5959116997bc"
      },
      "source": [
        "sorted(dados[\"Cor\"].unique())"
      ],
      "execution_count": null,
      "outputs": [
        {
          "output_type": "execute_result",
          "data": {
            "text/plain": [
              "[0, 2, 4, 6, 8]"
            ]
          },
          "metadata": {
            "tags": []
          },
          "execution_count": 8
        }
      ]
    },
    {
      "cell_type": "markdown",
      "metadata": {
        "id": "ptX1HnuM1ai8"
      },
      "source": [
        "*Variáveis qualitativas discretas*"
      ]
    },
    {
      "cell_type": "code",
      "metadata": {
        "colab": {
          "base_uri": "https://localhost:8080/"
        },
        "id": "BKJdA5ma1hGU",
        "outputId": "8d0e5d1b-8d85-448f-c3e1-33a191aab23b"
      },
      "source": [
        "dados[\"Idade\"].min()"
      ],
      "execution_count": null,
      "outputs": [
        {
          "output_type": "execute_result",
          "data": {
            "text/plain": [
              "13"
            ]
          },
          "metadata": {
            "tags": []
          },
          "execution_count": 9
        }
      ]
    },
    {
      "cell_type": "code",
      "metadata": {
        "colab": {
          "base_uri": "https://localhost:8080/"
        },
        "id": "CLwUpvuW1zOr",
        "outputId": "76826284-64d4-465c-d14b-5b4aa42072bc"
      },
      "source": [
        "dados[\"Idade\"].max()"
      ],
      "execution_count": null,
      "outputs": [
        {
          "output_type": "execute_result",
          "data": {
            "text/plain": [
              "99"
            ]
          },
          "metadata": {
            "tags": []
          },
          "execution_count": 10
        }
      ]
    },
    {
      "cell_type": "markdown",
      "metadata": {
        "id": "nFdLrqrk16UD"
      },
      "source": [
        "*Variáveis qualitativas contínuas*"
      ]
    },
    {
      "cell_type": "code",
      "metadata": {
        "colab": {
          "base_uri": "https://localhost:8080/"
        },
        "id": "80baPePL2WKi",
        "outputId": "14828d91-f399-4b67-f696-342737d8e546"
      },
      "source": [
        "dados[\"Altura\"].min()"
      ],
      "execution_count": null,
      "outputs": [
        {
          "output_type": "execute_result",
          "data": {
            "text/plain": [
              "1.339244614"
            ]
          },
          "metadata": {
            "tags": []
          },
          "execution_count": 11
        }
      ]
    },
    {
      "cell_type": "code",
      "metadata": {
        "colab": {
          "base_uri": "https://localhost:8080/"
        },
        "id": "Cu-1fRF52jL5",
        "outputId": "50f0497f-b67c-4533-d17c-4220bdb94cce"
      },
      "source": [
        "dados[\"Altura\"].max()"
      ],
      "execution_count": null,
      "outputs": [
        {
          "output_type": "execute_result",
          "data": {
            "text/plain": [
              "2.028496765"
            ]
          },
          "metadata": {
            "tags": []
          },
          "execution_count": 12
        }
      ]
    },
    {
      "cell_type": "markdown",
      "metadata": {
        "id": "nIEiWatG3WbT"
      },
      "source": [
        "# **02. Distribuicao de frequência**"
      ]
    },
    {
      "cell_type": "markdown",
      "metadata": {
        "id": "yIep5UhR3d8u"
      },
      "source": [
        "**Distribuição de frequências qualitativas - Método 1**"
      ]
    },
    {
      "cell_type": "code",
      "metadata": {
        "colab": {
          "base_uri": "https://localhost:8080/"
        },
        "id": "3nXeaDRs4alu",
        "outputId": "daf02461-16fd-44be-82f3-f93a368cc8d6"
      },
      "source": [
        "dados[\"Sexo\"].value_counts()"
      ],
      "execution_count": null,
      "outputs": [
        {
          "output_type": "execute_result",
          "data": {
            "text/plain": [
              "0    53250\n",
              "1    23590\n",
              "Name: Sexo, dtype: int64"
            ]
          },
          "metadata": {
            "tags": []
          },
          "execution_count": 13
        }
      ]
    },
    {
      "cell_type": "code",
      "metadata": {
        "colab": {
          "base_uri": "https://localhost:8080/"
        },
        "id": "pN-cPmkM4z5E",
        "outputId": "62ece99b-b322-4dfc-a883-25c64180fd7e"
      },
      "source": [
        "dados[\"Sexo\"].value_counts(normalize = True) * 100"
      ],
      "execution_count": null,
      "outputs": [
        {
          "output_type": "execute_result",
          "data": {
            "text/plain": [
              "0    69.299844\n",
              "1    30.700156\n",
              "Name: Sexo, dtype: float64"
            ]
          },
          "metadata": {
            "tags": []
          },
          "execution_count": 14
        }
      ]
    },
    {
      "cell_type": "code",
      "metadata": {
        "id": "QyRC6_up5G1Q"
      },
      "source": [
        "frequencia = dados[\"Sexo\"].value_counts()"
      ],
      "execution_count": null,
      "outputs": []
    },
    {
      "cell_type": "code",
      "metadata": {
        "id": "7bFaKbpt5I_b"
      },
      "source": [
        "percentual = dados[\"Sexo\"].value_counts(normalize = True) * 100"
      ],
      "execution_count": null,
      "outputs": []
    },
    {
      "cell_type": "code",
      "metadata": {
        "id": "SdrZFve25Nd9"
      },
      "source": [
        "dist_freq_qualitativas = pd.DataFrame({\"Frequencia\": frequencia, \"Percentual\": percentual})"
      ],
      "execution_count": null,
      "outputs": []
    },
    {
      "cell_type": "code",
      "metadata": {
        "colab": {
          "base_uri": "https://localhost:8080/",
          "height": 110
        },
        "id": "d6DfUyeD5tJ7",
        "outputId": "e79d0656-34bc-4b5d-93ff-04186edac4f9"
      },
      "source": [
        "dist_freq_qualitativas"
      ],
      "execution_count": null,
      "outputs": [
        {
          "output_type": "execute_result",
          "data": {
            "text/html": [
              "<div>\n",
              "<style scoped>\n",
              "    .dataframe tbody tr th:only-of-type {\n",
              "        vertical-align: middle;\n",
              "    }\n",
              "\n",
              "    .dataframe tbody tr th {\n",
              "        vertical-align: top;\n",
              "    }\n",
              "\n",
              "    .dataframe thead th {\n",
              "        text-align: right;\n",
              "    }\n",
              "</style>\n",
              "<table border=\"1\" class=\"dataframe\">\n",
              "  <thead>\n",
              "    <tr style=\"text-align: right;\">\n",
              "      <th></th>\n",
              "      <th>Frequencia</th>\n",
              "      <th>Percentual</th>\n",
              "    </tr>\n",
              "  </thead>\n",
              "  <tbody>\n",
              "    <tr>\n",
              "      <th>0</th>\n",
              "      <td>53250</td>\n",
              "      <td>69.299844</td>\n",
              "    </tr>\n",
              "    <tr>\n",
              "      <th>1</th>\n",
              "      <td>23590</td>\n",
              "      <td>30.700156</td>\n",
              "    </tr>\n",
              "  </tbody>\n",
              "</table>\n",
              "</div>"
            ],
            "text/plain": [
              "   Frequencia  Percentual\n",
              "0       53250   69.299844\n",
              "1       23590   30.700156"
            ]
          },
          "metadata": {
            "tags": []
          },
          "execution_count": 18
        }
      ]
    },
    {
      "cell_type": "code",
      "metadata": {
        "id": "hiIjcli451mi"
      },
      "source": [
        "dist_freq_qualitativas.rename(index={0 : \"Masculino\", 1 : \"Femenino\"}, inplace=True)"
      ],
      "execution_count": null,
      "outputs": []
    },
    {
      "cell_type": "code",
      "metadata": {
        "colab": {
          "base_uri": "https://localhost:8080/",
          "height": 110
        },
        "id": "y3cH8e8k6S0z",
        "outputId": "c0350d43-a287-4005-9489-2914205be874"
      },
      "source": [
        "dist_freq_qualitativas"
      ],
      "execution_count": null,
      "outputs": [
        {
          "output_type": "execute_result",
          "data": {
            "text/html": [
              "<div>\n",
              "<style scoped>\n",
              "    .dataframe tbody tr th:only-of-type {\n",
              "        vertical-align: middle;\n",
              "    }\n",
              "\n",
              "    .dataframe tbody tr th {\n",
              "        vertical-align: top;\n",
              "    }\n",
              "\n",
              "    .dataframe thead th {\n",
              "        text-align: right;\n",
              "    }\n",
              "</style>\n",
              "<table border=\"1\" class=\"dataframe\">\n",
              "  <thead>\n",
              "    <tr style=\"text-align: right;\">\n",
              "      <th></th>\n",
              "      <th>Frequencia</th>\n",
              "      <th>Percentual</th>\n",
              "    </tr>\n",
              "  </thead>\n",
              "  <tbody>\n",
              "    <tr>\n",
              "      <th>Masculino</th>\n",
              "      <td>53250</td>\n",
              "      <td>69.299844</td>\n",
              "    </tr>\n",
              "    <tr>\n",
              "      <th>Femenino</th>\n",
              "      <td>23590</td>\n",
              "      <td>30.700156</td>\n",
              "    </tr>\n",
              "  </tbody>\n",
              "</table>\n",
              "</div>"
            ],
            "text/plain": [
              "           Frequencia  Percentual\n",
              "Masculino       53250   69.299844\n",
              "Femenino        23590   30.700156"
            ]
          },
          "metadata": {
            "tags": []
          },
          "execution_count": 20
        }
      ]
    },
    {
      "cell_type": "markdown",
      "metadata": {
        "id": "CuHBa7y76vOb"
      },
      "source": [
        "**Distribuição de frequências qualitativas - Método 2**"
      ]
    },
    {
      "cell_type": "code",
      "metadata": {
        "id": "1mcaCpUj647T"
      },
      "source": [
        "sexo = {0: \"Masculino\",\n",
        "        1: \"Femenino\"}\n",
        "\n",
        "cor = {0: \"Indígena\",\n",
        "       2: \"Branca\",\n",
        "       4: \"Preta\",\n",
        "       6: \"Amarelo\",\n",
        "       8: \"Parda\",\n",
        "       9: \"Sem Declarção\"}"
      ],
      "execution_count": null,
      "outputs": []
    },
    {
      "cell_type": "code",
      "metadata": {
        "id": "aAKYYYtx9Idc"
      },
      "source": [
        "frequencia = pd.crosstab(dados[\"Sexo\"], dados[\"Cor\"])\n",
        "frequencia.rename(index= sexo, inplace=True)\n",
        "frequencia.rename(columns= cor, inplace=True)"
      ],
      "execution_count": null,
      "outputs": []
    },
    {
      "cell_type": "code",
      "metadata": {
        "colab": {
          "base_uri": "https://localhost:8080/",
          "height": 140
        },
        "id": "jni3NAYe9dtL",
        "outputId": "eb9a37c2-63cd-41cf-c6fd-b90154333285"
      },
      "source": [
        "frequencia"
      ],
      "execution_count": null,
      "outputs": [
        {
          "output_type": "execute_result",
          "data": {
            "text/html": [
              "<div>\n",
              "<style scoped>\n",
              "    .dataframe tbody tr th:only-of-type {\n",
              "        vertical-align: middle;\n",
              "    }\n",
              "\n",
              "    .dataframe tbody tr th {\n",
              "        vertical-align: top;\n",
              "    }\n",
              "\n",
              "    .dataframe thead th {\n",
              "        text-align: right;\n",
              "    }\n",
              "</style>\n",
              "<table border=\"1\" class=\"dataframe\">\n",
              "  <thead>\n",
              "    <tr style=\"text-align: right;\">\n",
              "      <th>Cor</th>\n",
              "      <th>Indígena</th>\n",
              "      <th>Branca</th>\n",
              "      <th>Preta</th>\n",
              "      <th>Amarelo</th>\n",
              "      <th>Parda</th>\n",
              "    </tr>\n",
              "    <tr>\n",
              "      <th>Sexo</th>\n",
              "      <th></th>\n",
              "      <th></th>\n",
              "      <th></th>\n",
              "      <th></th>\n",
              "      <th></th>\n",
              "    </tr>\n",
              "  </thead>\n",
              "  <tbody>\n",
              "    <tr>\n",
              "      <th>Masculino</th>\n",
              "      <td>256</td>\n",
              "      <td>22194</td>\n",
              "      <td>5502</td>\n",
              "      <td>235</td>\n",
              "      <td>25063</td>\n",
              "    </tr>\n",
              "    <tr>\n",
              "      <th>Femenino</th>\n",
              "      <td>101</td>\n",
              "      <td>9621</td>\n",
              "      <td>2889</td>\n",
              "      <td>117</td>\n",
              "      <td>10862</td>\n",
              "    </tr>\n",
              "  </tbody>\n",
              "</table>\n",
              "</div>"
            ],
            "text/plain": [
              "Cor        Indígena  Branca  Preta  Amarelo  Parda\n",
              "Sexo                                              \n",
              "Masculino       256   22194   5502      235  25063\n",
              "Femenino        101    9621   2889      117  10862"
            ]
          },
          "metadata": {
            "tags": []
          },
          "execution_count": 23
        }
      ]
    },
    {
      "cell_type": "code",
      "metadata": {
        "id": "HIJaPU7P9gpa"
      },
      "source": [
        "percentual = pd.crosstab(dados[\"Sexo\"], dados[\"Cor\"], normalize=True) * 100\n",
        "percentual.rename(index= sexo, inplace=True)\n",
        "percentual.rename(columns= cor, inplace=True)"
      ],
      "execution_count": null,
      "outputs": []
    },
    {
      "cell_type": "code",
      "metadata": {
        "colab": {
          "base_uri": "https://localhost:8080/",
          "height": 140
        },
        "id": "mO5dBLQO-NpK",
        "outputId": "d07625f7-67b8-4b1c-b518-33c22d34ee8f"
      },
      "source": [
        "percentual"
      ],
      "execution_count": null,
      "outputs": [
        {
          "output_type": "execute_result",
          "data": {
            "text/html": [
              "<div>\n",
              "<style scoped>\n",
              "    .dataframe tbody tr th:only-of-type {\n",
              "        vertical-align: middle;\n",
              "    }\n",
              "\n",
              "    .dataframe tbody tr th {\n",
              "        vertical-align: top;\n",
              "    }\n",
              "\n",
              "    .dataframe thead th {\n",
              "        text-align: right;\n",
              "    }\n",
              "</style>\n",
              "<table border=\"1\" class=\"dataframe\">\n",
              "  <thead>\n",
              "    <tr style=\"text-align: right;\">\n",
              "      <th>Cor</th>\n",
              "      <th>Indígena</th>\n",
              "      <th>Branca</th>\n",
              "      <th>Preta</th>\n",
              "      <th>Amarelo</th>\n",
              "      <th>Parda</th>\n",
              "    </tr>\n",
              "    <tr>\n",
              "      <th>Sexo</th>\n",
              "      <th></th>\n",
              "      <th></th>\n",
              "      <th></th>\n",
              "      <th></th>\n",
              "      <th></th>\n",
              "    </tr>\n",
              "  </thead>\n",
              "  <tbody>\n",
              "    <tr>\n",
              "      <th>Masculino</th>\n",
              "      <td>0.333160</td>\n",
              "      <td>28.883394</td>\n",
              "      <td>7.160333</td>\n",
              "      <td>0.305830</td>\n",
              "      <td>32.617126</td>\n",
              "    </tr>\n",
              "    <tr>\n",
              "      <th>Femenino</th>\n",
              "      <td>0.131442</td>\n",
              "      <td>12.520822</td>\n",
              "      <td>3.759761</td>\n",
              "      <td>0.152264</td>\n",
              "      <td>14.135867</td>\n",
              "    </tr>\n",
              "  </tbody>\n",
              "</table>\n",
              "</div>"
            ],
            "text/plain": [
              "Cor        Indígena     Branca     Preta   Amarelo      Parda\n",
              "Sexo                                                         \n",
              "Masculino  0.333160  28.883394  7.160333  0.305830  32.617126\n",
              "Femenino   0.131442  12.520822  3.759761  0.152264  14.135867"
            ]
          },
          "metadata": {
            "tags": []
          },
          "execution_count": 25
        }
      ]
    },
    {
      "cell_type": "markdown",
      "metadata": {
        "id": "jWYFKnuhAxpp"
      },
      "source": [
        "**Distribuição de frequências quantitativas - Classes personalizadas**"
      ]
    },
    {
      "cell_type": "code",
      "metadata": {
        "colab": {
          "base_uri": "https://localhost:8080/"
        },
        "id": "6-W1lURtAzuH",
        "outputId": "d0ae4715-a4db-4592-ba55-1906e9395069"
      },
      "source": [
        "dados[\"Renda\"].min()"
      ],
      "execution_count": null,
      "outputs": [
        {
          "output_type": "execute_result",
          "data": {
            "text/plain": [
              "0"
            ]
          },
          "metadata": {
            "tags": []
          },
          "execution_count": 26
        }
      ]
    },
    {
      "cell_type": "code",
      "metadata": {
        "colab": {
          "base_uri": "https://localhost:8080/"
        },
        "id": "N8wkrb3yBI5A",
        "outputId": "7d5dbd24-3836-4d40-edb0-0939a3660fe0"
      },
      "source": [
        "dados[\"Renda\"].max()"
      ],
      "execution_count": null,
      "outputs": [
        {
          "output_type": "execute_result",
          "data": {
            "text/plain": [
              "200000"
            ]
          },
          "metadata": {
            "tags": []
          },
          "execution_count": 27
        }
      ]
    },
    {
      "cell_type": "code",
      "metadata": {
        "id": "UvVGlZ-XBNNa"
      },
      "source": [
        "classes = [0, 1574, 7880, 15700, 2000000]"
      ],
      "execution_count": null,
      "outputs": []
    },
    {
      "cell_type": "code",
      "metadata": {
        "id": "XDAsqdPQB6Ca"
      },
      "source": [
        "labels = [\"E\", \"D\", \"C\", \"B\", \"A\"]"
      ],
      "execution_count": null,
      "outputs": []
    },
    {
      "cell_type": "code",
      "metadata": {
        "colab": {
          "base_uri": "https://localhost:8080/",
          "height": 362
        },
        "id": "wHSMhwi4CGlp",
        "outputId": "a036ef7b-47d0-49eb-b3e7-14411552691e"
      },
      "source": [
        "pd.cut(x = dados.Renda,\n",
        "        bins = classes,\n",
        "        labels = labels,\n",
        "        include_lowest = True)"
      ],
      "execution_count": null,
      "outputs": [
        {
          "output_type": "error",
          "ename": "ValueError",
          "evalue": "ignored",
          "traceback": [
            "\u001b[0;31m---------------------------------------------------------------------------\u001b[0m",
            "\u001b[0;31mValueError\u001b[0m                                Traceback (most recent call last)",
            "\u001b[0;32m<ipython-input-30-a6a1308fff0c>\u001b[0m in \u001b[0;36m<module>\u001b[0;34m()\u001b[0m\n\u001b[1;32m      2\u001b[0m         \u001b[0mbins\u001b[0m \u001b[0;34m=\u001b[0m \u001b[0mclasses\u001b[0m\u001b[0;34m,\u001b[0m\u001b[0;34m\u001b[0m\u001b[0;34m\u001b[0m\u001b[0m\n\u001b[1;32m      3\u001b[0m         \u001b[0mlabels\u001b[0m \u001b[0;34m=\u001b[0m \u001b[0mlabels\u001b[0m\u001b[0;34m,\u001b[0m\u001b[0;34m\u001b[0m\u001b[0;34m\u001b[0m\u001b[0m\n\u001b[0;32m----> 4\u001b[0;31m         include_lowest = True)\n\u001b[0m",
            "\u001b[0;32m/usr/local/lib/python3.6/dist-packages/pandas/core/reshape/tile.py\u001b[0m in \u001b[0;36mcut\u001b[0;34m(x, bins, right, labels, retbins, precision, include_lowest, duplicates, ordered)\u001b[0m\n\u001b[1;32m    282\u001b[0m         \u001b[0mdtype\u001b[0m\u001b[0;34m=\u001b[0m\u001b[0mdtype\u001b[0m\u001b[0;34m,\u001b[0m\u001b[0;34m\u001b[0m\u001b[0;34m\u001b[0m\u001b[0m\n\u001b[1;32m    283\u001b[0m         \u001b[0mduplicates\u001b[0m\u001b[0;34m=\u001b[0m\u001b[0mduplicates\u001b[0m\u001b[0;34m,\u001b[0m\u001b[0;34m\u001b[0m\u001b[0;34m\u001b[0m\u001b[0m\n\u001b[0;32m--> 284\u001b[0;31m         \u001b[0mordered\u001b[0m\u001b[0;34m=\u001b[0m\u001b[0mordered\u001b[0m\u001b[0;34m,\u001b[0m\u001b[0;34m\u001b[0m\u001b[0;34m\u001b[0m\u001b[0m\n\u001b[0m\u001b[1;32m    285\u001b[0m     )\n\u001b[1;32m    286\u001b[0m \u001b[0;34m\u001b[0m\u001b[0m\n",
            "\u001b[0;32m/usr/local/lib/python3.6/dist-packages/pandas/core/reshape/tile.py\u001b[0m in \u001b[0;36m_bins_to_cuts\u001b[0;34m(x, bins, right, labels, precision, include_lowest, dtype, duplicates, ordered)\u001b[0m\n\u001b[1;32m    433\u001b[0m             \u001b[0;32mif\u001b[0m \u001b[0mlen\u001b[0m\u001b[0;34m(\u001b[0m\u001b[0mlabels\u001b[0m\u001b[0;34m)\u001b[0m \u001b[0;34m!=\u001b[0m \u001b[0mlen\u001b[0m\u001b[0;34m(\u001b[0m\u001b[0mbins\u001b[0m\u001b[0;34m)\u001b[0m \u001b[0;34m-\u001b[0m \u001b[0;36m1\u001b[0m\u001b[0;34m:\u001b[0m\u001b[0;34m\u001b[0m\u001b[0;34m\u001b[0m\u001b[0m\n\u001b[1;32m    434\u001b[0m                 raise ValueError(\n\u001b[0;32m--> 435\u001b[0;31m                     \u001b[0;34m\"Bin labels must be one fewer than the number of bin edges\"\u001b[0m\u001b[0;34m\u001b[0m\u001b[0;34m\u001b[0m\u001b[0m\n\u001b[0m\u001b[1;32m    436\u001b[0m                 )\n\u001b[1;32m    437\u001b[0m         \u001b[0;32mif\u001b[0m \u001b[0;32mnot\u001b[0m \u001b[0mis_categorical_dtype\u001b[0m\u001b[0;34m(\u001b[0m\u001b[0mlabels\u001b[0m\u001b[0;34m)\u001b[0m\u001b[0;34m:\u001b[0m\u001b[0;34m\u001b[0m\u001b[0;34m\u001b[0m\u001b[0m\n",
            "\u001b[0;31mValueError\u001b[0m: Bin labels must be one fewer than the number of bin edges"
          ]
        }
      ]
    },
    {
      "cell_type": "markdown",
      "metadata": {
        "id": "ea39rEQ2F1Nw"
      },
      "source": [
        "**Distribuição de frequências quantitativas - Classes de amplitude fixa**"
      ]
    },
    {
      "cell_type": "code",
      "metadata": {
        "id": "BXtiOc7WGAhi"
      },
      "source": [
        "import numpy as np"
      ],
      "execution_count": null,
      "outputs": []
    },
    {
      "cell_type": "code",
      "metadata": {
        "id": "711QDvlgGEsn"
      },
      "source": [
        "n = dados.shape[0]\n",
        "n"
      ],
      "execution_count": null,
      "outputs": []
    },
    {
      "cell_type": "code",
      "metadata": {
        "id": "OXfN3aVAGM5x"
      },
      "source": [
        "k = 1 + (10/3) * np.log10(n)\n",
        "k"
      ],
      "execution_count": null,
      "outputs": []
    },
    {
      "cell_type": "markdown",
      "metadata": {
        "id": "R0AP_oXOGepj"
      },
      "source": [
        "**Histograma**"
      ]
    },
    {
      "cell_type": "code",
      "metadata": {
        "id": "jw_uMw1zIbfo"
      },
      "source": [
        "import seaborn as sns"
      ],
      "execution_count": null,
      "outputs": []
    },
    {
      "cell_type": "code",
      "metadata": {
        "id": "hMmN0Y5RIfi-"
      },
      "source": [
        "ax = sns.displot(dados[\"Altura\"], kde = False)"
      ],
      "execution_count": null,
      "outputs": []
    },
    {
      "cell_type": "code",
      "metadata": {
        "id": "9qhGLaxdI-fu"
      },
      "source": [
        "dados[\"Altura\"].hist(bins=50)"
      ],
      "execution_count": null,
      "outputs": []
    },
    {
      "cell_type": "markdown",
      "metadata": {
        "id": "koyCIPfpKFf8"
      },
      "source": [
        "# **03. Medidas de tendêcia central**"
      ]
    },
    {
      "cell_type": "markdown",
      "metadata": {
        "id": "rDSywOTRKSLS"
      },
      "source": [
        "**Média**"
      ]
    },
    {
      "cell_type": "code",
      "metadata": {
        "id": "UolHnrdcL7Yc",
        "colab": {
          "base_uri": "https://localhost:8080/",
          "height": 263
        },
        "outputId": "d190e003-3eda-497d-ead9-59db0294d338"
      },
      "source": [
        "df = pd.DataFrame(data = {\"Fulano\": [8, 10, 4, 8, 6, 10, 8],\n",
        "                         \"Beltrano\": [6, 5, 7, 10, 4, 5, 6],\n",
        "                         \"Sicrano\": [7, 5, 6, 5, 8, 5, 2]},\n",
        "                         index = [\"Matemática\",\n",
        "                                  \"Português\", \n",
        "                                  \"Inglês\", \n",
        "                                  \"Geografia\", \n",
        "                                  \"História\", \n",
        "                                  \"Física\", \n",
        "                                  \"Química\"] )\n",
        "df.rename_axis(\"Matérias\", axis= \"columns\", inplace=True)\n",
        "df"
      ],
      "execution_count": null,
      "outputs": [
        {
          "output_type": "execute_result",
          "data": {
            "text/html": [
              "<div>\n",
              "<style scoped>\n",
              "    .dataframe tbody tr th:only-of-type {\n",
              "        vertical-align: middle;\n",
              "    }\n",
              "\n",
              "    .dataframe tbody tr th {\n",
              "        vertical-align: top;\n",
              "    }\n",
              "\n",
              "    .dataframe thead th {\n",
              "        text-align: right;\n",
              "    }\n",
              "</style>\n",
              "<table border=\"1\" class=\"dataframe\">\n",
              "  <thead>\n",
              "    <tr style=\"text-align: right;\">\n",
              "      <th>Matérias</th>\n",
              "      <th>Fulano</th>\n",
              "      <th>Beltrano</th>\n",
              "      <th>Sicrano</th>\n",
              "    </tr>\n",
              "  </thead>\n",
              "  <tbody>\n",
              "    <tr>\n",
              "      <th>Matemática</th>\n",
              "      <td>8</td>\n",
              "      <td>6</td>\n",
              "      <td>7</td>\n",
              "    </tr>\n",
              "    <tr>\n",
              "      <th>Português</th>\n",
              "      <td>10</td>\n",
              "      <td>5</td>\n",
              "      <td>5</td>\n",
              "    </tr>\n",
              "    <tr>\n",
              "      <th>Inglês</th>\n",
              "      <td>4</td>\n",
              "      <td>7</td>\n",
              "      <td>6</td>\n",
              "    </tr>\n",
              "    <tr>\n",
              "      <th>Geografia</th>\n",
              "      <td>8</td>\n",
              "      <td>10</td>\n",
              "      <td>5</td>\n",
              "    </tr>\n",
              "    <tr>\n",
              "      <th>História</th>\n",
              "      <td>6</td>\n",
              "      <td>4</td>\n",
              "      <td>8</td>\n",
              "    </tr>\n",
              "    <tr>\n",
              "      <th>Física</th>\n",
              "      <td>10</td>\n",
              "      <td>5</td>\n",
              "      <td>5</td>\n",
              "    </tr>\n",
              "    <tr>\n",
              "      <th>Química</th>\n",
              "      <td>8</td>\n",
              "      <td>6</td>\n",
              "      <td>2</td>\n",
              "    </tr>\n",
              "  </tbody>\n",
              "</table>\n",
              "</div>"
            ],
            "text/plain": [
              "Matérias    Fulano  Beltrano  Sicrano\n",
              "Matemática       8         6        7\n",
              "Português       10         5        5\n",
              "Inglês           4         7        6\n",
              "Geografia        8        10        5\n",
              "História         6         4        8\n",
              "Física          10         5        5\n",
              "Química          8         6        2"
            ]
          },
          "metadata": {
            "tags": []
          },
          "execution_count": 56
        }
      ]
    },
    {
      "cell_type": "code",
      "metadata": {
        "colab": {
          "base_uri": "https://localhost:8080/"
        },
        "id": "_MIt2whFxHpQ",
        "outputId": "499e4149-83db-4550-bd54-5a3ae80bd3ec"
      },
      "source": [
        "df.mean()"
      ],
      "execution_count": null,
      "outputs": [
        {
          "output_type": "execute_result",
          "data": {
            "text/plain": [
              "Matérias\n",
              "Fulano      7.714286\n",
              "Beltrano    6.142857\n",
              "Sicrano     5.428571\n",
              "dtype: float64"
            ]
          },
          "metadata": {
            "tags": []
          },
          "execution_count": 57
        }
      ]
    },
    {
      "cell_type": "code",
      "metadata": {
        "colab": {
          "base_uri": "https://localhost:8080/"
        },
        "id": "yN3VEANyxfhp",
        "outputId": "6c4b201d-308c-474c-f2f8-41460aef960f"
      },
      "source": [
        "df[\"Fulano\"].mean()"
      ],
      "execution_count": null,
      "outputs": [
        {
          "output_type": "execute_result",
          "data": {
            "text/plain": [
              "7.714285714285714"
            ]
          },
          "metadata": {
            "tags": []
          },
          "execution_count": 58
        }
      ]
    },
    {
      "cell_type": "code",
      "metadata": {
        "colab": {
          "base_uri": "https://localhost:8080/",
          "height": 202
        },
        "id": "YGOuP6SNxnjQ",
        "outputId": "9a22d685-14eb-4f04-e2bd-563f505faa3d"
      },
      "source": [
        "dados.head()"
      ],
      "execution_count": null,
      "outputs": [
        {
          "output_type": "execute_result",
          "data": {
            "text/html": [
              "<div>\n",
              "<style scoped>\n",
              "    .dataframe tbody tr th:only-of-type {\n",
              "        vertical-align: middle;\n",
              "    }\n",
              "\n",
              "    .dataframe tbody tr th {\n",
              "        vertical-align: top;\n",
              "    }\n",
              "\n",
              "    .dataframe thead th {\n",
              "        text-align: right;\n",
              "    }\n",
              "</style>\n",
              "<table border=\"1\" class=\"dataframe\">\n",
              "  <thead>\n",
              "    <tr style=\"text-align: right;\">\n",
              "      <th></th>\n",
              "      <th>UF</th>\n",
              "      <th>Sexo</th>\n",
              "      <th>Idade</th>\n",
              "      <th>Cor</th>\n",
              "      <th>Anos de Estudo</th>\n",
              "      <th>Renda</th>\n",
              "      <th>Altura</th>\n",
              "    </tr>\n",
              "  </thead>\n",
              "  <tbody>\n",
              "    <tr>\n",
              "      <th>0</th>\n",
              "      <td>11</td>\n",
              "      <td>0</td>\n",
              "      <td>23</td>\n",
              "      <td>8</td>\n",
              "      <td>12</td>\n",
              "      <td>800</td>\n",
              "      <td>1.603808</td>\n",
              "    </tr>\n",
              "    <tr>\n",
              "      <th>1</th>\n",
              "      <td>11</td>\n",
              "      <td>1</td>\n",
              "      <td>23</td>\n",
              "      <td>2</td>\n",
              "      <td>12</td>\n",
              "      <td>1150</td>\n",
              "      <td>1.739790</td>\n",
              "    </tr>\n",
              "    <tr>\n",
              "      <th>2</th>\n",
              "      <td>11</td>\n",
              "      <td>1</td>\n",
              "      <td>35</td>\n",
              "      <td>8</td>\n",
              "      <td>15</td>\n",
              "      <td>880</td>\n",
              "      <td>1.760444</td>\n",
              "    </tr>\n",
              "    <tr>\n",
              "      <th>3</th>\n",
              "      <td>11</td>\n",
              "      <td>0</td>\n",
              "      <td>46</td>\n",
              "      <td>2</td>\n",
              "      <td>6</td>\n",
              "      <td>3500</td>\n",
              "      <td>1.783158</td>\n",
              "    </tr>\n",
              "    <tr>\n",
              "      <th>4</th>\n",
              "      <td>11</td>\n",
              "      <td>1</td>\n",
              "      <td>47</td>\n",
              "      <td>8</td>\n",
              "      <td>9</td>\n",
              "      <td>150</td>\n",
              "      <td>1.690631</td>\n",
              "    </tr>\n",
              "  </tbody>\n",
              "</table>\n",
              "</div>"
            ],
            "text/plain": [
              "   UF  Sexo  Idade  Cor  Anos de Estudo  Renda    Altura\n",
              "0  11     0     23    8              12    800  1.603808\n",
              "1  11     1     23    2              12   1150  1.739790\n",
              "2  11     1     35    8              15    880  1.760444\n",
              "3  11     0     46    2               6   3500  1.783158\n",
              "4  11     1     47    8               9    150  1.690631"
            ]
          },
          "metadata": {
            "tags": []
          },
          "execution_count": 59
        }
      ]
    },
    {
      "cell_type": "code",
      "metadata": {
        "colab": {
          "base_uri": "https://localhost:8080/",
          "height": 140
        },
        "id": "ksbvxCh5xqMy",
        "outputId": "625c9e83-4fb8-4e5e-bdcb-231f88ae3916"
      },
      "source": [
        "dados.groupby([\"Sexo\"]).mean()"
      ],
      "execution_count": null,
      "outputs": [
        {
          "output_type": "execute_result",
          "data": {
            "text/html": [
              "<div>\n",
              "<style scoped>\n",
              "    .dataframe tbody tr th:only-of-type {\n",
              "        vertical-align: middle;\n",
              "    }\n",
              "\n",
              "    .dataframe tbody tr th {\n",
              "        vertical-align: top;\n",
              "    }\n",
              "\n",
              "    .dataframe thead th {\n",
              "        text-align: right;\n",
              "    }\n",
              "</style>\n",
              "<table border=\"1\" class=\"dataframe\">\n",
              "  <thead>\n",
              "    <tr style=\"text-align: right;\">\n",
              "      <th></th>\n",
              "      <th>UF</th>\n",
              "      <th>Idade</th>\n",
              "      <th>Cor</th>\n",
              "      <th>Anos de Estudo</th>\n",
              "      <th>Renda</th>\n",
              "      <th>Altura</th>\n",
              "    </tr>\n",
              "    <tr>\n",
              "      <th>Sexo</th>\n",
              "      <th></th>\n",
              "      <th></th>\n",
              "      <th></th>\n",
              "      <th></th>\n",
              "      <th></th>\n",
              "      <th></th>\n",
              "    </tr>\n",
              "  </thead>\n",
              "  <tbody>\n",
              "    <tr>\n",
              "      <th>0</th>\n",
              "      <td>31.901991</td>\n",
              "      <td>44.046554</td>\n",
              "      <td>5.038685</td>\n",
              "      <td>9.120169</td>\n",
              "      <td>2192.441596</td>\n",
              "      <td>1.699443</td>\n",
              "    </tr>\n",
              "    <tr>\n",
              "      <th>1</th>\n",
              "      <td>31.937728</td>\n",
              "      <td>44.127554</td>\n",
              "      <td>5.018906</td>\n",
              "      <td>10.258584</td>\n",
              "      <td>1566.847393</td>\n",
              "      <td>1.699670</td>\n",
              "    </tr>\n",
              "  </tbody>\n",
              "</table>\n",
              "</div>"
            ],
            "text/plain": [
              "             UF      Idade       Cor  Anos de Estudo        Renda    Altura\n",
              "Sexo                                                                       \n",
              "0     31.901991  44.046554  5.038685        9.120169  2192.441596  1.699443\n",
              "1     31.937728  44.127554  5.018906       10.258584  1566.847393  1.699670"
            ]
          },
          "metadata": {
            "tags": []
          },
          "execution_count": 60
        }
      ]
    },
    {
      "cell_type": "code",
      "metadata": {
        "colab": {
          "base_uri": "https://localhost:8080/"
        },
        "id": "8AiI6-0ZyAWa",
        "outputId": "2142beb7-0d00-4dcb-f820-4f6df1b5c796"
      },
      "source": [
        "dados.groupby([\"Sexo\"])[\"Renda\"].mean()"
      ],
      "execution_count": null,
      "outputs": [
        {
          "output_type": "execute_result",
          "data": {
            "text/plain": [
              "Sexo\n",
              "0    2192.441596\n",
              "1    1566.847393\n",
              "Name: Renda, dtype: float64"
            ]
          },
          "metadata": {
            "tags": []
          },
          "execution_count": 61
        }
      ]
    },
    {
      "cell_type": "markdown",
      "metadata": {
        "id": "grszW39dyD0N"
      },
      "source": [
        "**Mediana**"
      ]
    },
    {
      "cell_type": "code",
      "metadata": {
        "id": "9H06Lm3cyVqn"
      },
      "source": [
        "df"
      ],
      "execution_count": null,
      "outputs": []
    },
    {
      "cell_type": "code",
      "metadata": {
        "id": "anlUm80Sz7XD"
      },
      "source": [
        "notas_fulano = df[\"Fulano\"]\n",
        "notas_fulano"
      ],
      "execution_count": null,
      "outputs": []
    },
    {
      "cell_type": "code",
      "metadata": {
        "id": "5GA8H7Ra0E5b"
      },
      "source": [
        "notas_fulano.median()"
      ],
      "execution_count": null,
      "outputs": []
    },
    {
      "cell_type": "markdown",
      "metadata": {
        "id": "dsCmQ_D01HrG"
      },
      "source": [
        "**Moda e sua definição**"
      ]
    },
    {
      "cell_type": "code",
      "metadata": {
        "id": "EokEndWY1MmF"
      },
      "source": [
        "df"
      ],
      "execution_count": null,
      "outputs": []
    },
    {
      "cell_type": "code",
      "metadata": {
        "id": "jkAlk2a_1Q0l"
      },
      "source": [
        "df.mode()"
      ],
      "execution_count": null,
      "outputs": []
    },
    {
      "cell_type": "code",
      "metadata": {
        "id": "MCoAWuyY1l3F"
      },
      "source": [
        "dados[\"Renda\"].mode()"
      ],
      "execution_count": null,
      "outputs": []
    },
    {
      "cell_type": "markdown",
      "metadata": {
        "id": "NL2DJgKC2Ass"
      },
      "source": [
        "# **04. Medidas seperatizes**"
      ]
    },
    {
      "cell_type": "markdown",
      "metadata": {
        "id": "p77zpjqj4UhO"
      },
      "source": [
        "**Quartis, decis e percentis**"
      ]
    },
    {
      "cell_type": "code",
      "metadata": {
        "colab": {
          "base_uri": "https://localhost:8080/",
          "height": 202
        },
        "id": "YXLT0upxLywN",
        "outputId": "5fe377ea-6d3b-44c5-f747-13eca330b4fc"
      },
      "source": [
        "dados.head()"
      ],
      "execution_count": null,
      "outputs": [
        {
          "output_type": "execute_result",
          "data": {
            "text/html": [
              "<div>\n",
              "<style scoped>\n",
              "    .dataframe tbody tr th:only-of-type {\n",
              "        vertical-align: middle;\n",
              "    }\n",
              "\n",
              "    .dataframe tbody tr th {\n",
              "        vertical-align: top;\n",
              "    }\n",
              "\n",
              "    .dataframe thead th {\n",
              "        text-align: right;\n",
              "    }\n",
              "</style>\n",
              "<table border=\"1\" class=\"dataframe\">\n",
              "  <thead>\n",
              "    <tr style=\"text-align: right;\">\n",
              "      <th></th>\n",
              "      <th>UF</th>\n",
              "      <th>Sexo</th>\n",
              "      <th>Idade</th>\n",
              "      <th>Cor</th>\n",
              "      <th>Anos de Estudo</th>\n",
              "      <th>Renda</th>\n",
              "      <th>Altura</th>\n",
              "    </tr>\n",
              "  </thead>\n",
              "  <tbody>\n",
              "    <tr>\n",
              "      <th>0</th>\n",
              "      <td>11</td>\n",
              "      <td>0</td>\n",
              "      <td>23</td>\n",
              "      <td>8</td>\n",
              "      <td>12</td>\n",
              "      <td>800</td>\n",
              "      <td>1.603808</td>\n",
              "    </tr>\n",
              "    <tr>\n",
              "      <th>1</th>\n",
              "      <td>11</td>\n",
              "      <td>1</td>\n",
              "      <td>23</td>\n",
              "      <td>2</td>\n",
              "      <td>12</td>\n",
              "      <td>1150</td>\n",
              "      <td>1.739790</td>\n",
              "    </tr>\n",
              "    <tr>\n",
              "      <th>2</th>\n",
              "      <td>11</td>\n",
              "      <td>1</td>\n",
              "      <td>35</td>\n",
              "      <td>8</td>\n",
              "      <td>15</td>\n",
              "      <td>880</td>\n",
              "      <td>1.760444</td>\n",
              "    </tr>\n",
              "    <tr>\n",
              "      <th>3</th>\n",
              "      <td>11</td>\n",
              "      <td>0</td>\n",
              "      <td>46</td>\n",
              "      <td>2</td>\n",
              "      <td>6</td>\n",
              "      <td>3500</td>\n",
              "      <td>1.783158</td>\n",
              "    </tr>\n",
              "    <tr>\n",
              "      <th>4</th>\n",
              "      <td>11</td>\n",
              "      <td>1</td>\n",
              "      <td>47</td>\n",
              "      <td>8</td>\n",
              "      <td>9</td>\n",
              "      <td>150</td>\n",
              "      <td>1.690631</td>\n",
              "    </tr>\n",
              "  </tbody>\n",
              "</table>\n",
              "</div>"
            ],
            "text/plain": [
              "   UF  Sexo  Idade  Cor  Anos de Estudo  Renda    Altura\n",
              "0  11     0     23    8              12    800  1.603808\n",
              "1  11     1     23    2              12   1150  1.739790\n",
              "2  11     1     35    8              15    880  1.760444\n",
              "3  11     0     46    2               6   3500  1.783158\n",
              "4  11     1     47    8               9    150  1.690631"
            ]
          },
          "metadata": {
            "tags": []
          },
          "execution_count": 31
        }
      ]
    },
    {
      "cell_type": "code",
      "metadata": {
        "colab": {
          "base_uri": "https://localhost:8080/"
        },
        "id": "Ew-ufQ_BMZnF",
        "outputId": "38f93f56-9259-4556-bc5b-a7ea7a26e765"
      },
      "source": [
        "dados[\"Renda\"].median()"
      ],
      "execution_count": null,
      "outputs": [
        {
          "output_type": "execute_result",
          "data": {
            "text/plain": [
              "1200.0"
            ]
          },
          "metadata": {
            "tags": []
          },
          "execution_count": 33
        }
      ]
    },
    {
      "cell_type": "code",
      "metadata": {
        "colab": {
          "base_uri": "https://localhost:8080/"
        },
        "id": "rkxTymluMP2D",
        "outputId": "e7f918b8-f231-4852-b0f4-f8614c3f827f"
      },
      "source": [
        "dados[\"Renda\"].quantile([0.25, 0.5,0.75])"
      ],
      "execution_count": null,
      "outputs": [
        {
          "output_type": "execute_result",
          "data": {
            "text/plain": [
              "0.25     788.0\n",
              "0.50    1200.0\n",
              "0.75    2000.0\n",
              "Name: Renda, dtype: float64"
            ]
          },
          "metadata": {
            "tags": []
          },
          "execution_count": 34
        }
      ]
    },
    {
      "cell_type": "code",
      "metadata": {
        "colab": {
          "base_uri": "https://localhost:8080/"
        },
        "id": "fLnIkR0DMobF",
        "outputId": "60eec20d-85ad-40d6-cd68-2cfc41226bae"
      },
      "source": [
        "[i/10 for i in range(1, 10)]"
      ],
      "execution_count": null,
      "outputs": [
        {
          "output_type": "execute_result",
          "data": {
            "text/plain": [
              "[0.1, 0.2, 0.3, 0.4, 0.5, 0.6, 0.7, 0.8, 0.9]"
            ]
          },
          "metadata": {
            "tags": []
          },
          "execution_count": 37
        }
      ]
    },
    {
      "cell_type": "code",
      "metadata": {
        "colab": {
          "base_uri": "https://localhost:8080/"
        },
        "id": "pNN_Q35oM67W",
        "outputId": "eeb28b51-b11c-4350-bb2a-a0c5d1c7467c"
      },
      "source": [
        "dados[\"Renda\"].quantile([i/10 for i in range(1, 10)])"
      ],
      "execution_count": null,
      "outputs": [
        {
          "output_type": "execute_result",
          "data": {
            "text/plain": [
              "0.1     350.0\n",
              "0.2     788.0\n",
              "0.3     800.0\n",
              "0.4    1000.0\n",
              "0.5    1200.0\n",
              "0.6    1500.0\n",
              "0.7    1900.0\n",
              "0.8    2500.0\n",
              "0.9    4000.0\n",
              "Name: Renda, dtype: float64"
            ]
          },
          "metadata": {
            "tags": []
          },
          "execution_count": 38
        }
      ]
    },
    {
      "cell_type": "markdown",
      "metadata": {
        "id": "Nd7aYwFQNU3l"
      },
      "source": [
        "**Boxplot**"
      ]
    },
    {
      "cell_type": "markdown",
      "metadata": {
        "id": "292QHlEnSwj5"
      },
      "source": [
        "![image.png](data:image/png;base64,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)"
      ]
    },
    {
      "cell_type": "code",
      "metadata": {
        "id": "F9ptcNQHOntu"
      },
      "source": [
        "import seaborn as sns"
      ],
      "execution_count": null,
      "outputs": []
    },
    {
      "cell_type": "code",
      "metadata": {
        "colab": {
          "base_uri": "https://localhost:8080/",
          "height": 279
        },
        "id": "7lKfQSbjQbn7",
        "outputId": "4101dadb-609b-484f-a0dd-6453189f9452"
      },
      "source": [
        "ax =sns.boxplot(x=\"Altura\", data= dados, orient=\"h\")\n",
        "ax.figure.set_size_inches(12,4)"
      ],
      "execution_count": null,
      "outputs": [
        {
          "output_type": "display_data",
          "data": {
            "image/png": "[encoded data removed]",
            "text/plain": [
              "<Figure size 864x288 with 1 Axes>"
            ]
          },
          "metadata": {
            "tags": [],
            "needs_background": "light"
          }
        }
      ]
    },
    {
      "cell_type": "code",
      "metadata": {
        "colab": {
          "base_uri": "https://localhost:8080/",
          "height": 279
        },
        "id": "R-9M9GblRJt3",
        "outputId": "a22424e5-2250-4e4c-803a-756e9e1ebf71"
      },
      "source": [
        "ax =sns.boxplot(x=\"Altura\", y=\"Sexo\", data= dados, orient=\"h\")\n",
        "ax.figure.set_size_inches(12,4)"
      ],
      "execution_count": null,
      "outputs": [
        {
          "output_type": "display_data",
          "data": {
            "image/png": "[encoded data removed]",
            "text/plain": [
              "<Figure size 864x288 with 1 Axes>"
            ]
          },
          "metadata": {
            "tags": [],
            "needs_background": "light"
          }
        }
      ]
    },
    {
      "cell_type": "code",
      "metadata": {
        "colab": {
          "base_uri": "https://localhost:8080/",
          "height": 279
        },
        "id": "YuruPSbSRioq",
        "outputId": "9f5a1189-0954-4c22-9b9f-0a96b03ce912"
      },
      "source": [
        "ax =sns.boxplot(x=\"Renda\", data= dados.query(\"Renda<10000\"), orient=\"h\")\n",
        "ax.figure.set_size_inches(12,4)"
      ],
      "execution_count": null,
      "outputs": [
        {
          "output_type": "display_data",
          "data": {
            "image/png": "[encoded data removed]",
            "text/plain": [
              "<Figure size 864x288 with 1 Axes>"
            ]
          },
          "metadata": {
            "tags": [],
            "needs_background": "light"
          }
        }
      ]
    },
    {
      "cell_type": "code",
      "metadata": {
        "colab": {
          "base_uri": "https://localhost:8080/",
          "height": 279
        },
        "id": "YeeRohxqR15b",
        "outputId": "98afc5fe-8481-4b68-9f4a-21f8ec186b53"
      },
      "source": [
        "ax =sns.boxplot(x=\"Renda\", y=\"Sexo\", data= dados.query(\"Renda<10000\"), orient=\"h\")\n",
        "ax.figure.set_size_inches(12,4)"
      ],
      "execution_count": null,
      "outputs": [
        {
          "output_type": "display_data",
          "data": {
            "image/png": "[encoded data removed]",
            "text/plain": [
              "<Figure size 864x288 with 1 Axes>"
            ]
          },
          "metadata": {
            "tags": [],
            "needs_background": "light"
          }
        }
      ]
    },
    {
      "cell_type": "code",
      "metadata": {
        "colab": {
          "base_uri": "https://localhost:8080/",
          "height": 279
        },
        "id": "UPyCpoAhSDcQ",
        "outputId": "fa234482-e989-47c8-8a63-65f4a00c78f8"
      },
      "source": [
        "ax =sns.boxplot(x=\"Anos de Estudo\", data= dados, orient=\"h\")\n",
        "ax.figure.set_size_inches(12,4)"
      ],
      "execution_count": null,
      "outputs": [
        {
          "output_type": "display_data",
          "data": {
            "image/png": "[encoded data removed]",
            "text/plain": [
              "<Figure size 864x288 with 1 Axes>"
            ]
          },
          "metadata": {
            "tags": [],
            "needs_background": "light"
          }
        }
      ]
    },
    {
      "cell_type": "code",
      "metadata": {
        "colab": {
          "base_uri": "https://localhost:8080/",
          "height": 279
        },
        "id": "Usx3io_LSQrY",
        "outputId": "8ecc6780-2eed-4d43-864a-d4791c8efff7"
      },
      "source": [
        "ax =sns.boxplot(x=\"Anos de Estudo\", y=\"Sexo\", data= dados, orient=\"h\")\n",
        "ax.figure.set_size_inches(12,4)"
      ],
      "execution_count": null,
      "outputs": [
        {
          "output_type": "display_data",
          "data": {
            "image/png": "[encoded data removed]",
            "text/plain": [
              "<Figure size 864x288 with 1 Axes>"
            ]
          },
          "metadata": {
            "tags": [],
            "needs_background": "light"
          }
        }
      ]
    },
    {
      "cell_type": "markdown",
      "metadata": {
        "id": "gLbwEj3mSoOC"
      },
      "source": [
        "![image.png](data:image/png;base64,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)"
      ]
    },
    {
      "cell_type": "markdown",
      "metadata": {
        "id": "Ca-2WsxaTC20"
      },
      "source": [
        "# **05. Medidas de dispersão**"
      ]
    },
    {
      "cell_type": "markdown",
      "metadata": {
        "id": "J6ojmXvjTbNX"
      },
      "source": [
        "**Desvio médio absoluto**"
      ]
    },
    {
      "cell_type": "code",
      "metadata": {
        "colab": {
          "base_uri": "https://localhost:8080/",
          "height": 263
        },
        "id": "mmQJCoobV7bG",
        "outputId": "5079c916-4d70-428f-eb3e-ce88edeefbde"
      },
      "source": [
        "df"
      ],
      "execution_count": null,
      "outputs": [
        {
          "output_type": "execute_result",
          "data": {
            "text/html": [
              "<div>\n",
              "<style scoped>\n",
              "    .dataframe tbody tr th:only-of-type {\n",
              "        vertical-align: middle;\n",
              "    }\n",
              "\n",
              "    .dataframe tbody tr th {\n",
              "        vertical-align: top;\n",
              "    }\n",
              "\n",
              "    .dataframe thead th {\n",
              "        text-align: right;\n",
              "    }\n",
              "</style>\n",
              "<table border=\"1\" class=\"dataframe\">\n",
              "  <thead>\n",
              "    <tr style=\"text-align: right;\">\n",
              "      <th>Matérias</th>\n",
              "      <th>Fulano</th>\n",
              "      <th>Beltrano</th>\n",
              "      <th>Sicrano</th>\n",
              "    </tr>\n",
              "  </thead>\n",
              "  <tbody>\n",
              "    <tr>\n",
              "      <th>Matemática</th>\n",
              "      <td>8</td>\n",
              "      <td>6</td>\n",
              "      <td>7</td>\n",
              "    </tr>\n",
              "    <tr>\n",
              "      <th>Português</th>\n",
              "      <td>10</td>\n",
              "      <td>5</td>\n",
              "      <td>5</td>\n",
              "    </tr>\n",
              "    <tr>\n",
              "      <th>Inglês</th>\n",
              "      <td>4</td>\n",
              "      <td>7</td>\n",
              "      <td>6</td>\n",
              "    </tr>\n",
              "    <tr>\n",
              "      <th>Geografia</th>\n",
              "      <td>8</td>\n",
              "      <td>10</td>\n",
              "      <td>5</td>\n",
              "    </tr>\n",
              "    <tr>\n",
              "      <th>História</th>\n",
              "      <td>6</td>\n",
              "      <td>4</td>\n",
              "      <td>8</td>\n",
              "    </tr>\n",
              "    <tr>\n",
              "      <th>Física</th>\n",
              "      <td>10</td>\n",
              "      <td>5</td>\n",
              "      <td>5</td>\n",
              "    </tr>\n",
              "    <tr>\n",
              "      <th>Química</th>\n",
              "      <td>8</td>\n",
              "      <td>6</td>\n",
              "      <td>2</td>\n",
              "    </tr>\n",
              "  </tbody>\n",
              "</table>\n",
              "</div>"
            ],
            "text/plain": [
              "Matérias    Fulano  Beltrano  Sicrano\n",
              "Matemática       8         6        7\n",
              "Português       10         5        5\n",
              "Inglês           4         7        6\n",
              "Geografia        8        10        5\n",
              "História         6         4        8\n",
              "Física          10         5        5\n",
              "Química          8         6        2"
            ]
          },
          "metadata": {
            "tags": []
          },
          "execution_count": 62
        }
      ]
    },
    {
      "cell_type": "code",
      "metadata": {
        "colab": {
          "base_uri": "https://localhost:8080/"
        },
        "id": "u76zGwD2SsjB",
        "outputId": "6640f508-016c-4126-9922-e527fbe1b30a"
      },
      "source": [
        "df.mean()"
      ],
      "execution_count": null,
      "outputs": [
        {
          "output_type": "execute_result",
          "data": {
            "text/plain": [
              "Matérias\n",
              "Fulano      7.714286\n",
              "Beltrano    6.142857\n",
              "Sicrano     5.428571\n",
              "dtype: float64"
            ]
          },
          "metadata": {
            "tags": []
          },
          "execution_count": 63
        }
      ]
    },
    {
      "cell_type": "code",
      "metadata": {
        "colab": {
          "base_uri": "https://localhost:8080/"
        },
        "id": "mfQX8G1YWbgj",
        "outputId": "f453dcce-3f29-4e89-b462-1a4b7d06dad3"
      },
      "source": [
        "df.median()"
      ],
      "execution_count": null,
      "outputs": [
        {
          "output_type": "execute_result",
          "data": {
            "text/plain": [
              "Matérias\n",
              "Fulano      8.0\n",
              "Beltrano    6.0\n",
              "Sicrano     5.0\n",
              "dtype: float64"
            ]
          },
          "metadata": {
            "tags": []
          },
          "execution_count": 64
        }
      ]
    },
    {
      "cell_type": "code",
      "metadata": {
        "colab": {
          "base_uri": "https://localhost:8080/"
        },
        "id": "eKtld-MgWk_s",
        "outputId": "8305d31e-ca96-4547-b078-656155b7685c"
      },
      "source": [
        "notas_fulano = df['Fulano']\n",
        "notas_fulano"
      ],
      "execution_count": null,
      "outputs": [
        {
          "output_type": "execute_result",
          "data": {
            "text/plain": [
              "Matemática     8\n",
              "Português     10\n",
              "Inglês         4\n",
              "Geografia      8\n",
              "História       6\n",
              "Física        10\n",
              "Química        8\n",
              "Name: Fulano, dtype: int64"
            ]
          },
          "metadata": {
            "tags": []
          },
          "execution_count": 65
        }
      ]
    },
    {
      "cell_type": "code",
      "metadata": {
        "colab": {
          "base_uri": "https://localhost:8080/",
          "height": 263
        },
        "id": "unpB_C9cXplC",
        "outputId": "c0357c18-a307-4722-a778-ec397828d371"
      },
      "source": [
        "notas_fulano = df[['Fulano']]\n",
        "notas_fulano"
      ],
      "execution_count": null,
      "outputs": [
        {
          "output_type": "execute_result",
          "data": {
            "text/html": [
              "<div>\n",
              "<style scoped>\n",
              "    .dataframe tbody tr th:only-of-type {\n",
              "        vertical-align: middle;\n",
              "    }\n",
              "\n",
              "    .dataframe tbody tr th {\n",
              "        vertical-align: top;\n",
              "    }\n",
              "\n",
              "    .dataframe thead th {\n",
              "        text-align: right;\n",
              "    }\n",
              "</style>\n",
              "<table border=\"1\" class=\"dataframe\">\n",
              "  <thead>\n",
              "    <tr style=\"text-align: right;\">\n",
              "      <th>Matérias</th>\n",
              "      <th>Fulano</th>\n",
              "    </tr>\n",
              "  </thead>\n",
              "  <tbody>\n",
              "    <tr>\n",
              "      <th>Matemática</th>\n",
              "      <td>8</td>\n",
              "    </tr>\n",
              "    <tr>\n",
              "      <th>Português</th>\n",
              "      <td>10</td>\n",
              "    </tr>\n",
              "    <tr>\n",
              "      <th>Inglês</th>\n",
              "      <td>4</td>\n",
              "    </tr>\n",
              "    <tr>\n",
              "      <th>Geografia</th>\n",
              "      <td>8</td>\n",
              "    </tr>\n",
              "    <tr>\n",
              "      <th>História</th>\n",
              "      <td>6</td>\n",
              "    </tr>\n",
              "    <tr>\n",
              "      <th>Física</th>\n",
              "      <td>10</td>\n",
              "    </tr>\n",
              "    <tr>\n",
              "      <th>Química</th>\n",
              "      <td>8</td>\n",
              "    </tr>\n",
              "  </tbody>\n",
              "</table>\n",
              "</div>"
            ],
            "text/plain": [
              "Matérias    Fulano\n",
              "Matemática       8\n",
              "Português       10\n",
              "Inglês           4\n",
              "Geografia        8\n",
              "História         6\n",
              "Física          10\n",
              "Química          8"
            ]
          },
          "metadata": {
            "tags": []
          },
          "execution_count": 66
        }
      ]
    },
    {
      "cell_type": "code",
      "metadata": {
        "colab": {
          "base_uri": "https://localhost:8080/"
        },
        "id": "TJLzDPDHXsqG",
        "outputId": "8adda994-114b-42ea-94a7-903792aee2dd"
      },
      "source": [
        "nota_media_fulano = notas_fulano.mean()[0]\n",
        "nota_media_fulano"
      ],
      "execution_count": null,
      "outputs": [
        {
          "output_type": "execute_result",
          "data": {
            "text/plain": [
              "7.714285714285714"
            ]
          },
          "metadata": {
            "tags": []
          },
          "execution_count": 67
        }
      ]
    },
    {
      "cell_type": "code",
      "metadata": {
        "colab": {
          "base_uri": "https://localhost:8080/",
          "height": 387
        },
        "id": "LigKTjiuXvOK",
        "outputId": "c19dbff6-102b-4c31-ad75-3146a62230e1"
      },
      "source": [
        "notas_fulano['Desvio'] = notas_fulano['Fulano'] - nota_media_fulano\n",
        "notas_fulano"
      ],
      "execution_count": null,
      "outputs": [
        {
          "output_type": "stream",
          "text": [
            "/usr/local/lib/python3.6/dist-packages/ipykernel_launcher.py:1: SettingWithCopyWarning: \n",
            "A value is trying to be set on a copy of a slice from a DataFrame.\n",
            "Try using .loc[row_indexer,col_indexer] = value instead\n",
            "\n",
            "See the caveats in the documentation: https://pandas.pydata.org/pandas-docs/stable/user_guide/indexing.html#returning-a-view-versus-a-copy\n",
            "  \"\"\"Entry point for launching an IPython kernel.\n"
          ],
          "name": "stderr"
        },
        {
          "output_type": "execute_result",
          "data": {
            "text/html": [
              "<div>\n",
              "<style scoped>\n",
              "    .dataframe tbody tr th:only-of-type {\n",
              "        vertical-align: middle;\n",
              "    }\n",
              "\n",
              "    .dataframe tbody tr th {\n",
              "        vertical-align: top;\n",
              "    }\n",
              "\n",
              "    .dataframe thead th {\n",
              "        text-align: right;\n",
              "    }\n",
              "</style>\n",
              "<table border=\"1\" class=\"dataframe\">\n",
              "  <thead>\n",
              "    <tr style=\"text-align: right;\">\n",
              "      <th>Matérias</th>\n",
              "      <th>Fulano</th>\n",
              "      <th>Desvio</th>\n",
              "    </tr>\n",
              "  </thead>\n",
              "  <tbody>\n",
              "    <tr>\n",
              "      <th>Matemática</th>\n",
              "      <td>8</td>\n",
              "      <td>0.285714</td>\n",
              "    </tr>\n",
              "    <tr>\n",
              "      <th>Português</th>\n",
              "      <td>10</td>\n",
              "      <td>2.285714</td>\n",
              "    </tr>\n",
              "    <tr>\n",
              "      <th>Inglês</th>\n",
              "      <td>4</td>\n",
              "      <td>-3.714286</td>\n",
              "    </tr>\n",
              "    <tr>\n",
              "      <th>Geografia</th>\n",
              "      <td>8</td>\n",
              "      <td>0.285714</td>\n",
              "    </tr>\n",
              "    <tr>\n",
              "      <th>História</th>\n",
              "      <td>6</td>\n",
              "      <td>-1.714286</td>\n",
              "    </tr>\n",
              "    <tr>\n",
              "      <th>Física</th>\n",
              "      <td>10</td>\n",
              "      <td>2.285714</td>\n",
              "    </tr>\n",
              "    <tr>\n",
              "      <th>Química</th>\n",
              "      <td>8</td>\n",
              "      <td>0.285714</td>\n",
              "    </tr>\n",
              "  </tbody>\n",
              "</table>\n",
              "</div>"
            ],
            "text/plain": [
              "Matérias    Fulano    Desvio\n",
              "Matemática       8  0.285714\n",
              "Português       10  2.285714\n",
              "Inglês           4 -3.714286\n",
              "Geografia        8  0.285714\n",
              "História         6 -1.714286\n",
              "Física          10  2.285714\n",
              "Química          8  0.285714"
            ]
          },
          "metadata": {
            "tags": []
          },
          "execution_count": 68
        }
      ]
    },
    {
      "cell_type": "code",
      "metadata": {
        "colab": {
          "base_uri": "https://localhost:8080/"
        },
        "id": "oW3ZC23LXy-g",
        "outputId": "ac586eed-2d72-4b0f-b66e-78efff299916"
      },
      "source": [
        "notas_fulano['Desvio'].sum()"
      ],
      "execution_count": null,
      "outputs": [
        {
          "output_type": "execute_result",
          "data": {
            "text/plain": [
              "-8.881784197001252e-16"
            ]
          },
          "metadata": {
            "tags": []
          },
          "execution_count": 69
        }
      ]
    },
    {
      "cell_type": "code",
      "metadata": {
        "colab": {
          "base_uri": "https://localhost:8080/",
          "height": 263
        },
        "id": "IVoT0jwKX21L",
        "outputId": "59e4c9d7-03d2-4b00-892c-baf51a148cb4"
      },
      "source": [
        "notas_fulano['|Desvio|'] = notas_fulano['Desvio'].abs()\n",
        "notas_fulano"
      ],
      "execution_count": null,
      "outputs": [
        {
          "output_type": "execute_result",
          "data": {
            "text/html": [
              "<div>\n",
              "<style scoped>\n",
              "    .dataframe tbody tr th:only-of-type {\n",
              "        vertical-align: middle;\n",
              "    }\n",
              "\n",
              "    .dataframe tbody tr th {\n",
              "        vertical-align: top;\n",
              "    }\n",
              "\n",
              "    .dataframe thead th {\n",
              "        text-align: right;\n",
              "    }\n",
              "</style>\n",
              "<table border=\"1\" class=\"dataframe\">\n",
              "  <thead>\n",
              "    <tr style=\"text-align: right;\">\n",
              "      <th>Matérias</th>\n",
              "      <th>Fulano</th>\n",
              "      <th>Desvio</th>\n",
              "      <th>|Desvio|</th>\n",
              "    </tr>\n",
              "  </thead>\n",
              "  <tbody>\n",
              "    <tr>\n",
              "      <th>Matemática</th>\n",
              "      <td>8</td>\n",
              "      <td>0.285714</td>\n",
              "      <td>0.285714</td>\n",
              "    </tr>\n",
              "    <tr>\n",
              "      <th>Português</th>\n",
              "      <td>10</td>\n",
              "      <td>2.285714</td>\n",
              "      <td>2.285714</td>\n",
              "    </tr>\n",
              "    <tr>\n",
              "      <th>Inglês</th>\n",
              "      <td>4</td>\n",
              "      <td>-3.714286</td>\n",
              "      <td>3.714286</td>\n",
              "    </tr>\n",
              "    <tr>\n",
              "      <th>Geografia</th>\n",
              "      <td>8</td>\n",
              "      <td>0.285714</td>\n",
              "      <td>0.285714</td>\n",
              "    </tr>\n",
              "    <tr>\n",
              "      <th>História</th>\n",
              "      <td>6</td>\n",
              "      <td>-1.714286</td>\n",
              "      <td>1.714286</td>\n",
              "    </tr>\n",
              "    <tr>\n",
              "      <th>Física</th>\n",
              "      <td>10</td>\n",
              "      <td>2.285714</td>\n",
              "      <td>2.285714</td>\n",
              "    </tr>\n",
              "    <tr>\n",
              "      <th>Química</th>\n",
              "      <td>8</td>\n",
              "      <td>0.285714</td>\n",
              "      <td>0.285714</td>\n",
              "    </tr>\n",
              "  </tbody>\n",
              "</table>\n",
              "</div>"
            ],
            "text/plain": [
              "Matérias    Fulano    Desvio  |Desvio|\n",
              "Matemática       8  0.285714  0.285714\n",
              "Português       10  2.285714  2.285714\n",
              "Inglês           4 -3.714286  3.714286\n",
              "Geografia        8  0.285714  0.285714\n",
              "História         6 -1.714286  1.714286\n",
              "Física          10  2.285714  2.285714\n",
              "Química          8  0.285714  0.285714"
            ]
          },
          "metadata": {
            "tags": []
          },
          "execution_count": 70
        }
      ]
    },
    {
      "cell_type": "markdown",
      "metadata": {
        "id": "BCN7ckm2X5y7"
      },
      "source": [
        "**Variância**"
      ]
    },
    {
      "cell_type": "code",
      "metadata": {
        "colab": {
          "base_uri": "https://localhost:8080/",
          "height": 263
        },
        "id": "UD0gOe7gbhDZ",
        "outputId": "93606d0c-510d-4c91-9736-588dd2b89d48"
      },
      "source": [
        "df"
      ],
      "execution_count": null,
      "outputs": [
        {
          "output_type": "execute_result",
          "data": {
            "text/html": [
              "<div>\n",
              "<style scoped>\n",
              "    .dataframe tbody tr th:only-of-type {\n",
              "        vertical-align: middle;\n",
              "    }\n",
              "\n",
              "    .dataframe tbody tr th {\n",
              "        vertical-align: top;\n",
              "    }\n",
              "\n",
              "    .dataframe thead th {\n",
              "        text-align: right;\n",
              "    }\n",
              "</style>\n",
              "<table border=\"1\" class=\"dataframe\">\n",
              "  <thead>\n",
              "    <tr style=\"text-align: right;\">\n",
              "      <th>Matérias</th>\n",
              "      <th>Fulano</th>\n",
              "      <th>Beltrano</th>\n",
              "      <th>Sicrano</th>\n",
              "    </tr>\n",
              "  </thead>\n",
              "  <tbody>\n",
              "    <tr>\n",
              "      <th>Matemática</th>\n",
              "      <td>8</td>\n",
              "      <td>6</td>\n",
              "      <td>7</td>\n",
              "    </tr>\n",
              "    <tr>\n",
              "      <th>Português</th>\n",
              "      <td>10</td>\n",
              "      <td>5</td>\n",
              "      <td>5</td>\n",
              "    </tr>\n",
              "    <tr>\n",
              "      <th>Inglês</th>\n",
              "      <td>4</td>\n",
              "      <td>7</td>\n",
              "      <td>6</td>\n",
              "    </tr>\n",
              "    <tr>\n",
              "      <th>Geografia</th>\n",
              "      <td>8</td>\n",
              "      <td>10</td>\n",
              "      <td>5</td>\n",
              "    </tr>\n",
              "    <tr>\n",
              "      <th>História</th>\n",
              "      <td>6</td>\n",
              "      <td>4</td>\n",
              "      <td>8</td>\n",
              "    </tr>\n",
              "    <tr>\n",
              "      <th>Física</th>\n",
              "      <td>10</td>\n",
              "      <td>5</td>\n",
              "      <td>5</td>\n",
              "    </tr>\n",
              "    <tr>\n",
              "      <th>Química</th>\n",
              "      <td>8</td>\n",
              "      <td>6</td>\n",
              "      <td>2</td>\n",
              "    </tr>\n",
              "  </tbody>\n",
              "</table>\n",
              "</div>"
            ],
            "text/plain": [
              "Matérias    Fulano  Beltrano  Sicrano\n",
              "Matemática       8         6        7\n",
              "Português       10         5        5\n",
              "Inglês           4         7        6\n",
              "Geografia        8        10        5\n",
              "História         6         4        8\n",
              "Física          10         5        5\n",
              "Química          8         6        2"
            ]
          },
          "metadata": {
            "tags": []
          },
          "execution_count": 76
        }
      ]
    },
    {
      "cell_type": "code",
      "metadata": {
        "colab": {
          "base_uri": "https://localhost:8080/",
          "height": 263
        },
        "id": "vOohfYFqbk_T",
        "outputId": "04f2587b-3526-4c24-ac4c-c0576789fe13"
      },
      "source": [
        "notas_fulano[\"(Desvio)^2\"] = notas_fulano[\"Desvio\"].pow(2) \n",
        "notas_fulano"
      ],
      "execution_count": null,
      "outputs": [
        {
          "output_type": "execute_result",
          "data": {
            "text/html": [
              "<div>\n",
              "<style scoped>\n",
              "    .dataframe tbody tr th:only-of-type {\n",
              "        vertical-align: middle;\n",
              "    }\n",
              "\n",
              "    .dataframe tbody tr th {\n",
              "        vertical-align: top;\n",
              "    }\n",
              "\n",
              "    .dataframe thead th {\n",
              "        text-align: right;\n",
              "    }\n",
              "</style>\n",
              "<table border=\"1\" class=\"dataframe\">\n",
              "  <thead>\n",
              "    <tr style=\"text-align: right;\">\n",
              "      <th>Matérias</th>\n",
              "      <th>Fulano</th>\n",
              "      <th>Desvio</th>\n",
              "      <th>|Desvio|</th>\n",
              "      <th>(Desvio)^2</th>\n",
              "    </tr>\n",
              "  </thead>\n",
              "  <tbody>\n",
              "    <tr>\n",
              "      <th>Matemática</th>\n",
              "      <td>8</td>\n",
              "      <td>0.285714</td>\n",
              "      <td>0.285714</td>\n",
              "      <td>0.081633</td>\n",
              "    </tr>\n",
              "    <tr>\n",
              "      <th>Português</th>\n",
              "      <td>10</td>\n",
              "      <td>2.285714</td>\n",
              "      <td>2.285714</td>\n",
              "      <td>5.224490</td>\n",
              "    </tr>\n",
              "    <tr>\n",
              "      <th>Inglês</th>\n",
              "      <td>4</td>\n",
              "      <td>-3.714286</td>\n",
              "      <td>3.714286</td>\n",
              "      <td>13.795918</td>\n",
              "    </tr>\n",
              "    <tr>\n",
              "      <th>Geografia</th>\n",
              "      <td>8</td>\n",
              "      <td>0.285714</td>\n",
              "      <td>0.285714</td>\n",
              "      <td>0.081633</td>\n",
              "    </tr>\n",
              "    <tr>\n",
              "      <th>História</th>\n",
              "      <td>6</td>\n",
              "      <td>-1.714286</td>\n",
              "      <td>1.714286</td>\n",
              "      <td>2.938776</td>\n",
              "    </tr>\n",
              "    <tr>\n",
              "      <th>Física</th>\n",
              "      <td>10</td>\n",
              "      <td>2.285714</td>\n",
              "      <td>2.285714</td>\n",
              "      <td>5.224490</td>\n",
              "    </tr>\n",
              "    <tr>\n",
              "      <th>Química</th>\n",
              "      <td>8</td>\n",
              "      <td>0.285714</td>\n",
              "      <td>0.285714</td>\n",
              "      <td>0.081633</td>\n",
              "    </tr>\n",
              "  </tbody>\n",
              "</table>\n",
              "</div>"
            ],
            "text/plain": [
              "Matérias    Fulano    Desvio  |Desvio|  (Desvio)^2\n",
              "Matemática       8  0.285714  0.285714    0.081633\n",
              "Português       10  2.285714  2.285714    5.224490\n",
              "Inglês           4 -3.714286  3.714286   13.795918\n",
              "Geografia        8  0.285714  0.285714    0.081633\n",
              "História         6 -1.714286  1.714286    2.938776\n",
              "Física          10  2.285714  2.285714    5.224490\n",
              "Química          8  0.285714  0.285714    0.081633"
            ]
          },
          "metadata": {
            "tags": []
          },
          "execution_count": 79
        }
      ]
    },
    {
      "cell_type": "code",
      "metadata": {
        "colab": {
          "base_uri": "https://localhost:8080/"
        },
        "id": "v5zZ_9gScUkb",
        "outputId": "3ef0ae0e-a512-4b56-bbc8-1b948af2d04e"
      },
      "source": [
        "notas_fulano[\"(Desvio)^2\"].sum() / (len(notas_fulano) - 1)"
      ],
      "execution_count": null,
      "outputs": [
        {
          "output_type": "execute_result",
          "data": {
            "text/plain": [
              "4.57142857142857"
            ]
          },
          "metadata": {
            "tags": []
          },
          "execution_count": 80
        }
      ]
    },
    {
      "cell_type": "code",
      "metadata": {
        "colab": {
          "base_uri": "https://localhost:8080/"
        },
        "id": "O234FEtZcjb1",
        "outputId": "00b6ee03-0b7e-41a9-fc4c-4c6094cf2a3d"
      },
      "source": [
        "variancia = notas_fulano[\"Fulano\"].var()\n",
        "variancia "
      ],
      "execution_count": null,
      "outputs": [
        {
          "output_type": "execute_result",
          "data": {
            "text/plain": [
              "4.57142857142857"
            ]
          },
          "metadata": {
            "tags": []
          },
          "execution_count": 83
        }
      ]
    },
    {
      "cell_type": "markdown",
      "metadata": {
        "id": "IS7S9Y-JdEvS"
      },
      "source": [
        "**Desvio padrão**"
      ]
    },
    {
      "cell_type": "code",
      "metadata": {
        "id": "xDkXhooBi1hX"
      },
      "source": [
        "import numpy as np"
      ],
      "execution_count": null,
      "outputs": []
    },
    {
      "cell_type": "code",
      "metadata": {
        "colab": {
          "base_uri": "https://localhost:8080/"
        },
        "id": "EmjK74cRdJzO",
        "outputId": "3600690f-07d6-4da1-9f4a-3ace4e06481c"
      },
      "source": [
        "np.sqrt(variancia)"
      ],
      "execution_count": null,
      "outputs": [
        {
          "output_type": "execute_result",
          "data": {
            "text/plain": [
              "2.1380899352993947"
            ]
          },
          "metadata": {
            "tags": []
          },
          "execution_count": 87
        }
      ]
    },
    {
      "cell_type": "code",
      "metadata": {
        "colab": {
          "base_uri": "https://localhost:8080/"
        },
        "id": "7BCFFnpIi_IP",
        "outputId": "3960679a-16b1-427c-b42c-96be8872d5e8"
      },
      "source": [
        "desvio_padrao = notas_fulano[\"Fulano\"].std()\n",
        "desvio_padrao"
      ],
      "execution_count": null,
      "outputs": [
        {
          "output_type": "execute_result",
          "data": {
            "text/plain": [
              "2.1380899352993947"
            ]
          },
          "metadata": {
            "tags": []
          },
          "execution_count": 89
        }
      ]
    },
    {
      "cell_type": "code",
      "metadata": {
        "colab": {
          "base_uri": "https://localhost:8080/",
          "height": 263
        },
        "id": "_4TCf3SejTVi",
        "outputId": "400f594c-4828-4141-fcf0-f966e004bd79"
      },
      "source": [
        "df"
      ],
      "execution_count": null,
      "outputs": [
        {
          "output_type": "execute_result",
          "data": {
            "text/html": [
              "<div>\n",
              "<style scoped>\n",
              "    .dataframe tbody tr th:only-of-type {\n",
              "        vertical-align: middle;\n",
              "    }\n",
              "\n",
              "    .dataframe tbody tr th {\n",
              "        vertical-align: top;\n",
              "    }\n",
              "\n",
              "    .dataframe thead th {\n",
              "        text-align: right;\n",
              "    }\n",
              "</style>\n",
              "<table border=\"1\" class=\"dataframe\">\n",
              "  <thead>\n",
              "    <tr style=\"text-align: right;\">\n",
              "      <th>Matérias</th>\n",
              "      <th>Fulano</th>\n",
              "      <th>Beltrano</th>\n",
              "      <th>Sicrano</th>\n",
              "    </tr>\n",
              "  </thead>\n",
              "  <tbody>\n",
              "    <tr>\n",
              "      <th>Matemática</th>\n",
              "      <td>8</td>\n",
              "      <td>6</td>\n",
              "      <td>7</td>\n",
              "    </tr>\n",
              "    <tr>\n",
              "      <th>Português</th>\n",
              "      <td>10</td>\n",
              "      <td>5</td>\n",
              "      <td>5</td>\n",
              "    </tr>\n",
              "    <tr>\n",
              "      <th>Inglês</th>\n",
              "      <td>4</td>\n",
              "      <td>7</td>\n",
              "      <td>6</td>\n",
              "    </tr>\n",
              "    <tr>\n",
              "      <th>Geografia</th>\n",
              "      <td>8</td>\n",
              "      <td>10</td>\n",
              "      <td>5</td>\n",
              "    </tr>\n",
              "    <tr>\n",
              "      <th>História</th>\n",
              "      <td>6</td>\n",
              "      <td>4</td>\n",
              "      <td>8</td>\n",
              "    </tr>\n",
              "    <tr>\n",
              "      <th>Física</th>\n",
              "      <td>10</td>\n",
              "      <td>5</td>\n",
              "      <td>5</td>\n",
              "    </tr>\n",
              "    <tr>\n",
              "      <th>Química</th>\n",
              "      <td>8</td>\n",
              "      <td>6</td>\n",
              "      <td>2</td>\n",
              "    </tr>\n",
              "  </tbody>\n",
              "</table>\n",
              "</div>"
            ],
            "text/plain": [
              "Matérias    Fulano  Beltrano  Sicrano\n",
              "Matemática       8         6        7\n",
              "Português       10         5        5\n",
              "Inglês           4         7        6\n",
              "Geografia        8        10        5\n",
              "História         6         4        8\n",
              "Física          10         5        5\n",
              "Química          8         6        2"
            ]
          },
          "metadata": {
            "tags": []
          },
          "execution_count": 90
        }
      ]
    },
    {
      "cell_type": "code",
      "metadata": {
        "colab": {
          "base_uri": "https://localhost:8080/"
        },
        "id": "xiRxAYRyjdEU",
        "outputId": "a7a7df8b-5c62-4a22-9eb6-fc408514f99b"
      },
      "source": [
        "df.mean()"
      ],
      "execution_count": null,
      "outputs": [
        {
          "output_type": "execute_result",
          "data": {
            "text/plain": [
              "Matérias\n",
              "Fulano      7.714286\n",
              "Beltrano    6.142857\n",
              "Sicrano     5.428571\n",
              "dtype: float64"
            ]
          },
          "metadata": {
            "tags": []
          },
          "execution_count": 91
        }
      ]
    },
    {
      "cell_type": "code",
      "metadata": {
        "colab": {
          "base_uri": "https://localhost:8080/"
        },
        "id": "4qyQlIGYjgrT",
        "outputId": "5defe3a2-7a89-4783-81a1-171f3d886ba7"
      },
      "source": [
        "df.median()"
      ],
      "execution_count": null,
      "outputs": [
        {
          "output_type": "execute_result",
          "data": {
            "text/plain": [
              "Matérias\n",
              "Fulano      8.0\n",
              "Beltrano    6.0\n",
              "Sicrano     5.0\n",
              "dtype: float64"
            ]
          },
          "metadata": {
            "tags": []
          },
          "execution_count": 93
        }
      ]
    },
    {
      "cell_type": "code",
      "metadata": {
        "colab": {
          "base_uri": "https://localhost:8080/",
          "height": 110
        },
        "id": "xvGcTtvmjkap",
        "outputId": "96683861-b9f9-471a-9bc6-3d0d64437789"
      },
      "source": [
        "df.mode()"
      ],
      "execution_count": null,
      "outputs": [
        {
          "output_type": "execute_result",
          "data": {
            "text/html": [
              "<div>\n",
              "<style scoped>\n",
              "    .dataframe tbody tr th:only-of-type {\n",
              "        vertical-align: middle;\n",
              "    }\n",
              "\n",
              "    .dataframe tbody tr th {\n",
              "        vertical-align: top;\n",
              "    }\n",
              "\n",
              "    .dataframe thead th {\n",
              "        text-align: right;\n",
              "    }\n",
              "</style>\n",
              "<table border=\"1\" class=\"dataframe\">\n",
              "  <thead>\n",
              "    <tr style=\"text-align: right;\">\n",
              "      <th>Matérias</th>\n",
              "      <th>Fulano</th>\n",
              "      <th>Beltrano</th>\n",
              "      <th>Sicrano</th>\n",
              "    </tr>\n",
              "  </thead>\n",
              "  <tbody>\n",
              "    <tr>\n",
              "      <th>0</th>\n",
              "      <td>8.0</td>\n",
              "      <td>5</td>\n",
              "      <td>5.0</td>\n",
              "    </tr>\n",
              "    <tr>\n",
              "      <th>1</th>\n",
              "      <td>NaN</td>\n",
              "      <td>6</td>\n",
              "      <td>NaN</td>\n",
              "    </tr>\n",
              "  </tbody>\n",
              "</table>\n",
              "</div>"
            ],
            "text/plain": [
              "Matérias  Fulano  Beltrano  Sicrano\n",
              "0            8.0         5      5.0\n",
              "1            NaN         6      NaN"
            ]
          },
          "metadata": {
            "tags": []
          },
          "execution_count": 94
        }
      ]
    },
    {
      "cell_type": "code",
      "metadata": {
        "colab": {
          "base_uri": "https://localhost:8080/"
        },
        "id": "bYfLn-mcjqh5",
        "outputId": "18131acc-9918-4f7f-9601-8f7015d3ab28"
      },
      "source": [
        "df.std()"
      ],
      "execution_count": null,
      "outputs": [
        {
          "output_type": "execute_result",
          "data": {
            "text/plain": [
              "Matérias\n",
              "Fulano      2.138090\n",
              "Beltrano    1.951800\n",
              "Sicrano     1.902379\n",
              "dtype: float64"
            ]
          },
          "metadata": {
            "tags": []
          },
          "execution_count": 95
        }
      ]
    }
  ]
}