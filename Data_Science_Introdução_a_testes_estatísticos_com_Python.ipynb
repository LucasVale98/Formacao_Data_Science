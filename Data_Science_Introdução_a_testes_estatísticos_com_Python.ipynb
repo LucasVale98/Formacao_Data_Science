{
  "nbformat": 4,
  "nbformat_minor": 0,
  "metadata": {
    "colab": {
      "name": "Data_Science_Introdução_a_testes_estatísticos_com_Python.ipynb",
      "provenance": [],
      "collapsed_sections": [],
      "include_colab_link": true
    },
    "kernelspec": {
      "name": "python3",
      "display_name": "Python 3"
    }
  },
  "cells": [
    {
      "cell_type": "markdown",
      "metadata": {
        "id": "view-in-github",
        "colab_type": "text"
      },
      "source": [
        "<a href=\"https://colab.research.google.com/github/LucasVale98/Formacao_Data_Science/blob/main/Data_Science_Introdu%C3%A7%C3%A3o_a_testes_estat%C3%ADsticos_com_Python.ipynb\" target=\"_parent\"><img src=\"https://colab.research.google.com/assets/colab-badge.svg\" alt=\"Open In Colab\"/></a>"
      ]
    },
    {
      "cell_type": "code",
      "metadata": {
        "colab": {
          "base_uri": "https://localhost:8080/"
        },
        "id": "BeC-o0m4ZZw4",
        "outputId": "e504c134-b4f5-47e7-922c-72dae6b5eb90"
      },
      "source": [
        "from google.colab import drive\n",
        "drive.mount('/content/drive')\n",
        "path = '/content/drive/My Drive/datasets/alura_curssos/Data Science: Introdução a testes estatísticos com Python'"
      ],
      "execution_count": null,
      "outputs": [
        {
          "output_type": "stream",
          "text": [
            "Mounted at /content/drive\n"
          ],
          "name": "stdout"
        }
      ]
    },
    {
      "cell_type": "code",
      "metadata": {
        "id": "CJ-SuLBqYKgZ"
      },
      "source": [
        "import pandas as pd"
      ],
      "execution_count": null,
      "outputs": []
    },
    {
      "cell_type": "markdown",
      "metadata": {
        "id": "jedwtnbDZvub"
      },
      "source": [
        "# **01. Conhecendo os dados e explorando**"
      ]
    },
    {
      "cell_type": "markdown",
      "metadata": {
        "id": "NeKMegkSbvWQ"
      },
      "source": [
        "**Limpando os dados e visualizando uma distribuição**"
      ]
    },
    {
      "cell_type": "code",
      "metadata": {
        "id": "SdJEjoDjZ3D2"
      },
      "source": [
        "tmdb = pd.read_csv(path + '/tmdb_5000_movies.csv')"
      ],
      "execution_count": null,
      "outputs": []
    },
    {
      "cell_type": "code",
      "metadata": {
        "colab": {
          "base_uri": "https://localhost:8080/",
          "height": 724
        },
        "id": "lZKNj7cRcHBL",
        "outputId": "d8c8e741-9296-44af-b1fc-7c26015bb648"
      },
      "source": [
        "tmdb.head()"
      ],
      "execution_count": null,
      "outputs": [
        {
          "output_type": "execute_result",
          "data": {
            "text/html": [
              "<div>\n",
              "<style scoped>\n",
              "    .dataframe tbody tr th:only-of-type {\n",
              "        vertical-align: middle;\n",
              "    }\n",
              "\n",
              "    .dataframe tbody tr th {\n",
              "        vertical-align: top;\n",
              "    }\n",
              "\n",
              "    .dataframe thead th {\n",
              "        text-align: right;\n",
              "    }\n",
              "</style>\n",
              "<table border=\"1\" class=\"dataframe\">\n",
              "  <thead>\n",
              "    <tr style=\"text-align: right;\">\n",
              "      <th></th>\n",
              "      <th>budget</th>\n",
              "      <th>genres</th>\n",
              "      <th>homepage</th>\n",
              "      <th>id</th>\n",
              "      <th>keywords</th>\n",
              "      <th>original_language</th>\n",
              "      <th>original_title</th>\n",
              "      <th>overview</th>\n",
              "      <th>popularity</th>\n",
              "      <th>production_companies</th>\n",
              "      <th>production_countries</th>\n",
              "      <th>release_date</th>\n",
              "      <th>revenue</th>\n",
              "      <th>runtime</th>\n",
              "      <th>spoken_languages</th>\n",
              "      <th>status</th>\n",
              "      <th>tagline</th>\n",
              "      <th>title</th>\n",
              "      <th>vote_average</th>\n",
              "      <th>vote_count</th>\n",
              "    </tr>\n",
              "  </thead>\n",
              "  <tbody>\n",
              "    <tr>\n",
              "      <th>0</th>\n",
              "      <td>237000000</td>\n",
              "      <td>[{\"id\": 28, \"name\": \"Action\"}, {\"id\": 12, \"nam...</td>\n",
              "      <td>http://www.avatarmovie.com/</td>\n",
              "      <td>19995</td>\n",
              "      <td>[{\"id\": 1463, \"name\": \"culture clash\"}, {\"id\":...</td>\n",
              "      <td>en</td>\n",
              "      <td>Avatar</td>\n",
              "      <td>In the 22nd century, a paraplegic Marine is di...</td>\n",
              "      <td>150.437577</td>\n",
              "      <td>[{\"name\": \"Ingenious Film Partners\", \"id\": 289...</td>\n",
              "      <td>[{\"iso_3166_1\": \"US\", \"name\": \"United States o...</td>\n",
              "      <td>2009-12-10</td>\n",
              "      <td>2787965087</td>\n",
              "      <td>162.0</td>\n",
              "      <td>[{\"iso_639_1\": \"en\", \"name\": \"English\"}, {\"iso...</td>\n",
              "      <td>Released</td>\n",
              "      <td>Enter the World of Pandora.</td>\n",
              "      <td>Avatar</td>\n",
              "      <td>7.2</td>\n",
              "      <td>11800</td>\n",
              "    </tr>\n",
              "    <tr>\n",
              "      <th>1</th>\n",
              "      <td>300000000</td>\n",
              "      <td>[{\"id\": 12, \"name\": \"Adventure\"}, {\"id\": 14, \"...</td>\n",
              "      <td>http://disney.go.com/disneypictures/pirates/</td>\n",
              "      <td>285</td>\n",
              "      <td>[{\"id\": 270, \"name\": \"ocean\"}, {\"id\": 726, \"na...</td>\n",
              "      <td>en</td>\n",
              "      <td>Pirates of the Caribbean: At World's End</td>\n",
              "      <td>Captain Barbossa, long believed to be dead, ha...</td>\n",
              "      <td>139.082615</td>\n",
              "      <td>[{\"name\": \"Walt Disney Pictures\", \"id\": 2}, {\"...</td>\n",
              "      <td>[{\"iso_3166_1\": \"US\", \"name\": \"United States o...</td>\n",
              "      <td>2007-05-19</td>\n",
              "      <td>961000000</td>\n",
              "      <td>169.0</td>\n",
              "      <td>[{\"iso_639_1\": \"en\", \"name\": \"English\"}]</td>\n",
              "      <td>Released</td>\n",
              "      <td>At the end of the world, the adventure begins.</td>\n",
              "      <td>Pirates of the Caribbean: At World's End</td>\n",
              "      <td>6.9</td>\n",
              "      <td>4500</td>\n",
              "    </tr>\n",
              "    <tr>\n",
              "      <th>2</th>\n",
              "      <td>245000000</td>\n",
              "      <td>[{\"id\": 28, \"name\": \"Action\"}, {\"id\": 12, \"nam...</td>\n",
              "      <td>http://www.sonypictures.com/movies/spectre/</td>\n",
              "      <td>206647</td>\n",
              "      <td>[{\"id\": 470, \"name\": \"spy\"}, {\"id\": 818, \"name...</td>\n",
              "      <td>en</td>\n",
              "      <td>Spectre</td>\n",
              "      <td>A cryptic message from Bond’s past sends him o...</td>\n",
              "      <td>107.376788</td>\n",
              "      <td>[{\"name\": \"Columbia Pictures\", \"id\": 5}, {\"nam...</td>\n",
              "      <td>[{\"iso_3166_1\": \"GB\", \"name\": \"United Kingdom\"...</td>\n",
              "      <td>2015-10-26</td>\n",
              "      <td>880674609</td>\n",
              "      <td>148.0</td>\n",
              "      <td>[{\"iso_639_1\": \"fr\", \"name\": \"Fran\\u00e7ais\"},...</td>\n",
              "      <td>Released</td>\n",
              "      <td>A Plan No One Escapes</td>\n",
              "      <td>Spectre</td>\n",
              "      <td>6.3</td>\n",
              "      <td>4466</td>\n",
              "    </tr>\n",
              "    <tr>\n",
              "      <th>3</th>\n",
              "      <td>250000000</td>\n",
              "      <td>[{\"id\": 28, \"name\": \"Action\"}, {\"id\": 80, \"nam...</td>\n",
              "      <td>http://www.thedarkknightrises.com/</td>\n",
              "      <td>49026</td>\n",
              "      <td>[{\"id\": 849, \"name\": \"dc comics\"}, {\"id\": 853,...</td>\n",
              "      <td>en</td>\n",
              "      <td>The Dark Knight Rises</td>\n",
              "      <td>Following the death of District Attorney Harve...</td>\n",
              "      <td>112.312950</td>\n",
              "      <td>[{\"name\": \"Legendary Pictures\", \"id\": 923}, {\"...</td>\n",
              "      <td>[{\"iso_3166_1\": \"US\", \"name\": \"United States o...</td>\n",
              "      <td>2012-07-16</td>\n",
              "      <td>1084939099</td>\n",
              "      <td>165.0</td>\n",
              "      <td>[{\"iso_639_1\": \"en\", \"name\": \"English\"}]</td>\n",
              "      <td>Released</td>\n",
              "      <td>The Legend Ends</td>\n",
              "      <td>The Dark Knight Rises</td>\n",
              "      <td>7.6</td>\n",
              "      <td>9106</td>\n",
              "    </tr>\n",
              "    <tr>\n",
              "      <th>4</th>\n",
              "      <td>260000000</td>\n",
              "      <td>[{\"id\": 28, \"name\": \"Action\"}, {\"id\": 12, \"nam...</td>\n",
              "      <td>http://movies.disney.com/john-carter</td>\n",
              "      <td>49529</td>\n",
              "      <td>[{\"id\": 818, \"name\": \"based on novel\"}, {\"id\":...</td>\n",
              "      <td>en</td>\n",
              "      <td>John Carter</td>\n",
              "      <td>John Carter is a war-weary, former military ca...</td>\n",
              "      <td>43.926995</td>\n",
              "      <td>[{\"name\": \"Walt Disney Pictures\", \"id\": 2}]</td>\n",
              "      <td>[{\"iso_3166_1\": \"US\", \"name\": \"United States o...</td>\n",
              "      <td>2012-03-07</td>\n",
              "      <td>284139100</td>\n",
              "      <td>132.0</td>\n",
              "      <td>[{\"iso_639_1\": \"en\", \"name\": \"English\"}]</td>\n",
              "      <td>Released</td>\n",
              "      <td>Lost in our world, found in another.</td>\n",
              "      <td>John Carter</td>\n",
              "      <td>6.1</td>\n",
              "      <td>2124</td>\n",
              "    </tr>\n",
              "  </tbody>\n",
              "</table>\n",
              "</div>"
            ],
            "text/plain": [
              "      budget  ... vote_count\n",
              "0  237000000  ...      11800\n",
              "1  300000000  ...       4500\n",
              "2  245000000  ...       4466\n",
              "3  250000000  ...       9106\n",
              "4  260000000  ...       2124\n",
              "\n",
              "[5 rows x 20 columns]"
            ]
          },
          "metadata": {
            "tags": []
          },
          "execution_count": 4
        }
      ]
    },
    {
      "cell_type": "code",
      "metadata": {
        "colab": {
          "base_uri": "https://localhost:8080/",
          "height": 314
        },
        "id": "HuSc9HkccPWj",
        "outputId": "c146d805-2a78-4c78-acda-c180b3ca0318"
      },
      "source": [
        "tmdb.describe()"
      ],
      "execution_count": null,
      "outputs": [
        {
          "output_type": "execute_result",
          "data": {
            "text/html": [
              "<div>\n",
              "<style scoped>\n",
              "    .dataframe tbody tr th:only-of-type {\n",
              "        vertical-align: middle;\n",
              "    }\n",
              "\n",
              "    .dataframe tbody tr th {\n",
              "        vertical-align: top;\n",
              "    }\n",
              "\n",
              "    .dataframe thead th {\n",
              "        text-align: right;\n",
              "    }\n",
              "</style>\n",
              "<table border=\"1\" class=\"dataframe\">\n",
              "  <thead>\n",
              "    <tr style=\"text-align: right;\">\n",
              "      <th></th>\n",
              "      <th>budget</th>\n",
              "      <th>id</th>\n",
              "      <th>popularity</th>\n",
              "      <th>revenue</th>\n",
              "      <th>runtime</th>\n",
              "      <th>vote_average</th>\n",
              "      <th>vote_count</th>\n",
              "    </tr>\n",
              "  </thead>\n",
              "  <tbody>\n",
              "    <tr>\n",
              "      <th>count</th>\n",
              "      <td>4.803000e+03</td>\n",
              "      <td>4803.000000</td>\n",
              "      <td>4803.000000</td>\n",
              "      <td>4.803000e+03</td>\n",
              "      <td>4801.000000</td>\n",
              "      <td>4803.000000</td>\n",
              "      <td>4803.000000</td>\n",
              "    </tr>\n",
              "    <tr>\n",
              "      <th>mean</th>\n",
              "      <td>2.904504e+07</td>\n",
              "      <td>57165.484281</td>\n",
              "      <td>21.492301</td>\n",
              "      <td>8.226064e+07</td>\n",
              "      <td>106.875859</td>\n",
              "      <td>6.092172</td>\n",
              "      <td>690.217989</td>\n",
              "    </tr>\n",
              "    <tr>\n",
              "      <th>std</th>\n",
              "      <td>4.072239e+07</td>\n",
              "      <td>88694.614033</td>\n",
              "      <td>31.816650</td>\n",
              "      <td>1.628571e+08</td>\n",
              "      <td>22.611935</td>\n",
              "      <td>1.194612</td>\n",
              "      <td>1234.585891</td>\n",
              "    </tr>\n",
              "    <tr>\n",
              "      <th>min</th>\n",
              "      <td>0.000000e+00</td>\n",
              "      <td>5.000000</td>\n",
              "      <td>0.000000</td>\n",
              "      <td>0.000000e+00</td>\n",
              "      <td>0.000000</td>\n",
              "      <td>0.000000</td>\n",
              "      <td>0.000000</td>\n",
              "    </tr>\n",
              "    <tr>\n",
              "      <th>25%</th>\n",
              "      <td>7.900000e+05</td>\n",
              "      <td>9014.500000</td>\n",
              "      <td>4.668070</td>\n",
              "      <td>0.000000e+00</td>\n",
              "      <td>94.000000</td>\n",
              "      <td>5.600000</td>\n",
              "      <td>54.000000</td>\n",
              "    </tr>\n",
              "    <tr>\n",
              "      <th>50%</th>\n",
              "      <td>1.500000e+07</td>\n",
              "      <td>14629.000000</td>\n",
              "      <td>12.921594</td>\n",
              "      <td>1.917000e+07</td>\n",
              "      <td>103.000000</td>\n",
              "      <td>6.200000</td>\n",
              "      <td>235.000000</td>\n",
              "    </tr>\n",
              "    <tr>\n",
              "      <th>75%</th>\n",
              "      <td>4.000000e+07</td>\n",
              "      <td>58610.500000</td>\n",
              "      <td>28.313505</td>\n",
              "      <td>9.291719e+07</td>\n",
              "      <td>118.000000</td>\n",
              "      <td>6.800000</td>\n",
              "      <td>737.000000</td>\n",
              "    </tr>\n",
              "    <tr>\n",
              "      <th>max</th>\n",
              "      <td>3.800000e+08</td>\n",
              "      <td>459488.000000</td>\n",
              "      <td>875.581305</td>\n",
              "      <td>2.787965e+09</td>\n",
              "      <td>338.000000</td>\n",
              "      <td>10.000000</td>\n",
              "      <td>13752.000000</td>\n",
              "    </tr>\n",
              "  </tbody>\n",
              "</table>\n",
              "</div>"
            ],
            "text/plain": [
              "             budget             id  ...  vote_average    vote_count\n",
              "count  4.803000e+03    4803.000000  ...   4803.000000   4803.000000\n",
              "mean   2.904504e+07   57165.484281  ...      6.092172    690.217989\n",
              "std    4.072239e+07   88694.614033  ...      1.194612   1234.585891\n",
              "min    0.000000e+00       5.000000  ...      0.000000      0.000000\n",
              "25%    7.900000e+05    9014.500000  ...      5.600000     54.000000\n",
              "50%    1.500000e+07   14629.000000  ...      6.200000    235.000000\n",
              "75%    4.000000e+07   58610.500000  ...      6.800000    737.000000\n",
              "max    3.800000e+08  459488.000000  ...     10.000000  13752.000000\n",
              "\n",
              "[8 rows x 7 columns]"
            ]
          },
          "metadata": {
            "tags": []
          },
          "execution_count": 5
        }
      ]
    },
    {
      "cell_type": "code",
      "metadata": {
        "id": "3ycFgU-Gci-Y"
      },
      "source": [
        "import seaborn as sns"
      ],
      "execution_count": null,
      "outputs": []
    },
    {
      "cell_type": "code",
      "metadata": {
        "colab": {
          "base_uri": "https://localhost:8080/",
          "height": 367
        },
        "id": "aapwPSOncolH",
        "outputId": "b4cd17df-8065-4682-d26b-747ae2abde2c"
      },
      "source": [
        "ax = sns.distplot(tmdb[\"vote_average\"])\n",
        "ax.set(xlabel=\"Nota Média\", ylabel=\"Densidade\")\n",
        "ax.set_title(\"Média de votos em filme no TMDB 5000\")"
      ],
      "execution_count": null,
      "outputs": [
        {
          "output_type": "stream",
          "text": [
            "/usr/local/lib/python3.7/dist-packages/seaborn/distributions.py:2557: FutureWarning: `distplot` is a deprecated function and will be removed in a future version. Please adapt your code to use either `displot` (a figure-level function with similar flexibility) or `histplot` (an axes-level function for histograms).\n",
            "  warnings.warn(msg, FutureWarning)\n"
          ],
          "name": "stderr"
        },
        {
          "output_type": "execute_result",
          "data": {
            "text/plain": [
              "Text(0.5, 1.0, 'Média de votos em filme no TMDB 5000')"
            ]
          },
          "metadata": {
            "tags": []
          },
          "execution_count": 13
        },
        {
          "output_type": "display_data",
          "data": {
            "image/png": "[encoded data removed]",
            "text/plain": [
              "<Figure size 432x288 with 1 Axes>"
            ]
          },
          "metadata": {
            "tags": [],
            "needs_background": "light"
          }
        }
      ]
    },
    {
      "cell_type": "code",
      "metadata": {
        "colab": {
          "base_uri": "https://localhost:8080/",
          "height": 367
        },
        "id": "ZfDUC-yzdhe-",
        "outputId": "dd2970f7-aaf0-4f1b-e28b-5182f5e1f85f"
      },
      "source": [
        "ax = sns.distplot(tmdb[\"vote_average\"], norm_hist=False, kde=False)\n",
        "ax.set(xlabel=\"Nota Média\", ylabel=\"Frequência\")\n",
        "ax.set_title(\"Média de votos em filme no TMDB 5000\")"
      ],
      "execution_count": null,
      "outputs": [
        {
          "output_type": "stream",
          "text": [
            "/usr/local/lib/python3.7/dist-packages/seaborn/distributions.py:2557: FutureWarning: `distplot` is a deprecated function and will be removed in a future version. Please adapt your code to use either `displot` (a figure-level function with similar flexibility) or `histplot` (an axes-level function for histograms).\n",
            "  warnings.warn(msg, FutureWarning)\n"
          ],
          "name": "stderr"
        },
        {
          "output_type": "execute_result",
          "data": {
            "text/plain": [
              "Text(0.5, 1.0, 'Média de votos em filme no TMDB 5000')"
            ]
          },
          "metadata": {
            "tags": []
          },
          "execution_count": 15
        },
        {
          "output_type": "display_data",
          "data": {
            "image/png": "[encoded data removed]",
            "text/plain": [
              "<Figure size 432x288 with 1 Axes>"
            ]
          },
          "metadata": {
            "tags": [],
            "needs_background": "light"
          }
        }
      ]
    },
    {
      "cell_type": "code",
      "metadata": {
        "colab": {
          "base_uri": "https://localhost:8080/",
          "height": 367
        },
        "id": "qiqk_1J1d6uD",
        "outputId": "2057c9ad-3933-49d9-84a3-aea5a02b5df5"
      },
      "source": [
        "ax = sns.boxplot(tmdb[\"vote_average\"])\n",
        "ax.set(xlabel=\"Nota média do filme\")\n",
        "ax.set_title(\"Distribuição de mnota média dos filmes do TMDB 5000\")"
      ],
      "execution_count": null,
      "outputs": [
        {
          "output_type": "stream",
          "text": [
            "/usr/local/lib/python3.7/dist-packages/seaborn/_decorators.py:43: FutureWarning: Pass the following variable as a keyword arg: x. From version 0.12, the only valid positional argument will be `data`, and passing other arguments without an explicit keyword will result in an error or misinterpretation.\n",
            "  FutureWarning\n"
          ],
          "name": "stderr"
        },
        {
          "output_type": "execute_result",
          "data": {
            "text/plain": [
              "Text(0.5, 1.0, 'Distribuição de mnota média dos filmes do TMDB 5000')"
            ]
          },
          "metadata": {
            "tags": []
          },
          "execution_count": 19
        },
        {
          "output_type": "display_data",
          "data": {
            "image/png": "[encoded data removed]",
            "text/plain": [
              "<Figure size 432x288 with 1 Axes>"
            ]
          },
          "metadata": {
            "tags": [],
            "needs_background": "light"
          }
        }
      ]
    },
    {
      "cell_type": "markdown",
      "metadata": {
        "id": "LFfoERsBhL_o"
      },
      "source": [
        "Tem algo de estranho com esses dados.. não faz sentido filmes cuja nota média é 0 ou 10... vamos ver? "
      ]
    },
    {
      "cell_type": "code",
      "metadata": {
        "id": "67k2SM5ldcR4"
      },
      "source": [
        "tmdb_com_nota_0 = tmdb.query(\"vote_average == 0\")"
      ],
      "execution_count": null,
      "outputs": []
    },
    {
      "cell_type": "code",
      "metadata": {
        "colab": {
          "base_uri": "https://localhost:8080/",
          "height": 655
        },
        "id": "lECaMnZnguUD",
        "outputId": "9b53f5a3-041e-465b-8353-2d7f1a0f56a3"
      },
      "source": [
        "tmdb_com_nota_0.head()"
      ],
      "execution_count": null,
      "outputs": [
        {
          "output_type": "execute_result",
          "data": {
            "text/html": [
              "<div>\n",
              "<style scoped>\n",
              "    .dataframe tbody tr th:only-of-type {\n",
              "        vertical-align: middle;\n",
              "    }\n",
              "\n",
              "    .dataframe tbody tr th {\n",
              "        vertical-align: top;\n",
              "    }\n",
              "\n",
              "    .dataframe thead th {\n",
              "        text-align: right;\n",
              "    }\n",
              "</style>\n",
              "<table border=\"1\" class=\"dataframe\">\n",
              "  <thead>\n",
              "    <tr style=\"text-align: right;\">\n",
              "      <th></th>\n",
              "      <th>budget</th>\n",
              "      <th>genres</th>\n",
              "      <th>homepage</th>\n",
              "      <th>id</th>\n",
              "      <th>keywords</th>\n",
              "      <th>original_language</th>\n",
              "      <th>original_title</th>\n",
              "      <th>overview</th>\n",
              "      <th>popularity</th>\n",
              "      <th>production_companies</th>\n",
              "      <th>production_countries</th>\n",
              "      <th>release_date</th>\n",
              "      <th>revenue</th>\n",
              "      <th>runtime</th>\n",
              "      <th>spoken_languages</th>\n",
              "      <th>status</th>\n",
              "      <th>tagline</th>\n",
              "      <th>title</th>\n",
              "      <th>vote_average</th>\n",
              "      <th>vote_count</th>\n",
              "    </tr>\n",
              "  </thead>\n",
              "  <tbody>\n",
              "    <tr>\n",
              "      <th>1464</th>\n",
              "      <td>0</td>\n",
              "      <td>[{\"id\": 18, \"name\": \"Drama\"}, {\"id\": 80, \"name...</td>\n",
              "      <td>NaN</td>\n",
              "      <td>310706</td>\n",
              "      <td>[]</td>\n",
              "      <td>en</td>\n",
              "      <td>Black Water Transit</td>\n",
              "      <td>In this action thriller set in post-Katrina Ne...</td>\n",
              "      <td>0.126738</td>\n",
              "      <td>[{\"name\": \"Capitol Films\", \"id\": 826}]</td>\n",
              "      <td>[{\"iso_3166_1\": \"US\", \"name\": \"United States o...</td>\n",
              "      <td>2009-05-13</td>\n",
              "      <td>0</td>\n",
              "      <td>100.0</td>\n",
              "      <td>[{\"iso_639_1\": \"en\", \"name\": \"English\"}]</td>\n",
              "      <td>Released</td>\n",
              "      <td>NaN</td>\n",
              "      <td>Black Water Transit</td>\n",
              "      <td>0.0</td>\n",
              "      <td>0</td>\n",
              "    </tr>\n",
              "    <tr>\n",
              "      <th>3669</th>\n",
              "      <td>0</td>\n",
              "      <td>[{\"id\": 35, \"name\": \"Comedy\"}, {\"id\": 18, \"nam...</td>\n",
              "      <td>http://www.romeothemovie.com/</td>\n",
              "      <td>113406</td>\n",
              "      <td>[]</td>\n",
              "      <td>en</td>\n",
              "      <td>Should've Been Romeo</td>\n",
              "      <td>A self-centered, middle-aged pitchman for a po...</td>\n",
              "      <td>0.407030</td>\n",
              "      <td>[{\"name\": \"Phillybrook Films\", \"id\": 65147}]</td>\n",
              "      <td>[{\"iso_3166_1\": \"US\", \"name\": \"United States o...</td>\n",
              "      <td>2012-04-28</td>\n",
              "      <td>0</td>\n",
              "      <td>0.0</td>\n",
              "      <td>[{\"iso_639_1\": \"en\", \"name\": \"English\"}]</td>\n",
              "      <td>Released</td>\n",
              "      <td>Even Shakespeare didn't see this one coming.</td>\n",
              "      <td>Should've Been Romeo</td>\n",
              "      <td>0.0</td>\n",
              "      <td>0</td>\n",
              "    </tr>\n",
              "    <tr>\n",
              "      <th>3670</th>\n",
              "      <td>0</td>\n",
              "      <td>[{\"id\": 10751, \"name\": \"Family\"}]</td>\n",
              "      <td>NaN</td>\n",
              "      <td>447027</td>\n",
              "      <td>[]</td>\n",
              "      <td>en</td>\n",
              "      <td>Running Forever</td>\n",
              "      <td>After being estranged since her mother's death...</td>\n",
              "      <td>0.028756</td>\n",
              "      <td>[{\"name\": \"New Kingdom Pictures\", \"id\": 41671}]</td>\n",
              "      <td>[{\"iso_3166_1\": \"US\", \"name\": \"United States o...</td>\n",
              "      <td>2015-10-27</td>\n",
              "      <td>0</td>\n",
              "      <td>88.0</td>\n",
              "      <td>[]</td>\n",
              "      <td>Released</td>\n",
              "      <td>NaN</td>\n",
              "      <td>Running Forever</td>\n",
              "      <td>0.0</td>\n",
              "      <td>0</td>\n",
              "    </tr>\n",
              "    <tr>\n",
              "      <th>3852</th>\n",
              "      <td>0</td>\n",
              "      <td>[{\"id\": 18, \"name\": \"Drama\"}]</td>\n",
              "      <td>NaN</td>\n",
              "      <td>395766</td>\n",
              "      <td>[{\"id\": 11162, \"name\": \"miniseries\"}]</td>\n",
              "      <td>en</td>\n",
              "      <td>The Secret</td>\n",
              "      <td>The Secret is the story of a real-life double ...</td>\n",
              "      <td>0.042346</td>\n",
              "      <td>[]</td>\n",
              "      <td>[]</td>\n",
              "      <td>2016-04-29</td>\n",
              "      <td>0</td>\n",
              "      <td>200.0</td>\n",
              "      <td>[]</td>\n",
              "      <td>Released</td>\n",
              "      <td>NaN</td>\n",
              "      <td>The Secret</td>\n",
              "      <td>0.0</td>\n",
              "      <td>0</td>\n",
              "    </tr>\n",
              "    <tr>\n",
              "      <th>3855</th>\n",
              "      <td>3500000</td>\n",
              "      <td>[{\"id\": 99, \"name\": \"Documentary\"}]</td>\n",
              "      <td>http://www.timetochoose.com</td>\n",
              "      <td>370662</td>\n",
              "      <td>[{\"id\": 2210, \"name\": \"climate change\"}, {\"id\"...</td>\n",
              "      <td>en</td>\n",
              "      <td>Time to Choose</td>\n",
              "      <td>Academy Award® winning director Charles Fergus...</td>\n",
              "      <td>1.618138</td>\n",
              "      <td>[{\"name\": \"Representational Pictures\", \"id\": 8...</td>\n",
              "      <td>[{\"iso_3166_1\": \"US\", \"name\": \"United States o...</td>\n",
              "      <td>2015-09-04</td>\n",
              "      <td>0</td>\n",
              "      <td>100.0</td>\n",
              "      <td>[{\"iso_639_1\": \"en\", \"name\": \"English\"}]</td>\n",
              "      <td>Released</td>\n",
              "      <td>Climate change for good.</td>\n",
              "      <td>Time to Choose</td>\n",
              "      <td>0.0</td>\n",
              "      <td>0</td>\n",
              "    </tr>\n",
              "  </tbody>\n",
              "</table>\n",
              "</div>"
            ],
            "text/plain": [
              "       budget  ... vote_count\n",
              "1464        0  ...          0\n",
              "3669        0  ...          0\n",
              "3670        0  ...          0\n",
              "3852        0  ...          0\n",
              "3855  3500000  ...          0\n",
              "\n",
              "[5 rows x 20 columns]"
            ]
          },
          "metadata": {
            "tags": []
          },
          "execution_count": 27
        }
      ]
    },
    {
      "cell_type": "code",
      "metadata": {
        "id": "tFPGZFEbgF3l"
      },
      "source": [
        "tmdb_com_mais_de_10_voltos = tmdb.query(\"vote_count >= 10\")"
      ],
      "execution_count": null,
      "outputs": []
    },
    {
      "cell_type": "code",
      "metadata": {
        "colab": {
          "base_uri": "https://localhost:8080/",
          "height": 724
        },
        "id": "0PEIcB0Pg1tu",
        "outputId": "207ed487-2b57-4b75-fcc0-9497556542e2"
      },
      "source": [
        "tmdb_com_mais_de_10_voltos.head()"
      ],
      "execution_count": null,
      "outputs": [
        {
          "output_type": "execute_result",
          "data": {
            "text/html": [
              "<div>\n",
              "<style scoped>\n",
              "    .dataframe tbody tr th:only-of-type {\n",
              "        vertical-align: middle;\n",
              "    }\n",
              "\n",
              "    .dataframe tbody tr th {\n",
              "        vertical-align: top;\n",
              "    }\n",
              "\n",
              "    .dataframe thead th {\n",
              "        text-align: right;\n",
              "    }\n",
              "</style>\n",
              "<table border=\"1\" class=\"dataframe\">\n",
              "  <thead>\n",
              "    <tr style=\"text-align: right;\">\n",
              "      <th></th>\n",
              "      <th>budget</th>\n",
              "      <th>genres</th>\n",
              "      <th>homepage</th>\n",
              "      <th>id</th>\n",
              "      <th>keywords</th>\n",
              "      <th>original_language</th>\n",
              "      <th>original_title</th>\n",
              "      <th>overview</th>\n",
              "      <th>popularity</th>\n",
              "      <th>production_companies</th>\n",
              "      <th>production_countries</th>\n",
              "      <th>release_date</th>\n",
              "      <th>revenue</th>\n",
              "      <th>runtime</th>\n",
              "      <th>spoken_languages</th>\n",
              "      <th>status</th>\n",
              "      <th>tagline</th>\n",
              "      <th>title</th>\n",
              "      <th>vote_average</th>\n",
              "      <th>vote_count</th>\n",
              "    </tr>\n",
              "  </thead>\n",
              "  <tbody>\n",
              "    <tr>\n",
              "      <th>0</th>\n",
              "      <td>237000000</td>\n",
              "      <td>[{\"id\": 28, \"name\": \"Action\"}, {\"id\": 12, \"nam...</td>\n",
              "      <td>http://www.avatarmovie.com/</td>\n",
              "      <td>19995</td>\n",
              "      <td>[{\"id\": 1463, \"name\": \"culture clash\"}, {\"id\":...</td>\n",
              "      <td>en</td>\n",
              "      <td>Avatar</td>\n",
              "      <td>In the 22nd century, a paraplegic Marine is di...</td>\n",
              "      <td>150.437577</td>\n",
              "      <td>[{\"name\": \"Ingenious Film Partners\", \"id\": 289...</td>\n",
              "      <td>[{\"iso_3166_1\": \"US\", \"name\": \"United States o...</td>\n",
              "      <td>2009-12-10</td>\n",
              "      <td>2787965087</td>\n",
              "      <td>162.0</td>\n",
              "      <td>[{\"iso_639_1\": \"en\", \"name\": \"English\"}, {\"iso...</td>\n",
              "      <td>Released</td>\n",
              "      <td>Enter the World of Pandora.</td>\n",
              "      <td>Avatar</td>\n",
              "      <td>7.2</td>\n",
              "      <td>11800</td>\n",
              "    </tr>\n",
              "    <tr>\n",
              "      <th>1</th>\n",
              "      <td>300000000</td>\n",
              "      <td>[{\"id\": 12, \"name\": \"Adventure\"}, {\"id\": 14, \"...</td>\n",
              "      <td>http://disney.go.com/disneypictures/pirates/</td>\n",
              "      <td>285</td>\n",
              "      <td>[{\"id\": 270, \"name\": \"ocean\"}, {\"id\": 726, \"na...</td>\n",
              "      <td>en</td>\n",
              "      <td>Pirates of the Caribbean: At World's End</td>\n",
              "      <td>Captain Barbossa, long believed to be dead, ha...</td>\n",
              "      <td>139.082615</td>\n",
              "      <td>[{\"name\": \"Walt Disney Pictures\", \"id\": 2}, {\"...</td>\n",
              "      <td>[{\"iso_3166_1\": \"US\", \"name\": \"United States o...</td>\n",
              "      <td>2007-05-19</td>\n",
              "      <td>961000000</td>\n",
              "      <td>169.0</td>\n",
              "      <td>[{\"iso_639_1\": \"en\", \"name\": \"English\"}]</td>\n",
              "      <td>Released</td>\n",
              "      <td>At the end of the world, the adventure begins.</td>\n",
              "      <td>Pirates of the Caribbean: At World's End</td>\n",
              "      <td>6.9</td>\n",
              "      <td>4500</td>\n",
              "    </tr>\n",
              "    <tr>\n",
              "      <th>2</th>\n",
              "      <td>245000000</td>\n",
              "      <td>[{\"id\": 28, \"name\": \"Action\"}, {\"id\": 12, \"nam...</td>\n",
              "      <td>http://www.sonypictures.com/movies/spectre/</td>\n",
              "      <td>206647</td>\n",
              "      <td>[{\"id\": 470, \"name\": \"spy\"}, {\"id\": 818, \"name...</td>\n",
              "      <td>en</td>\n",
              "      <td>Spectre</td>\n",
              "      <td>A cryptic message from Bond’s past sends him o...</td>\n",
              "      <td>107.376788</td>\n",
              "      <td>[{\"name\": \"Columbia Pictures\", \"id\": 5}, {\"nam...</td>\n",
              "      <td>[{\"iso_3166_1\": \"GB\", \"name\": \"United Kingdom\"...</td>\n",
              "      <td>2015-10-26</td>\n",
              "      <td>880674609</td>\n",
              "      <td>148.0</td>\n",
              "      <td>[{\"iso_639_1\": \"fr\", \"name\": \"Fran\\u00e7ais\"},...</td>\n",
              "      <td>Released</td>\n",
              "      <td>A Plan No One Escapes</td>\n",
              "      <td>Spectre</td>\n",
              "      <td>6.3</td>\n",
              "      <td>4466</td>\n",
              "    </tr>\n",
              "    <tr>\n",
              "      <th>3</th>\n",
              "      <td>250000000</td>\n",
              "      <td>[{\"id\": 28, \"name\": \"Action\"}, {\"id\": 80, \"nam...</td>\n",
              "      <td>http://www.thedarkknightrises.com/</td>\n",
              "      <td>49026</td>\n",
              "      <td>[{\"id\": 849, \"name\": \"dc comics\"}, {\"id\": 853,...</td>\n",
              "      <td>en</td>\n",
              "      <td>The Dark Knight Rises</td>\n",
              "      <td>Following the death of District Attorney Harve...</td>\n",
              "      <td>112.312950</td>\n",
              "      <td>[{\"name\": \"Legendary Pictures\", \"id\": 923}, {\"...</td>\n",
              "      <td>[{\"iso_3166_1\": \"US\", \"name\": \"United States o...</td>\n",
              "      <td>2012-07-16</td>\n",
              "      <td>1084939099</td>\n",
              "      <td>165.0</td>\n",
              "      <td>[{\"iso_639_1\": \"en\", \"name\": \"English\"}]</td>\n",
              "      <td>Released</td>\n",
              "      <td>The Legend Ends</td>\n",
              "      <td>The Dark Knight Rises</td>\n",
              "      <td>7.6</td>\n",
              "      <td>9106</td>\n",
              "    </tr>\n",
              "    <tr>\n",
              "      <th>4</th>\n",
              "      <td>260000000</td>\n",
              "      <td>[{\"id\": 28, \"name\": \"Action\"}, {\"id\": 12, \"nam...</td>\n",
              "      <td>http://movies.disney.com/john-carter</td>\n",
              "      <td>49529</td>\n",
              "      <td>[{\"id\": 818, \"name\": \"based on novel\"}, {\"id\":...</td>\n",
              "      <td>en</td>\n",
              "      <td>John Carter</td>\n",
              "      <td>John Carter is a war-weary, former military ca...</td>\n",
              "      <td>43.926995</td>\n",
              "      <td>[{\"name\": \"Walt Disney Pictures\", \"id\": 2}]</td>\n",
              "      <td>[{\"iso_3166_1\": \"US\", \"name\": \"United States o...</td>\n",
              "      <td>2012-03-07</td>\n",
              "      <td>284139100</td>\n",
              "      <td>132.0</td>\n",
              "      <td>[{\"iso_639_1\": \"en\", \"name\": \"English\"}]</td>\n",
              "      <td>Released</td>\n",
              "      <td>Lost in our world, found in another.</td>\n",
              "      <td>John Carter</td>\n",
              "      <td>6.1</td>\n",
              "      <td>2124</td>\n",
              "    </tr>\n",
              "  </tbody>\n",
              "</table>\n",
              "</div>"
            ],
            "text/plain": [
              "      budget  ... vote_count\n",
              "0  237000000  ...      11800\n",
              "1  300000000  ...       4500\n",
              "2  245000000  ...       4466\n",
              "3  250000000  ...       9106\n",
              "4  260000000  ...       2124\n",
              "\n",
              "[5 rows x 20 columns]"
            ]
          },
          "metadata": {
            "tags": []
          },
          "execution_count": 29
        }
      ]
    },
    {
      "cell_type": "code",
      "metadata": {
        "colab": {
          "base_uri": "https://localhost:8080/",
          "height": 314
        },
        "id": "xPPbqBbHg-ZM",
        "outputId": "83f61103-9464-4846-9314-c2b09195d875"
      },
      "source": [
        "tmdb_com_mais_de_10_voltos.describe()"
      ],
      "execution_count": null,
      "outputs": [
        {
          "output_type": "execute_result",
          "data": {
            "text/html": [
              "<div>\n",
              "<style scoped>\n",
              "    .dataframe tbody tr th:only-of-type {\n",
              "        vertical-align: middle;\n",
              "    }\n",
              "\n",
              "    .dataframe tbody tr th {\n",
              "        vertical-align: top;\n",
              "    }\n",
              "\n",
              "    .dataframe thead th {\n",
              "        text-align: right;\n",
              "    }\n",
              "</style>\n",
              "<table border=\"1\" class=\"dataframe\">\n",
              "  <thead>\n",
              "    <tr style=\"text-align: right;\">\n",
              "      <th></th>\n",
              "      <th>budget</th>\n",
              "      <th>id</th>\n",
              "      <th>popularity</th>\n",
              "      <th>revenue</th>\n",
              "      <th>runtime</th>\n",
              "      <th>vote_average</th>\n",
              "      <th>vote_count</th>\n",
              "    </tr>\n",
              "  </thead>\n",
              "  <tbody>\n",
              "    <tr>\n",
              "      <th>count</th>\n",
              "      <td>4.392000e+03</td>\n",
              "      <td>4392.000000</td>\n",
              "      <td>4392.000000</td>\n",
              "      <td>4.392000e+03</td>\n",
              "      <td>4391.000000</td>\n",
              "      <td>4392.000000</td>\n",
              "      <td>4392.000000</td>\n",
              "    </tr>\n",
              "    <tr>\n",
              "      <th>mean</th>\n",
              "      <td>3.164545e+07</td>\n",
              "      <td>49204.119991</td>\n",
              "      <td>23.448815</td>\n",
              "      <td>8.990969e+07</td>\n",
              "      <td>108.430881</td>\n",
              "      <td>6.226935</td>\n",
              "      <td>754.441712</td>\n",
              "    </tr>\n",
              "    <tr>\n",
              "      <th>std</th>\n",
              "      <td>4.162736e+07</td>\n",
              "      <td>80136.249777</td>\n",
              "      <td>32.592158</td>\n",
              "      <td>1.682870e+08</td>\n",
              "      <td>21.014719</td>\n",
              "      <td>0.893215</td>\n",
              "      <td>1272.263761</td>\n",
              "    </tr>\n",
              "    <tr>\n",
              "      <th>min</th>\n",
              "      <td>0.000000e+00</td>\n",
              "      <td>5.000000</td>\n",
              "      <td>0.011697</td>\n",
              "      <td>0.000000e+00</td>\n",
              "      <td>0.000000</td>\n",
              "      <td>1.900000</td>\n",
              "      <td>10.000000</td>\n",
              "    </tr>\n",
              "    <tr>\n",
              "      <th>25%</th>\n",
              "      <td>2.895962e+06</td>\n",
              "      <td>8403.500000</td>\n",
              "      <td>6.512166</td>\n",
              "      <td>1.365700e+04</td>\n",
              "      <td>95.000000</td>\n",
              "      <td>5.700000</td>\n",
              "      <td>83.750000</td>\n",
              "    </tr>\n",
              "    <tr>\n",
              "      <th>50%</th>\n",
              "      <td>1.700000e+07</td>\n",
              "      <td>13084.500000</td>\n",
              "      <td>14.827784</td>\n",
              "      <td>2.685837e+07</td>\n",
              "      <td>105.000000</td>\n",
              "      <td>6.300000</td>\n",
              "      <td>288.500000</td>\n",
              "    </tr>\n",
              "    <tr>\n",
              "      <th>75%</th>\n",
              "      <td>4.200000e+07</td>\n",
              "      <td>46831.250000</td>\n",
              "      <td>30.258282</td>\n",
              "      <td>1.022818e+08</td>\n",
              "      <td>118.500000</td>\n",
              "      <td>6.800000</td>\n",
              "      <td>831.000000</td>\n",
              "    </tr>\n",
              "    <tr>\n",
              "      <th>max</th>\n",
              "      <td>3.800000e+08</td>\n",
              "      <td>417859.000000</td>\n",
              "      <td>875.581305</td>\n",
              "      <td>2.787965e+09</td>\n",
              "      <td>338.000000</td>\n",
              "      <td>8.500000</td>\n",
              "      <td>13752.000000</td>\n",
              "    </tr>\n",
              "  </tbody>\n",
              "</table>\n",
              "</div>"
            ],
            "text/plain": [
              "             budget             id  ...  vote_average    vote_count\n",
              "count  4.392000e+03    4392.000000  ...   4392.000000   4392.000000\n",
              "mean   3.164545e+07   49204.119991  ...      6.226935    754.441712\n",
              "std    4.162736e+07   80136.249777  ...      0.893215   1272.263761\n",
              "min    0.000000e+00       5.000000  ...      1.900000     10.000000\n",
              "25%    2.895962e+06    8403.500000  ...      5.700000     83.750000\n",
              "50%    1.700000e+07   13084.500000  ...      6.300000    288.500000\n",
              "75%    4.200000e+07   46831.250000  ...      6.800000    831.000000\n",
              "max    3.800000e+08  417859.000000  ...      8.500000  13752.000000\n",
              "\n",
              "[8 rows x 7 columns]"
            ]
          },
          "metadata": {
            "tags": []
          },
          "execution_count": 30
        }
      ]
    },
    {
      "cell_type": "code",
      "metadata": {
        "colab": {
          "base_uri": "https://localhost:8080/",
          "height": 367
        },
        "id": "huYihqxghxZs",
        "outputId": "0f0115b3-7d59-49e1-8dbb-0ebf4a7b033f"
      },
      "source": [
        "ax = sns.distplot(tmdb_com_mais_de_10_voltos[\"vote_average\"])\n",
        "ax.set(xlabel=\"Nota Média\", ylabel=\"Densidade\")\n",
        "ax.set_title(\"Média de votos em filme no TMDB 5000\")"
      ],
      "execution_count": null,
      "outputs": [
        {
          "output_type": "stream",
          "text": [
            "/usr/local/lib/python3.7/dist-packages/seaborn/distributions.py:2557: FutureWarning: `distplot` is a deprecated function and will be removed in a future version. Please adapt your code to use either `displot` (a figure-level function with similar flexibility) or `histplot` (an axes-level function for histograms).\n",
            "  warnings.warn(msg, FutureWarning)\n"
          ],
          "name": "stderr"
        },
        {
          "output_type": "execute_result",
          "data": {
            "text/plain": [
              "Text(0.5, 1.0, 'Média de votos em filme no TMDB 5000')"
            ]
          },
          "metadata": {
            "tags": []
          },
          "execution_count": 32
        },
        {
          "output_type": "display_data",
          "data": {
            "image/png": "[encoded data removed]",
            "text/plain": [
              "<Figure size 432x288 with 1 Axes>"
            ]
          },
          "metadata": {
            "tags": [],
            "needs_background": "light"
          }
        }
      ]
    },
    {
      "cell_type": "code",
      "metadata": {
        "colab": {
          "base_uri": "https://localhost:8080/",
          "height": 367
        },
        "id": "2HbJOaZOh5UY",
        "outputId": "6d7b625a-8a7a-449f-9dd7-43bff5122359"
      },
      "source": [
        "ax = sns.boxplot(tmdb_com_mais_de_10_voltos[\"vote_average\"])\n",
        "ax.set(xlabel=\"Nota média do filme\")\n",
        "ax.set_title(\"Distribuição de mnota média dos filmes do TMDB 5000\")"
      ],
      "execution_count": null,
      "outputs": [
        {
          "output_type": "stream",
          "text": [
            "/usr/local/lib/python3.7/dist-packages/seaborn/_decorators.py:43: FutureWarning: Pass the following variable as a keyword arg: x. From version 0.12, the only valid positional argument will be `data`, and passing other arguments without an explicit keyword will result in an error or misinterpretation.\n",
            "  FutureWarning\n"
          ],
          "name": "stderr"
        },
        {
          "output_type": "execute_result",
          "data": {
            "text/plain": [
              "Text(0.5, 1.0, 'Distribuição de mnota média dos filmes do TMDB 5000')"
            ]
          },
          "metadata": {
            "tags": []
          },
          "execution_count": 33
        },
        {
          "output_type": "display_data",
          "data": {
            "image/png": "[encoded data removed]",
            "text/plain": [
              "<Figure size 432x288 with 1 Axes>"
            ]
          },
          "metadata": {
            "tags": [],
            "needs_background": "light"
          }
        }
      ]
    },
    {
      "cell_type": "markdown",
      "metadata": {
        "id": "8admD0BKiCiT"
      },
      "source": [
        "Detectamos que alguns filmes tiveram poucos votos (ou até mesmo nenhum voto). Decidimos que esses filmes não devem pertencer a nossa análise."
      ]
    },
    {
      "cell_type": "markdown",
      "metadata": {
        "id": "q2yQnnIminNY"
      },
      "source": [
        "**Visualizando e limpando o movielens**"
      ]
    },
    {
      "cell_type": "code",
      "metadata": {
        "id": "R3a4_g5UjJwj"
      },
      "source": [
        "notas = pd.read_csv(path + '/ratings.csv')"
      ],
      "execution_count": null,
      "outputs": []
    },
    {
      "cell_type": "code",
      "metadata": {
        "colab": {
          "base_uri": "https://localhost:8080/",
          "height": 202
        },
        "id": "37Ta9YhLkSJ7",
        "outputId": "01780183-0663-49e2-d55f-e71593fb7ae7"
      },
      "source": [
        "notas.head()"
      ],
      "execution_count": null,
      "outputs": [
        {
          "output_type": "execute_result",
          "data": {
            "text/html": [
              "<div>\n",
              "<style scoped>\n",
              "    .dataframe tbody tr th:only-of-type {\n",
              "        vertical-align: middle;\n",
              "    }\n",
              "\n",
              "    .dataframe tbody tr th {\n",
              "        vertical-align: top;\n",
              "    }\n",
              "\n",
              "    .dataframe thead th {\n",
              "        text-align: right;\n",
              "    }\n",
              "</style>\n",
              "<table border=\"1\" class=\"dataframe\">\n",
              "  <thead>\n",
              "    <tr style=\"text-align: right;\">\n",
              "      <th></th>\n",
              "      <th>userId</th>\n",
              "      <th>movieId</th>\n",
              "      <th>rating</th>\n",
              "      <th>timestamp</th>\n",
              "    </tr>\n",
              "  </thead>\n",
              "  <tbody>\n",
              "    <tr>\n",
              "      <th>0</th>\n",
              "      <td>1</td>\n",
              "      <td>1</td>\n",
              "      <td>4.0</td>\n",
              "      <td>964982703</td>\n",
              "    </tr>\n",
              "    <tr>\n",
              "      <th>1</th>\n",
              "      <td>1</td>\n",
              "      <td>3</td>\n",
              "      <td>4.0</td>\n",
              "      <td>964981247</td>\n",
              "    </tr>\n",
              "    <tr>\n",
              "      <th>2</th>\n",
              "      <td>1</td>\n",
              "      <td>6</td>\n",
              "      <td>4.0</td>\n",
              "      <td>964982224</td>\n",
              "    </tr>\n",
              "    <tr>\n",
              "      <th>3</th>\n",
              "      <td>1</td>\n",
              "      <td>47</td>\n",
              "      <td>5.0</td>\n",
              "      <td>964983815</td>\n",
              "    </tr>\n",
              "    <tr>\n",
              "      <th>4</th>\n",
              "      <td>1</td>\n",
              "      <td>50</td>\n",
              "      <td>5.0</td>\n",
              "      <td>964982931</td>\n",
              "    </tr>\n",
              "  </tbody>\n",
              "</table>\n",
              "</div>"
            ],
            "text/plain": [
              "   userId  movieId  rating  timestamp\n",
              "0       1        1     4.0  964982703\n",
              "1       1        3     4.0  964981247\n",
              "2       1        6     4.0  964982224\n",
              "3       1       47     5.0  964983815\n",
              "4       1       50     5.0  964982931"
            ]
          },
          "metadata": {
            "tags": []
          },
          "execution_count": 37
        }
      ]
    },
    {
      "cell_type": "code",
      "metadata": {
        "id": "sYV-Lnx1kXnT"
      },
      "source": [
        "notas_media_por_filmes = notas.groupby(\"movieId\").mean()[\"rating\"]"
      ],
      "execution_count": null,
      "outputs": []
    },
    {
      "cell_type": "code",
      "metadata": {
        "colab": {
          "base_uri": "https://localhost:8080/"
        },
        "id": "F3eqrDjGkwG5",
        "outputId": "5091d92c-b1dd-427f-caec-7240688eede4"
      },
      "source": [
        "notas_media_por_filmes.head()"
      ],
      "execution_count": null,
      "outputs": [
        {
          "output_type": "execute_result",
          "data": {
            "text/plain": [
              "movieId\n",
              "1    3.920930\n",
              "2    3.431818\n",
              "3    3.259615\n",
              "4    2.357143\n",
              "5    3.071429\n",
              "Name: rating, dtype: float64"
            ]
          },
          "metadata": {
            "tags": []
          },
          "execution_count": 53
        }
      ]
    },
    {
      "cell_type": "code",
      "metadata": {
        "colab": {
          "base_uri": "https://localhost:8080/",
          "height": 367
        },
        "id": "Y0VoHnVqk6Es",
        "outputId": "e0e40355-2929-4777-e5e8-9a3e57a0fd47"
      },
      "source": [
        "ax = sns.distplot(notas_media_por_filmes.values)\n",
        "ax.set(xlabel=\"Nota Média\")\n",
        "ax.set_title(\"Média de votos em filmes no Movielens 100k\")"
      ],
      "execution_count": null,
      "outputs": [
        {
          "output_type": "stream",
          "text": [
            "/usr/local/lib/python3.7/dist-packages/seaborn/distributions.py:2557: FutureWarning: `distplot` is a deprecated function and will be removed in a future version. Please adapt your code to use either `displot` (a figure-level function with similar flexibility) or `histplot` (an axes-level function for histograms).\n",
            "  warnings.warn(msg, FutureWarning)\n"
          ],
          "name": "stderr"
        },
        {
          "output_type": "execute_result",
          "data": {
            "text/plain": [
              "Text(0.5, 1.0, 'Média de votos em filmes no Movielens 100k')"
            ]
          },
          "metadata": {
            "tags": []
          },
          "execution_count": 57
        },
        {
          "output_type": "display_data",
          "data": {
            "image/png": "[encoded data removed]",
            "text/plain": [
              "<Figure size 432x288 with 1 Axes>"
            ]
          },
          "metadata": {
            "tags": [],
            "needs_background": "light"
          }
        }
      ]
    },
    {
      "cell_type": "code",
      "metadata": {
        "colab": {
          "base_uri": "https://localhost:8080/",
          "height": 202
        },
        "id": "VWbxjd31lbh3",
        "outputId": "4cbe75d9-dcd9-4535-c22c-abc6fa1052b1"
      },
      "source": [
        "notas.head()"
      ],
      "execution_count": null,
      "outputs": [
        {
          "output_type": "execute_result",
          "data": {
            "text/html": [
              "<div>\n",
              "<style scoped>\n",
              "    .dataframe tbody tr th:only-of-type {\n",
              "        vertical-align: middle;\n",
              "    }\n",
              "\n",
              "    .dataframe tbody tr th {\n",
              "        vertical-align: top;\n",
              "    }\n",
              "\n",
              "    .dataframe thead th {\n",
              "        text-align: right;\n",
              "    }\n",
              "</style>\n",
              "<table border=\"1\" class=\"dataframe\">\n",
              "  <thead>\n",
              "    <tr style=\"text-align: right;\">\n",
              "      <th></th>\n",
              "      <th>userId</th>\n",
              "      <th>movieId</th>\n",
              "      <th>rating</th>\n",
              "      <th>timestamp</th>\n",
              "    </tr>\n",
              "  </thead>\n",
              "  <tbody>\n",
              "    <tr>\n",
              "      <th>0</th>\n",
              "      <td>1</td>\n",
              "      <td>1</td>\n",
              "      <td>4.0</td>\n",
              "      <td>964982703</td>\n",
              "    </tr>\n",
              "    <tr>\n",
              "      <th>1</th>\n",
              "      <td>1</td>\n",
              "      <td>3</td>\n",
              "      <td>4.0</td>\n",
              "      <td>964981247</td>\n",
              "    </tr>\n",
              "    <tr>\n",
              "      <th>2</th>\n",
              "      <td>1</td>\n",
              "      <td>6</td>\n",
              "      <td>4.0</td>\n",
              "      <td>964982224</td>\n",
              "    </tr>\n",
              "    <tr>\n",
              "      <th>3</th>\n",
              "      <td>1</td>\n",
              "      <td>47</td>\n",
              "      <td>5.0</td>\n",
              "      <td>964983815</td>\n",
              "    </tr>\n",
              "    <tr>\n",
              "      <th>4</th>\n",
              "      <td>1</td>\n",
              "      <td>50</td>\n",
              "      <td>5.0</td>\n",
              "      <td>964982931</td>\n",
              "    </tr>\n",
              "  </tbody>\n",
              "</table>\n",
              "</div>"
            ],
            "text/plain": [
              "   userId  movieId  rating  timestamp\n",
              "0       1        1     4.0  964982703\n",
              "1       1        3     4.0  964981247\n",
              "2       1        6     4.0  964982224\n",
              "3       1       47     5.0  964983815\n",
              "4       1       50     5.0  964982931"
            ]
          },
          "metadata": {
            "tags": []
          },
          "execution_count": 58
        }
      ]
    },
    {
      "cell_type": "code",
      "metadata": {
        "colab": {
          "base_uri": "https://localhost:8080/",
          "height": 446
        },
        "id": "qzxFn0OilfPp",
        "outputId": "55b358cd-85c2-4df9-b382-eabad6fc9207"
      },
      "source": [
        "quantidade_de_votos = notas.groupby(\"movieId\").count()\n",
        "quantidade_de_votos"
      ],
      "execution_count": null,
      "outputs": [
        {
          "output_type": "execute_result",
          "data": {
            "text/html": [
              "<div>\n",
              "<style scoped>\n",
              "    .dataframe tbody tr th:only-of-type {\n",
              "        vertical-align: middle;\n",
              "    }\n",
              "\n",
              "    .dataframe tbody tr th {\n",
              "        vertical-align: top;\n",
              "    }\n",
              "\n",
              "    .dataframe thead th {\n",
              "        text-align: right;\n",
              "    }\n",
              "</style>\n",
              "<table border=\"1\" class=\"dataframe\">\n",
              "  <thead>\n",
              "    <tr style=\"text-align: right;\">\n",
              "      <th></th>\n",
              "      <th>userId</th>\n",
              "      <th>rating</th>\n",
              "      <th>timestamp</th>\n",
              "    </tr>\n",
              "    <tr>\n",
              "      <th>movieId</th>\n",
              "      <th></th>\n",
              "      <th></th>\n",
              "      <th></th>\n",
              "    </tr>\n",
              "  </thead>\n",
              "  <tbody>\n",
              "    <tr>\n",
              "      <th>1</th>\n",
              "      <td>215</td>\n",
              "      <td>215</td>\n",
              "      <td>215</td>\n",
              "    </tr>\n",
              "    <tr>\n",
              "      <th>2</th>\n",
              "      <td>110</td>\n",
              "      <td>110</td>\n",
              "      <td>110</td>\n",
              "    </tr>\n",
              "    <tr>\n",
              "      <th>3</th>\n",
              "      <td>52</td>\n",
              "      <td>52</td>\n",
              "      <td>52</td>\n",
              "    </tr>\n",
              "    <tr>\n",
              "      <th>4</th>\n",
              "      <td>7</td>\n",
              "      <td>7</td>\n",
              "      <td>7</td>\n",
              "    </tr>\n",
              "    <tr>\n",
              "      <th>5</th>\n",
              "      <td>49</td>\n",
              "      <td>49</td>\n",
              "      <td>49</td>\n",
              "    </tr>\n",
              "    <tr>\n",
              "      <th>...</th>\n",
              "      <td>...</td>\n",
              "      <td>...</td>\n",
              "      <td>...</td>\n",
              "    </tr>\n",
              "    <tr>\n",
              "      <th>193581</th>\n",
              "      <td>1</td>\n",
              "      <td>1</td>\n",
              "      <td>1</td>\n",
              "    </tr>\n",
              "    <tr>\n",
              "      <th>193583</th>\n",
              "      <td>1</td>\n",
              "      <td>1</td>\n",
              "      <td>1</td>\n",
              "    </tr>\n",
              "    <tr>\n",
              "      <th>193585</th>\n",
              "      <td>1</td>\n",
              "      <td>1</td>\n",
              "      <td>1</td>\n",
              "    </tr>\n",
              "    <tr>\n",
              "      <th>193587</th>\n",
              "      <td>1</td>\n",
              "      <td>1</td>\n",
              "      <td>1</td>\n",
              "    </tr>\n",
              "    <tr>\n",
              "      <th>193609</th>\n",
              "      <td>1</td>\n",
              "      <td>1</td>\n",
              "      <td>1</td>\n",
              "    </tr>\n",
              "  </tbody>\n",
              "</table>\n",
              "<p>9724 rows × 3 columns</p>\n",
              "</div>"
            ],
            "text/plain": [
              "         userId  rating  timestamp\n",
              "movieId                           \n",
              "1           215     215        215\n",
              "2           110     110        110\n",
              "3            52      52         52\n",
              "4             7       7          7\n",
              "5            49      49         49\n",
              "...         ...     ...        ...\n",
              "193581        1       1          1\n",
              "193583        1       1          1\n",
              "193585        1       1          1\n",
              "193587        1       1          1\n",
              "193609        1       1          1\n",
              "\n",
              "[9724 rows x 3 columns]"
            ]
          },
          "metadata": {
            "tags": []
          },
          "execution_count": 62
        }
      ]
    },
    {
      "cell_type": "code",
      "metadata": {
        "colab": {
          "base_uri": "https://localhost:8080/"
        },
        "id": "vbHvwccnmyxc",
        "outputId": "db1da01f-daee-459b-bb40-1347377828ad"
      },
      "source": [
        "filmes_com_pelo_menos_10_votos = quantidade_de_votos.query(\"userId >= 10\").index\n",
        "filmes_com_pelo_menos_10_votos.values"
      ],
      "execution_count": null,
      "outputs": [
        {
          "output_type": "execute_result",
          "data": {
            "text/plain": [
              "array([     1,      2,      3, ..., 177765, 179819, 187593])"
            ]
          },
          "metadata": {
            "tags": []
          },
          "execution_count": 67
        }
      ]
    },
    {
      "cell_type": "code",
      "metadata": {
        "colab": {
          "base_uri": "https://localhost:8080/"
        },
        "id": "PNctd2RenSBj",
        "outputId": "318fda75-e0bb-44db-efc5-67052c20bb64"
      },
      "source": [
        "notas_media_por_filmes_com_pelo_menos_10_votos = notas_media_por_filmes.loc[filmes_com_pelo_menos_10_votos.values]\n",
        "notas_media_por_filmes_com_pelo_menos_10_votos.head()"
      ],
      "execution_count": null,
      "outputs": [
        {
          "output_type": "execute_result",
          "data": {
            "text/plain": [
              "movieId\n",
              "1    3.920930\n",
              "2    3.431818\n",
              "3    3.259615\n",
              "5    3.071429\n",
              "6    3.946078\n",
              "Name: rating, dtype: float64"
            ]
          },
          "metadata": {
            "tags": []
          },
          "execution_count": 72
        }
      ]
    },
    {
      "cell_type": "code",
      "metadata": {
        "colab": {
          "base_uri": "https://localhost:8080/",
          "height": 367
        },
        "id": "sDJ6DAQynzQD",
        "outputId": "ca8397b7-cc2e-4a1d-c501-7e92e6a1331f"
      },
      "source": [
        "ax = sns.distplot(notas_media_por_filmes_com_pelo_menos_10_votos.values)\n",
        "ax.set(xlabel=\"Nota Média\")\n",
        "ax.set_title(\"Média de votos em filmes no Movielens 100k\")"
      ],
      "execution_count": null,
      "outputs": [
        {
          "output_type": "stream",
          "text": [
            "/usr/local/lib/python3.7/dist-packages/seaborn/distributions.py:2557: FutureWarning: `distplot` is a deprecated function and will be removed in a future version. Please adapt your code to use either `displot` (a figure-level function with similar flexibility) or `histplot` (an axes-level function for histograms).\n",
            "  warnings.warn(msg, FutureWarning)\n"
          ],
          "name": "stderr"
        },
        {
          "output_type": "execute_result",
          "data": {
            "text/plain": [
              "Text(0.5, 1.0, 'Média de votos em filmes no Movielens 100k')"
            ]
          },
          "metadata": {
            "tags": []
          },
          "execution_count": 73
        },
        {
          "output_type": "display_data",
          "data": {
            "image/png": "[encoded data removed]",
            "text/plain": [
              "<Figure size 432x288 with 1 Axes>"
            ]
          },
          "metadata": {
            "tags": [],
            "needs_background": "light"
          }
        }
      ]
    },
    {
      "cell_type": "code",
      "metadata": {
        "colab": {
          "base_uri": "https://localhost:8080/",
          "height": 367
        },
        "id": "eGAWpbs0ocu6",
        "outputId": "4c9b4133-7beb-46c4-8e17-0c711348673d"
      },
      "source": [
        "ax = sns.boxplot(notas_media_por_filmes_com_pelo_menos_10_votos.values)\n",
        "ax.set(xlabel=\"Nota média do filme\")\n",
        "ax.set_title(\"Distribuição de notas médias dos filmes do Movielens 100k dentre os filmes com 10 ou mais votos\")"
      ],
      "execution_count": null,
      "outputs": [
        {
          "output_type": "stream",
          "text": [
            "/usr/local/lib/python3.7/dist-packages/seaborn/_decorators.py:43: FutureWarning: Pass the following variable as a keyword arg: x. From version 0.12, the only valid positional argument will be `data`, and passing other arguments without an explicit keyword will result in an error or misinterpretation.\n",
            "  FutureWarning\n"
          ],
          "name": "stderr"
        },
        {
          "output_type": "execute_result",
          "data": {
            "text/plain": [
              "Text(0.5, 1.0, 'Distribuição de notas médias dos filmes do Movielens 100k dentre os filmes com 10 ou mais votos')"
            ]
          },
          "metadata": {
            "tags": []
          },
          "execution_count": 76
        },
        {
          "output_type": "display_data",
          "data": {
            "image/png": "[encoded data removed]",
            "text/plain": [
              "<Figure size 432x288 with 1 Axes>"
            ]
          },
          "metadata": {
            "tags": [],
            "needs_background": "light"
          }
        }
      ]
    },
    {
      "cell_type": "markdown",
      "metadata": {
        "id": "GPpsnfW4nIdB"
      },
      "source": [
        "**Visualizando a CDF**"
      ]
    },
    {
      "cell_type": "code",
      "metadata": {
        "colab": {
          "base_uri": "https://localhost:8080/",
          "height": 367
        },
        "id": "tUGIQF0kk2s9",
        "outputId": "9d39f29d-8e62-47e5-da9c-e2c1ba868ca1"
      },
      "source": [
        "ax = sns.distplot(notas_media_por_filmes_com_pelo_menos_10_votos, \n",
        "                  hist_kws = {'cumulative':True}, \n",
        "                  kde_kws = {'cumulative':True})\n",
        "ax.set(xlabel='Nota média', ylabel='Proporção acumulada de filmes')\n",
        "ax.set_title('Média de votos em filmes no MovieLens')"
      ],
      "execution_count": null,
      "outputs": [
        {
          "output_type": "stream",
          "text": [
            "/usr/local/lib/python3.7/dist-packages/seaborn/distributions.py:2557: FutureWarning: `distplot` is a deprecated function and will be removed in a future version. Please adapt your code to use either `displot` (a figure-level function with similar flexibility) or `histplot` (an axes-level function for histograms).\n",
            "  warnings.warn(msg, FutureWarning)\n"
          ],
          "name": "stderr"
        },
        {
          "output_type": "execute_result",
          "data": {
            "text/plain": [
              "Text(0.5, 1.0, 'Média de votos em filmes no MovieLens')"
            ]
          },
          "metadata": {
            "tags": []
          },
          "execution_count": 77
        },
        {
          "output_type": "display_data",
          "data": {
            "image/png": "[encoded data removed]",
            "text/plain": [
              "<Figure size 432x288 with 1 Axes>"
            ]
          },
          "metadata": {
            "tags": [],
            "needs_background": "light"
          }
        }
      ]
    },
    {
      "cell_type": "markdown",
      "metadata": {
        "id": "0P-mymbbuAzM"
      },
      "source": [
        "# **02 Explorando as distribuições das amostra**"
      ]
    },
    {
      "cell_type": "markdown",
      "metadata": {
        "id": "BpYW5IuxuUfY"
      },
      "source": [
        "**Visualizando outras informações e quantis quaisquer de forma numérica**"
      ]
    },
    {
      "cell_type": "code",
      "metadata": {
        "colab": {
          "base_uri": "https://localhost:8080/",
          "height": 724
        },
        "id": "IkKMPvWEucqM",
        "outputId": "d9de124e-a0de-45b7-8437-eb5bd1ab16ee"
      },
      "source": [
        "tmdb.head()"
      ],
      "execution_count": null,
      "outputs": [
        {
          "output_type": "execute_result",
          "data": {
            "text/html": [
              "<div>\n",
              "<style scoped>\n",
              "    .dataframe tbody tr th:only-of-type {\n",
              "        vertical-align: middle;\n",
              "    }\n",
              "\n",
              "    .dataframe tbody tr th {\n",
              "        vertical-align: top;\n",
              "    }\n",
              "\n",
              "    .dataframe thead th {\n",
              "        text-align: right;\n",
              "    }\n",
              "</style>\n",
              "<table border=\"1\" class=\"dataframe\">\n",
              "  <thead>\n",
              "    <tr style=\"text-align: right;\">\n",
              "      <th></th>\n",
              "      <th>budget</th>\n",
              "      <th>genres</th>\n",
              "      <th>homepage</th>\n",
              "      <th>id</th>\n",
              "      <th>keywords</th>\n",
              "      <th>original_language</th>\n",
              "      <th>original_title</th>\n",
              "      <th>overview</th>\n",
              "      <th>popularity</th>\n",
              "      <th>production_companies</th>\n",
              "      <th>production_countries</th>\n",
              "      <th>release_date</th>\n",
              "      <th>revenue</th>\n",
              "      <th>runtime</th>\n",
              "      <th>spoken_languages</th>\n",
              "      <th>status</th>\n",
              "      <th>tagline</th>\n",
              "      <th>title</th>\n",
              "      <th>vote_average</th>\n",
              "      <th>vote_count</th>\n",
              "    </tr>\n",
              "  </thead>\n",
              "  <tbody>\n",
              "    <tr>\n",
              "      <th>0</th>\n",
              "      <td>237000000</td>\n",
              "      <td>[{\"id\": 28, \"name\": \"Action\"}, {\"id\": 12, \"nam...</td>\n",
              "      <td>http://www.avatarmovie.com/</td>\n",
              "      <td>19995</td>\n",
              "      <td>[{\"id\": 1463, \"name\": \"culture clash\"}, {\"id\":...</td>\n",
              "      <td>en</td>\n",
              "      <td>Avatar</td>\n",
              "      <td>In the 22nd century, a paraplegic Marine is di...</td>\n",
              "      <td>150.437577</td>\n",
              "      <td>[{\"name\": \"Ingenious Film Partners\", \"id\": 289...</td>\n",
              "      <td>[{\"iso_3166_1\": \"US\", \"name\": \"United States o...</td>\n",
              "      <td>2009-12-10</td>\n",
              "      <td>2787965087</td>\n",
              "      <td>162.0</td>\n",
              "      <td>[{\"iso_639_1\": \"en\", \"name\": \"English\"}, {\"iso...</td>\n",
              "      <td>Released</td>\n",
              "      <td>Enter the World of Pandora.</td>\n",
              "      <td>Avatar</td>\n",
              "      <td>7.2</td>\n",
              "      <td>11800</td>\n",
              "    </tr>\n",
              "    <tr>\n",
              "      <th>1</th>\n",
              "      <td>300000000</td>\n",
              "      <td>[{\"id\": 12, \"name\": \"Adventure\"}, {\"id\": 14, \"...</td>\n",
              "      <td>http://disney.go.com/disneypictures/pirates/</td>\n",
              "      <td>285</td>\n",
              "      <td>[{\"id\": 270, \"name\": \"ocean\"}, {\"id\": 726, \"na...</td>\n",
              "      <td>en</td>\n",
              "      <td>Pirates of the Caribbean: At World's End</td>\n",
              "      <td>Captain Barbossa, long believed to be dead, ha...</td>\n",
              "      <td>139.082615</td>\n",
              "      <td>[{\"name\": \"Walt Disney Pictures\", \"id\": 2}, {\"...</td>\n",
              "      <td>[{\"iso_3166_1\": \"US\", \"name\": \"United States o...</td>\n",
              "      <td>2007-05-19</td>\n",
              "      <td>961000000</td>\n",
              "      <td>169.0</td>\n",
              "      <td>[{\"iso_639_1\": \"en\", \"name\": \"English\"}]</td>\n",
              "      <td>Released</td>\n",
              "      <td>At the end of the world, the adventure begins.</td>\n",
              "      <td>Pirates of the Caribbean: At World's End</td>\n",
              "      <td>6.9</td>\n",
              "      <td>4500</td>\n",
              "    </tr>\n",
              "    <tr>\n",
              "      <th>2</th>\n",
              "      <td>245000000</td>\n",
              "      <td>[{\"id\": 28, \"name\": \"Action\"}, {\"id\": 12, \"nam...</td>\n",
              "      <td>http://www.sonypictures.com/movies/spectre/</td>\n",
              "      <td>206647</td>\n",
              "      <td>[{\"id\": 470, \"name\": \"spy\"}, {\"id\": 818, \"name...</td>\n",
              "      <td>en</td>\n",
              "      <td>Spectre</td>\n",
              "      <td>A cryptic message from Bond’s past sends him o...</td>\n",
              "      <td>107.376788</td>\n",
              "      <td>[{\"name\": \"Columbia Pictures\", \"id\": 5}, {\"nam...</td>\n",
              "      <td>[{\"iso_3166_1\": \"GB\", \"name\": \"United Kingdom\"...</td>\n",
              "      <td>2015-10-26</td>\n",
              "      <td>880674609</td>\n",
              "      <td>148.0</td>\n",
              "      <td>[{\"iso_639_1\": \"fr\", \"name\": \"Fran\\u00e7ais\"},...</td>\n",
              "      <td>Released</td>\n",
              "      <td>A Plan No One Escapes</td>\n",
              "      <td>Spectre</td>\n",
              "      <td>6.3</td>\n",
              "      <td>4466</td>\n",
              "    </tr>\n",
              "    <tr>\n",
              "      <th>3</th>\n",
              "      <td>250000000</td>\n",
              "      <td>[{\"id\": 28, \"name\": \"Action\"}, {\"id\": 80, \"nam...</td>\n",
              "      <td>http://www.thedarkknightrises.com/</td>\n",
              "      <td>49026</td>\n",
              "      <td>[{\"id\": 849, \"name\": \"dc comics\"}, {\"id\": 853,...</td>\n",
              "      <td>en</td>\n",
              "      <td>The Dark Knight Rises</td>\n",
              "      <td>Following the death of District Attorney Harve...</td>\n",
              "      <td>112.312950</td>\n",
              "      <td>[{\"name\": \"Legendary Pictures\", \"id\": 923}, {\"...</td>\n",
              "      <td>[{\"iso_3166_1\": \"US\", \"name\": \"United States o...</td>\n",
              "      <td>2012-07-16</td>\n",
              "      <td>1084939099</td>\n",
              "      <td>165.0</td>\n",
              "      <td>[{\"iso_639_1\": \"en\", \"name\": \"English\"}]</td>\n",
              "      <td>Released</td>\n",
              "      <td>The Legend Ends</td>\n",
              "      <td>The Dark Knight Rises</td>\n",
              "      <td>7.6</td>\n",
              "      <td>9106</td>\n",
              "    </tr>\n",
              "    <tr>\n",
              "      <th>4</th>\n",
              "      <td>260000000</td>\n",
              "      <td>[{\"id\": 28, \"name\": \"Action\"}, {\"id\": 12, \"nam...</td>\n",
              "      <td>http://movies.disney.com/john-carter</td>\n",
              "      <td>49529</td>\n",
              "      <td>[{\"id\": 818, \"name\": \"based on novel\"}, {\"id\":...</td>\n",
              "      <td>en</td>\n",
              "      <td>John Carter</td>\n",
              "      <td>John Carter is a war-weary, former military ca...</td>\n",
              "      <td>43.926995</td>\n",
              "      <td>[{\"name\": \"Walt Disney Pictures\", \"id\": 2}]</td>\n",
              "      <td>[{\"iso_3166_1\": \"US\", \"name\": \"United States o...</td>\n",
              "      <td>2012-03-07</td>\n",
              "      <td>284139100</td>\n",
              "      <td>132.0</td>\n",
              "      <td>[{\"iso_639_1\": \"en\", \"name\": \"English\"}]</td>\n",
              "      <td>Released</td>\n",
              "      <td>Lost in our world, found in another.</td>\n",
              "      <td>John Carter</td>\n",
              "      <td>6.1</td>\n",
              "      <td>2124</td>\n",
              "    </tr>\n",
              "  </tbody>\n",
              "</table>\n",
              "</div>"
            ],
            "text/plain": [
              "      budget  ... vote_count\n",
              "0  237000000  ...      11800\n",
              "1  300000000  ...       4500\n",
              "2  245000000  ...       4466\n",
              "3  250000000  ...       9106\n",
              "4  260000000  ...       2124\n",
              "\n",
              "[5 rows x 20 columns]"
            ]
          },
          "metadata": {
            "tags": []
          },
          "execution_count": 78
        }
      ]
    },
    {
      "cell_type": "code",
      "metadata": {
        "colab": {
          "base_uri": "https://localhost:8080/"
        },
        "id": "Bje7ECvf1OlL",
        "outputId": "e193f06a-1451-406f-cf69-0718454e00a4"
      },
      "source": [
        "tmdb[\"vote_count\"].head()"
      ],
      "execution_count": null,
      "outputs": [
        {
          "output_type": "execute_result",
          "data": {
            "text/plain": [
              "0    11800\n",
              "1     4500\n",
              "2     4466\n",
              "3     9106\n",
              "4     2124\n",
              "Name: vote_count, dtype: int64"
            ]
          },
          "metadata": {
            "tags": []
          },
          "execution_count": 80
        }
      ]
    },
    {
      "cell_type": "code",
      "metadata": {
        "colab": {
          "base_uri": "https://localhost:8080/",
          "height": 367
        },
        "id": "RbFr5gW40io5",
        "outputId": "3bcd5be6-1bb8-4c10-b0bb-afd5202c9b22"
      },
      "source": [
        "ax = sns.distplot(tmdb_com_mais_de_10_voltos[\"vote_count\"])\n",
        "ax.set(xlabel='Número de votos', ylabel='Densidade')\n",
        "ax.set_title('Número de votos em filmes no TMDB 5000 com 10 ou mais votos')"
      ],
      "execution_count": null,
      "outputs": [
        {
          "output_type": "stream",
          "text": [
            "/usr/local/lib/python3.7/dist-packages/seaborn/distributions.py:2557: FutureWarning: `distplot` is a deprecated function and will be removed in a future version. Please adapt your code to use either `displot` (a figure-level function with similar flexibility) or `histplot` (an axes-level function for histograms).\n",
            "  warnings.warn(msg, FutureWarning)\n"
          ],
          "name": "stderr"
        },
        {
          "output_type": "execute_result",
          "data": {
            "text/plain": [
              "Text(0.5, 1.0, 'Número de votos em filmes no TMDB 5000 com 10 ou mais votos')"
            ]
          },
          "metadata": {
            "tags": []
          },
          "execution_count": 79
        },
        {
          "output_type": "display_data",
          "data": {
            "image/png": "[encoded data removed]",
            "text/plain": [
              "<Figure size 432x288 with 1 Axes>"
            ]
          },
          "metadata": {
            "tags": [],
            "needs_background": "light"
          }
        }
      ]
    },
    {
      "cell_type": "code",
      "metadata": {
        "colab": {
          "base_uri": "https://localhost:8080/"
        },
        "id": "83vsNYQT1UgF",
        "outputId": "c068c7b2-ab01-4da8-b5aa-d54037b25f1e"
      },
      "source": [
        "tmdb.query(\"budget > 0\").budget"
      ],
      "execution_count": null,
      "outputs": [
        {
          "output_type": "execute_result",
          "data": {
            "text/plain": [
              "0       237000000\n",
              "1       300000000\n",
              "2       245000000\n",
              "3       250000000\n",
              "4       260000000\n",
              "          ...    \n",
              "4791           13\n",
              "4792        20000\n",
              "4796         7000\n",
              "4798       220000\n",
              "4799         9000\n",
              "Name: budget, Length: 3766, dtype: int64"
            ]
          },
          "metadata": {
            "tags": []
          },
          "execution_count": 84
        }
      ]
    },
    {
      "cell_type": "code",
      "metadata": {
        "colab": {
          "base_uri": "https://localhost:8080/",
          "height": 367
        },
        "id": "3Gxh22ps16qo",
        "outputId": "629e90a8-991d-4e9c-c381-54feefae6c87"
      },
      "source": [
        "ax = sns.distplot(tmdb.query(\"budget > 0\").budget)\n",
        "ax.set(xlabel='Budget (gastos)', ylabel='Densidade')\n",
        "ax.set_title(\"Gatso nos filmes no TMDB 5000\")"
      ],
      "execution_count": null,
      "outputs": [
        {
          "output_type": "stream",
          "text": [
            "/usr/local/lib/python3.7/dist-packages/seaborn/distributions.py:2557: FutureWarning: `distplot` is a deprecated function and will be removed in a future version. Please adapt your code to use either `displot` (a figure-level function with similar flexibility) or `histplot` (an axes-level function for histograms).\n",
            "  warnings.warn(msg, FutureWarning)\n"
          ],
          "name": "stderr"
        },
        {
          "output_type": "execute_result",
          "data": {
            "text/plain": [
              "Text(0.5, 1.0, 'Gatso nos filmes no TMDB 5000')"
            ]
          },
          "metadata": {
            "tags": []
          },
          "execution_count": 87
        },
        {
          "output_type": "display_data",
          "data": {
            "image/png": "[encoded data removed]",
            "text/plain": [
              "<Figure size 432x288 with 1 Axes>"
            ]
          },
          "metadata": {
            "tags": [],
            "needs_background": "light"
          }
        }
      ]
    },
    {
      "cell_type": "code",
      "metadata": {
        "colab": {
          "base_uri": "https://localhost:8080/"
        },
        "id": "WdNDQg321g0h",
        "outputId": "435f77cb-750e-4fb7-e5de-3fdbc623ae1d"
      },
      "source": [
        "tmdb[\"popularity\"]"
      ],
      "execution_count": null,
      "outputs": [
        {
          "output_type": "execute_result",
          "data": {
            "text/plain": [
              "0       150.437577\n",
              "1       139.082615\n",
              "2       107.376788\n",
              "3       112.312950\n",
              "4        43.926995\n",
              "           ...    \n",
              "4798     14.269792\n",
              "4799      0.642552\n",
              "4800      1.444476\n",
              "4801      0.857008\n",
              "4802      1.929883\n",
              "Name: popularity, Length: 4803, dtype: float64"
            ]
          },
          "metadata": {
            "tags": []
          },
          "execution_count": 88
        }
      ]
    },
    {
      "cell_type": "code",
      "metadata": {
        "colab": {
          "base_uri": "https://localhost:8080/",
          "height": 367
        },
        "id": "lXiXpzPm2f1d",
        "outputId": "4ddd96fb-35ea-49b4-8528-6ad31835f583"
      },
      "source": [
        "ax = sns.distplot(tmdb[\"popularity\"])\n",
        "ax.set(xlabel='Popularidade', ylabel='Densidade')\n",
        "ax.set_title(\"Popularidade dos filmes no TMDB 5000\")"
      ],
      "execution_count": null,
      "outputs": [
        {
          "output_type": "stream",
          "text": [
            "/usr/local/lib/python3.7/dist-packages/seaborn/distributions.py:2557: FutureWarning: `distplot` is a deprecated function and will be removed in a future version. Please adapt your code to use either `displot` (a figure-level function with similar flexibility) or `histplot` (an axes-level function for histograms).\n",
            "  warnings.warn(msg, FutureWarning)\n"
          ],
          "name": "stderr"
        },
        {
          "output_type": "execute_result",
          "data": {
            "text/plain": [
              "Text(0.5, 1.0, 'Popularidade dos filmes no TMDB 5000')"
            ]
          },
          "metadata": {
            "tags": []
          },
          "execution_count": 90
        },
        {
          "output_type": "display_data",
          "data": {
            "image/png": "[encoded data removed]",
            "text/plain": [
              "<Figure size 432x288 with 1 Axes>"
            ]
          },
          "metadata": {
            "tags": [],
            "needs_background": "light"
          }
        }
      ]
    },
    {
      "cell_type": "code",
      "metadata": {
        "colab": {
          "base_uri": "https://localhost:8080/"
        },
        "id": "aDxY5ZYX22ph",
        "outputId": "4e07b5bc-8ae3-48c4-aada-303ffa0efe0c"
      },
      "source": [
        "tmdb[\"runtime\"]"
      ],
      "execution_count": null,
      "outputs": [
        {
          "output_type": "execute_result",
          "data": {
            "text/plain": [
              "0       162.0\n",
              "1       169.0\n",
              "2       148.0\n",
              "3       165.0\n",
              "4       132.0\n",
              "        ...  \n",
              "4798     81.0\n",
              "4799     85.0\n",
              "4800    120.0\n",
              "4801     98.0\n",
              "4802     90.0\n",
              "Name: runtime, Length: 4803, dtype: float64"
            ]
          },
          "metadata": {
            "tags": []
          },
          "execution_count": 91
        }
      ]
    },
    {
      "cell_type": "code",
      "metadata": {
        "colab": {
          "base_uri": "https://localhost:8080/",
          "height": 367
        },
        "id": "zTO5nWhT3AqP",
        "outputId": "46ce826a-bf98-429f-a3db-36eade6dc8d0"
      },
      "source": [
        "ax = sns.distplot(tmdb[\"runtime\"])\n",
        "ax.set(xlabel='Tempo', ylabel='Densidade')\n",
        "ax.set_title(\"Tempo de duração dos filmes no TMDB 5000\")"
      ],
      "execution_count": null,
      "outputs": [
        {
          "output_type": "stream",
          "text": [
            "/usr/local/lib/python3.7/dist-packages/seaborn/distributions.py:2557: FutureWarning: `distplot` is a deprecated function and will be removed in a future version. Please adapt your code to use either `displot` (a figure-level function with similar flexibility) or `histplot` (an axes-level function for histograms).\n",
            "  warnings.warn(msg, FutureWarning)\n"
          ],
          "name": "stderr"
        },
        {
          "output_type": "execute_result",
          "data": {
            "text/plain": [
              "Text(0.5, 1.0, 'Tempo de duração dos filmes no TMDB 5000')"
            ]
          },
          "metadata": {
            "tags": []
          },
          "execution_count": 92
        },
        {
          "output_type": "display_data",
          "data": {
            "image/png": "[encoded data removed]",
            "text/plain": [
              "<Figure size 432x288 with 1 Axes>"
            ]
          },
          "metadata": {
            "tags": [],
            "needs_background": "light"
          }
        }
      ]
    },
    {
      "cell_type": "code",
      "metadata": {
        "colab": {
          "base_uri": "https://localhost:8080/",
          "height": 367
        },
        "id": "fzyq1Z2D4VKB",
        "outputId": "694d731a-6247-4f10-cf3a-33ffa86d9f47"
      },
      "source": [
        "ax = sns.distplot(tmdb.query(\"runtime>0\").runtime.dropna())\n",
        "ax.set(xlabel='Tempo de duração', ylabel='Densidade')\n",
        "ax.set_title('Duração dos filmes no TMDB 5000')"
      ],
      "execution_count": null,
      "outputs": [
        {
          "output_type": "stream",
          "text": [
            "/usr/local/lib/python3.7/dist-packages/seaborn/distributions.py:2557: FutureWarning: `distplot` is a deprecated function and will be removed in a future version. Please adapt your code to use either `displot` (a figure-level function with similar flexibility) or `histplot` (an axes-level function for histograms).\n",
            "  warnings.warn(msg, FutureWarning)\n"
          ],
          "name": "stderr"
        },
        {
          "output_type": "execute_result",
          "data": {
            "text/plain": [
              "Text(0.5, 1.0, 'Duração dos filmes no TMDB 5000')"
            ]
          },
          "metadata": {
            "tags": []
          },
          "execution_count": 100
        },
        {
          "output_type": "display_data",
          "data": {
            "image/png": "[encoded data removed]",
            "text/plain": [
              "<Figure size 432x288 with 1 Axes>"
            ]
          },
          "metadata": {
            "tags": [],
            "needs_background": "light"
          }
        }
      ]
    },
    {
      "cell_type": "code",
      "metadata": {
        "colab": {
          "base_uri": "https://localhost:8080/",
          "height": 367
        },
        "id": "c376hZD34eOV",
        "outputId": "edfc5890-84b8-4fbb-eee3-46ec022dad97"
      },
      "source": [
        "ax = sns.distplot(tmdb.query(\"runtime>0\").runtime.dropna(),\n",
        "                 hist_kws={'cumulative':True},\n",
        "                 kde_kws={'cumulative':True})\n",
        "ax.set(xlabel='Tempo de duração', ylabel='Densidade')\n",
        "ax.set_title('Duração dos filmes no TMDB 5000')"
      ],
      "execution_count": null,
      "outputs": [
        {
          "output_type": "stream",
          "text": [
            "/usr/local/lib/python3.7/dist-packages/seaborn/distributions.py:2557: FutureWarning: `distplot` is a deprecated function and will be removed in a future version. Please adapt your code to use either `displot` (a figure-level function with similar flexibility) or `histplot` (an axes-level function for histograms).\n",
            "  warnings.warn(msg, FutureWarning)\n"
          ],
          "name": "stderr"
        },
        {
          "output_type": "execute_result",
          "data": {
            "text/plain": [
              "Text(0.5, 1.0, 'Duração dos filmes no TMDB 5000')"
            ]
          },
          "metadata": {
            "tags": []
          },
          "execution_count": 101
        },
        {
          "output_type": "display_data",
          "data": {
            "image/png": "[encoded data removed]",
            "text/plain": [
              "<Figure size 432x288 with 1 Axes>"
            ]
          },
          "metadata": {
            "tags": [],
            "needs_background": "light"
          }
        }
      ]
    },
    {
      "cell_type": "code",
      "metadata": {
        "colab": {
          "base_uri": "https://localhost:8080/"
        },
        "id": "Uw8sIpyA1De4",
        "outputId": "e1bd23b9-9a33-4011-c013-ed3ab0e8f338"
      },
      "source": [
        "tmdb.query(\"runtime>0\").runtime.dropna().quantile(q=0.8)"
      ],
      "execution_count": null,
      "outputs": [
        {
          "output_type": "execute_result",
          "data": {
            "text/plain": [
              "121.0"
            ]
          },
          "metadata": {
            "tags": []
          },
          "execution_count": 102
        }
      ]
    },
    {
      "cell_type": "markdown",
      "metadata": {
        "id": "BDdyyzAE0tII"
      },
      "source": [
        "# **03. Testes de uma amostra**"
      ]
    },
    {
      "cell_type": "markdown",
      "metadata": {
        "id": "ONdXdari4_3m"
      },
      "source": [
        "**O efeito do tamanho de uma amostra**"
      ]
    },
    {
      "cell_type": "code",
      "metadata": {
        "colab": {
          "base_uri": "https://localhost:8080/"
        },
        "id": "aax0ZRV18a_-",
        "outputId": "f70a489b-e173-403b-fd88-b4ba2f82e5a0"
      },
      "source": [
        "notas_media_por_filmes_com_pelo_menos_10_votos.mean()"
      ],
      "execution_count": null,
      "outputs": [
        {
          "output_type": "execute_result",
          "data": {
            "text/plain": [
              "3.4320503405352603"
            ]
          },
          "metadata": {
            "tags": []
          },
          "execution_count": 104
        }
      ]
    },
    {
      "cell_type": "code",
      "metadata": {
        "colab": {
          "base_uri": "https://localhost:8080/"
        },
        "id": "g66tvwLO9yIz",
        "outputId": "b2bbebe3-0fc6-4c7b-ff3d-7d97e11f2d6f"
      },
      "source": [
        "medias = list()\n",
        "for i in range(1, len(notas_media_por_filmes_com_pelo_menos_10_votos)):\n",
        "  medias.append(notas_media_por_filmes_com_pelo_menos_10_votos[0:i].mean())\n",
        "medias"
      ],
      "execution_count": null,
      "outputs": [
        {
          "output_type": "execute_result",
          "data": {
            "text/plain": [
              "[3.9209302325581397,\n",
              " 3.676374207188161,\n",
              " 3.5374545996639024,\n",
              " 3.4209480926050695,\n",
              " 3.5259741603585653,\n",
              " 3.469175997829668,\n",
              " 3.420007998139716,\n",
              " 3.4295335135237663,\n",
              " 3.4564107421798558,\n",
              " 3.352874931119765,\n",
              " 3.396552967684635,\n",
              " 3.363506887044249,\n",
              " 3.406839377909513,\n",
              " 3.4332165225577675,\n",
              " 3.451002087720583,\n",
              " 3.405769002692592,\n",
              " 3.3524884731224396,\n",
              " 3.3603714480862994,\n",
              " 3.3531004361987162,\n",
              " 3.3416954143887807,\n",
              " 3.331376585132172,\n",
              " 3.3447231039898004,\n",
              " 3.3514742733815486,\n",
              " 3.3879658756270143,\n",
              " 3.412973556391407,\n",
              " 3.404174978311576,\n",
              " 3.425614825316986,\n",
              " 3.4337122869128076,\n",
              " 3.4475781010027933,\n",
              " 3.4424344719950075,\n",
              " 3.4507430374145236,\n",
              " 3.4223910131474935,\n",
              " 3.4190609824460543,\n",
              " 3.4086964437466603,\n",
              " 3.4248871013004156,\n",
              " 3.4171696491401096,\n",
              " 3.4393473639752203,\n",
              " 3.4400036363518125,\n",
              " 3.4550555181639973,\n",
              " 3.4495614831510744,\n",
              " 3.455822178683975,\n",
              " 3.433832556918074,\n",
              " 3.441766683501375,\n",
              " 3.4432967795375005,\n",
              " 3.4437021502486327,\n",
              " 3.4427521035040973,\n",
              " 3.4283255881604555,\n",
              " 3.4216342812642555,\n",
              " 3.432757391170427,\n",
              " 3.427227243347019,\n",
              " 3.4237521993598223,\n",
              " 3.433872349372133,\n",
              " 3.4261353149275555,\n",
              " 3.4349105868733414,\n",
              " 3.4231070177613585,\n",
              " 3.4295266905808375,\n",
              " 3.4296998002091375,\n",
              " 3.4271637466822935,\n",
              " 3.425464752279595,\n",
              " 3.435567765901939,\n",
              " 3.4465546751620586,\n",
              " 3.448117958802502,\n",
              " 3.4355486261230976,\n",
              " 3.4378577621732576,\n",
              " 3.430377072035604,\n",
              " 3.43143196488355,\n",
              " 3.432368592967551,\n",
              " 3.4309121920905774,\n",
              " 3.42821923335326,\n",
              " 3.4287684824005944,\n",
              " 3.434641759328454,\n",
              " 3.436180825802427,\n",
              " 3.429055860985416,\n",
              " 3.4350821331342614,\n",
              " 3.427462856207623,\n",
              " 3.4192916556378283,\n",
              " 3.412454843783534,\n",
              " 3.405592512228055,\n",
              " 3.4085080795428526,\n",
              " 3.4184752579603312,\n",
              " 3.4202299592275627,\n",
              " 3.419025064254404,\n",
              " 3.420670009932731,\n",
              " 3.416654097116071,\n",
              " 3.404693460679411,\n",
              " 3.402645530073505,\n",
              " 3.394330584705061,\n",
              " 3.3860922239551132,\n",
              " 3.378383322562359,\n",
              " 3.3850123967561108,\n",
              " 3.3951517364367287,\n",
              " 3.3952346281904355,\n",
              " 3.383078405116914,\n",
              " 3.379430534545761,\n",
              " 3.3735724938312446,\n",
              " 3.3744554192427247,\n",
              " 3.36514586411062,\n",
              " 3.3682226069938452,\n",
              " 3.3655132877312814,\n",
              " 3.3585248215206356,\n",
              " 3.357450318337263,\n",
              " 3.358179415038056,\n",
              " 3.351951135927654,\n",
              " 3.3526878695107674,\n",
              " 3.3485007800702924,\n",
              " 3.3550400808872394,\n",
              " 3.3547736372550676,\n",
              " 3.355456950137627,\n",
              " 3.3590766111455386,\n",
              " 3.363591998596663,\n",
              " 3.36583441302372,\n",
              " 3.3673757266437008,\n",
              " 3.3629178561746094,\n",
              " 3.3632065884303874,\n",
              " 3.3605713170174263,\n",
              " 3.3651599879298377,\n",
              " 3.3663124666654802,\n",
              " 3.359718592321854,\n",
              " 3.36239802792059,\n",
              " 3.3633595258360667,\n",
              " 3.363173985051546,\n",
              " 3.3601971491085005,\n",
              " 3.367781753166772,\n",
              " 3.3723042505490675,\n",
              " 3.3707375812505576,\n",
              " 3.37352714189319,\n",
              " 3.3741567578790153,\n",
              " 3.3748173738044156,\n",
              " 3.370582909112687,\n",
              " 3.3715784251964354,\n",
              " 3.3656885135537147,\n",
              " 3.372244477066271,\n",
              " 3.376069348524062,\n",
              " 3.380014815361658,\n",
              " 3.3841583644285635,\n",
              " 3.3842532207454816,\n",
              " 3.38101908388302,\n",
              " 3.3837512971601647,\n",
              " 3.380605090500225,\n",
              " 3.379672196996652,\n",
              " 3.3785658992202667,\n",
              " 3.3834839075139485,\n",
              " 3.3862967073615033,\n",
              " 3.3859578413381595,\n",
              " 3.3849077572749575,\n",
              " 3.389365336236871,\n",
              " 3.389612800441092,\n",
              " 3.3938640449819037,\n",
              " 3.3992546782632926,\n",
              " 3.400049770531661,\n",
              " 3.397090003839398,\n",
              " 3.4024956617088757,\n",
              " 3.40572009093518,\n",
              " 3.40974138904599,\n",
              " 3.4119366058908547,\n",
              " 3.4098020594968173,\n",
              " 3.4095803903280477,\n",
              " 3.408277373324096,\n",
              " 3.414697151366202,\n",
              " 3.4158552941701634,\n",
              " 3.4166884911007833,\n",
              " 3.4130270153024127,\n",
              " 3.411413352631846,\n",
              " 3.411304237789691,\n",
              " 3.4078013838232892,\n",
              " 3.4100435441617027,\n",
              " 3.412176419742973,\n",
              " 3.408783139049014,\n",
              " 3.409141746244594,\n",
              " 3.4083393081650804,\n",
              " 3.406187456484626,\n",
              " 3.4072981237272866,\n",
              " 3.4083156682914835,\n",
              " 3.409443425683748,\n",
              " 3.409309262750016,\n",
              " 3.407986315735727,\n",
              " 3.4091241049123617,\n",
              " 3.4032140979024206,\n",
              " 3.407465045615825,\n",
              " 3.4080870035608934,\n",
              " 3.4061573711070303,\n",
              " 3.406834593049881,\n",
              " 3.4097582316950525,\n",
              " 3.407078386232942,\n",
              " 3.4058764132035537,\n",
              " 3.406382453992782,\n",
              " 3.404531985402372,\n",
              " 3.4040266227647202,\n",
              " 3.4006291526014407,\n",
              " 3.401869860410715,\n",
              " 3.395577348052544,\n",
              " 3.3948191326981036,\n",
              " 3.395515612663823,\n",
              " 3.390899552804731,\n",
              " 3.3914446372069422,\n",
              " 3.393621867722121,\n",
              " 3.3924169343834296,\n",
              " 3.390916031155423,\n",
              " 3.3864390661747423,\n",
              " 3.381590204177202,\n",
              " 3.3801951806548796,\n",
              " 3.3807882738199546,\n",
              " 3.377870408128534,\n",
              " 3.373720308088688,\n",
              " 3.375274392889757,\n",
              " 3.37187500263301,\n",
              " 3.3687274856301976,\n",
              " 3.3679563598980016,\n",
              " 3.3654780998027958,\n",
              " 3.361555188216433,\n",
              " 3.363264510652479,\n",
              " 3.3650325801215484,\n",
              " 3.361654279489309,\n",
              " 3.360126238301726,\n",
              " 3.3557565112428107,\n",
              " 3.3566375117999225,\n",
              " 3.3592731519693766,\n",
              " 3.3580498466511344,\n",
              " 3.3564149158445082,\n",
              " 3.3572250910695174,\n",
              " 3.3528570675438267,\n",
              " 3.3557365639204666,\n",
              " 3.35369290219885,\n",
              " 3.3515186779330817,\n",
              " 3.3508654636069144,\n",
              " 3.3517465898741405,\n",
              " 3.3532492795348587,\n",
              " 3.357401694975495,\n",
              " 3.3575106523824862,\n",
              " 3.35921712780691,\n",
              " 3.358345602304898,\n",
              " 3.3565163637783724,\n",
              " 3.354400998970896,\n",
              " 3.3528864647872596,\n",
              " 3.3526363847118192,\n",
              " 3.3543201288443965,\n",
              " 3.355638046725503,\n",
              " 3.355732209472403,\n",
              " 3.357649453317172,\n",
              " 3.3577796176320542,\n",
              " 3.3536671157608287,\n",
              " 3.3537950011693183,\n",
              " 3.354864307187701,\n",
              " 3.3556270912015114,\n",
              " 3.355876232325859,\n",
              " 3.356885543034561,\n",
              " 3.355665583571083,\n",
              " 3.351831294543627,\n",
              " 3.350942151925415,\n",
              " 3.3514795597883014,\n",
              " 3.3549597209046826,\n",
              " 3.3570233728058545,\n",
              " 3.356600355522037,\n",
              " 3.35519641711447,\n",
              " 3.3533677601410363,\n",
              " 3.3543590691136997,\n",
              " 3.354017853539976,\n",
              " 3.3532916861489936,\n",
              " 3.3541798778369643,\n",
              " 3.3546318710499285,\n",
              " 3.351995989040797,\n",
              " 3.354854044241454,\n",
              " 3.3526900147413508,\n",
              " 3.3525551024534357,\n",
              " 3.3474511209347435,\n",
              " 3.348226731160027,\n",
              " 3.3479048897772823,\n",
              " 3.349649217111638,\n",
              " 3.3513233835907767,\n",
              " 3.352035068321439,\n",
              " 3.349467595744607,\n",
              " 3.3472126086687486,\n",
              " 3.345924978802462,\n",
              " 3.34624927672178,\n",
              " 3.3478714601765223,\n",
              " 3.350129107577539,\n",
              " 3.3518808647836074,\n",
              " 3.352156730120974,\n",
              " 3.355056850524055,\n",
              " 3.35599194433248,\n",
              " 3.357467232591815,\n",
              " 3.3577953629726953,\n",
              " 3.358245503687227,\n",
              " 3.359864997752349,\n",
              " 3.358602313549709,\n",
              " 3.3612506344794215,\n",
              " 3.3619829617858645,\n",
              " 3.3626200158958253,\n",
              " 3.362787805152626,\n",
              " 3.3637535614895375,\n",
              " 3.363128353999258,\n",
              " 3.3620404299973923,\n",
              " 3.3597188523585553,\n",
              " 3.3596095576460994,\n",
              " 3.3602110067287807,\n",
              " 3.3593059279638444,\n",
              " 3.359607859492036,\n",
              " 3.359379868912085,\n",
              " 3.359803719220443,\n",
              " 3.3576295307224124,\n",
              " 3.3562903809676716,\n",
              " 3.354716414080204,\n",
              " 3.3548260332894535,\n",
              " 3.353957885452676,\n",
              " 3.3529613022216838,\n",
              " 3.3549668753081052,\n",
              " 3.3532987654304147,\n",
              " 3.355699070064058,\n",
              " 3.354652335418272,\n",
              " 3.3551211988524066,\n",
              " 3.356038802289436,\n",
              " 3.355926941421143,\n",
              " 3.3536715837808204,\n",
              " 3.356201763922117,\n",
              " 3.35449376409437,\n",
              " 3.351844231231129,\n",
              " 3.353560285180978,\n",
              " 3.3528058074402716,\n",
              " 3.355674884022319,\n",
              " 3.3539055052729077,\n",
              " 3.3509794262731214,\n",
              " 3.3503797843804786,\n",
              " 3.352512403271791,\n",
              " 3.3527995395408765,\n",
              " 3.352728732447035,\n",
              " 3.3510502871191474,\n",
              " 3.351105324831467,\n",
              " 3.35036834213381,\n",
              " 3.3484879134862093,\n",
              " 3.3465480511221095,\n",
              " 3.3468802979136756,\n",
              " 3.3493231124887615,\n",
              " 3.34868359454244,\n",
              " 3.348648483546023,\n",
              " 3.349569362273178,\n",
              " 3.3462968344092694,\n",
              " 3.346011087126156,\n",
              " 3.3451987128193585,\n",
              " 3.3451769993238383,\n",
              " 3.3438157520939935,\n",
              " 3.343607281480015,\n",
              " 3.345282893717403,\n",
              " 3.343790329401414,\n",
              " 3.341458574567883,\n",
              " 3.340238273034221,\n",
              " 3.3397590254377385,\n",
              " 3.342494770321203,\n",
              " 3.3443841531651075,\n",
              " 3.342654515880224,\n",
              " 3.34321396451617,\n",
              " 3.3459693231004155,\n",
              " 3.3480389218561144,\n",
              " 3.3490595859112906,\n",
              " 3.3504668249969143,\n",
              " 3.3523669184476277,\n",
              " 3.3549218000303727,\n",
              " 3.35762910191104,\n",
              " 3.3599379885713887,\n",
              " 3.3616177238761007,\n",
              " 3.363418785754223,\n",
              " 3.3646494603302286,\n",
              " 3.367067555743681,\n",
              " 3.3692807430431597,\n",
              " 3.371131227658034,\n",
              " 3.3722148863950436,\n",
              " 3.3740877755242713,\n",
              " 3.3760657379887826,\n",
              " 3.377436306044815,\n",
              " 3.378159905335871,\n",
              " 3.380741455141269,\n",
              " 3.382527807717356,\n",
              " 3.3839040647203844,\n",
              " 3.3861701842966485,\n",
              " 3.3882570732869426,\n",
              " 3.390555054424844,\n",
              " 3.3927540870044264,\n",
              " 3.3923754289487116,\n",
              " 3.3950222059696333,\n",
              " 3.395629007536996,\n",
              " 3.397310201618795,\n",
              " 3.3991107872663395,\n",
              " 3.40032021219787,\n",
              " 3.4020046360444933,\n",
              " 3.402910873971461,\n",
              " 3.404385360624247,\n",
              " 3.406187471088951,\n",
              " 3.4065292645446936,\n",
              " 3.4063015649406654,\n",
              " 3.408295180922356,\n",
              " 3.405966218919991,\n",
              " 3.405034506510136,\n",
              " 3.402980847054753,\n",
              " 3.402485560760296,\n",
              " 3.4013371202507523,\n",
              " 3.4015868996931555,\n",
              " 3.4017611454901275,\n",
              " 3.4009533871414903,\n",
              " 3.398270924694736,\n",
              " 3.398496048287218,\n",
              " 3.3990382697049615,\n",
              " 3.3994895458403604,\n",
              " 3.398540211504581,\n",
              " 3.3997530743635327,\n",
              " 3.3997183248866785,\n",
              " 3.3981552343725547,\n",
              " 3.3983547699200773,\n",
              " 3.398297387193001,\n",
              " 3.398730481832234,\n",
              " 3.4000477667177296,\n",
              " 3.4011746476904112,\n",
              " 3.3996409705265256,\n",
              " 3.402532398003182,\n",
              " 3.4022207203416963,\n",
              " 3.402017727824402,\n",
              " 3.402196457338537,\n",
              " 3.402351433803268,\n",
              " 3.403118510034488,\n",
              " 3.403815462030684,\n",
              " 3.404456508166896,\n",
              " 3.403859816847085,\n",
              " 3.404976419609519,\n",
              " 3.4057940110322455,\n",
              " 3.4058018051174908,\n",
              " 3.4070205159810523,\n",
              " 3.4082439178072965,\n",
              " 3.4085571167482813,\n",
              " 3.410109508913809,\n",
              " 3.411721402584571,\n",
              " 3.411621929895674,\n",
              " 3.4134606930269302,\n",
              " 3.41478474474642,\n",
              " 3.4127774167438103,\n",
              " 3.412266358879973,\n",
              " 3.412250550231414,\n",
              " 3.412315436760712,\n",
              " 3.412898811141231,\n",
              " 3.4143567085985733,\n",
              " 3.4151604454342452,\n",
              " 3.413555356300658,\n",
              " 3.413300014171059,\n",
              " 3.4148571569960677,\n",
              " 3.4172556702155332,\n",
              " 3.417526057048087,\n",
              " 3.4180583095183534,\n",
              " 3.418663796463256,\n",
              " 3.4187919190084344,\n",
              " 3.4188588676207603,\n",
              " 3.420358979726314,\n",
              " 3.419679749516199,\n",
              " 3.4213288271970126,\n",
              " 3.4223901823473524,\n",
              " 3.423747094080465,\n",
              " 3.4235907896265796,\n",
              " 3.425216723362826,\n",
              " 3.4245818814133773,\n",
              " 3.4254782661763596,\n",
              " 3.427920691560365,\n",
              " 3.4283611040889004,\n",
              " 3.4289771171760948,\n",
              " 3.4301097756170162,\n",
              " 3.430450007170427,\n",
              " 3.430944900897528,\n",
              " 3.432173961586734,\n",
              " 3.4338352408048594,\n",
              " 3.43417303403089,\n",
              " 3.435850001362211,\n",
              " 3.437555663813678,\n",
              " 3.4392008440192043,\n",
              " 3.440776036466274,\n",
              " 3.4418898868446135,\n",
              " 3.443384458917838,\n",
              " 3.444879667282456,\n",
              " 3.446687532679322,\n",
              " 3.4478460681237397,\n",
              " 3.4492625809385786,\n",
              " 3.4508809918362378,\n",
              " 3.452672762410073,\n",
              " 3.45410598906202,\n",
              " 3.4550047560673507,\n",
              " 3.4566175933810994,\n",
              " 3.458267037053904,\n",
              " 3.459327018475352,\n",
              " 3.460527616131251,\n",
              " 3.4605152562932635,\n",
              " 3.4625210667613877,\n",
              " 3.4636269904923314,\n",
              " 3.464802591288678,\n",
              " 3.4655089872276847,\n",
              " 3.4671330791198174,\n",
              " 3.4684206426638307,\n",
              " 3.4696851336447305,\n",
              " 3.470763009389355,\n",
              " 3.4722101645961025,\n",
              " 3.473405083291252,\n",
              " 3.474847699284603,\n",
              " 3.475645767744054,\n",
              " 3.476426432926936,\n",
              " 3.4779044922985687,\n",
              " 3.478903806943261,\n",
              " 3.4805229224062972,\n",
              " 3.4820033601304807,\n",
              " 3.482829940219634,\n",
              " 3.4839575148911655,\n",
              " 3.48532016209836,\n",
              " 3.486277448906086,\n",
              " 3.4875023168056005,\n",
              " 3.488956947344445,\n",
              " 3.4898828240732582,\n",
              " 3.49100936300286,\n",
              " 3.492526415001586,\n",
              " 3.493659295933928,\n",
              " 3.494886957899335,\n",
              " 3.4960108206937393,\n",
              " 3.4974035319507157,\n",
              " 3.498029932859549,\n",
              " 3.498336560896643,\n",
              " 3.498928458895077,\n",
              " 3.499288027864749,\n",
              " 3.500411882931174,\n",
              " 3.5013831956668726,\n",
              " 3.5018283974666162,\n",
              " 3.5028672657608544,\n",
              " 3.504062370370765,\n",
              " 3.5046759562962957,\n",
              " 3.505512870558695,\n",
              " 3.5066641980122166,\n",
              " 3.508074702380315,\n",
              " 3.50877780018798,\n",
              " 3.509778242334896,\n",
              " 3.5097597928210567,\n",
              " 3.5109113037973105,\n",
              " 3.5119160843267414,\n",
              " 3.512350744100218,\n",
              " 3.5127567664271218,\n",
              " 3.5141757814890546,\n",
              " 3.51531537891165,\n",
              " 3.5162044631654243,\n",
              " 3.5173515428497515,\n",
              " 3.5178444321356044,\n",
              " 3.519127176364593,\n",
              " 3.520280096820217,\n",
              " 3.5206701839424546,\n",
              " 3.521444596993368,\n",
              " 3.522352146475276,\n",
              " 3.5229783560480485,\n",
              " 3.522661545872136,\n",
              " 3.523619072427084,\n",
              " 3.524397139813166,\n",
              " 3.5249598651201244,\n",
              " 3.5244186157785835,\n",
              " 3.524747951054741,\n",
              " 3.5250201467955837,\n",
              " 3.525446637606473,\n",
              " 3.5263354652332795,\n",
              " 3.5268424144989714,\n",
              " 3.5268262539384647,\n",
              " 3.527728561857257,\n",
              " 3.528473758676683,\n",
              " 3.529064724277282,\n",
              " 3.528385923287881,\n",
              " 3.5281803217815937,\n",
              " 3.52658806735375,\n",
              " 3.5267224983660395,\n",
              " 3.5266139784068433,\n",
              " 3.5247969625158575,\n",
              " 3.5252478512746634,\n",
              " 3.526022168493378,\n",
              " 3.5257073798555765,\n",
              " 3.524783465303985,\n",
              " 3.5247948101016973,\n",
              " 3.525308622725305,\n",
              " 3.5259271756211015,\n",
              " 3.5267545278451484,\n",
              " 3.527300993009033,\n",
              " 3.52614240191008,\n",
              " 3.525358245110074,\n",
              " 3.525148632492389,\n",
              " 3.524316964346977,\n",
              " 3.524007674417601,\n",
              " 3.522529500266306,\n",
              " 3.5229487765692182,\n",
              " 3.522500247334399,\n",
              " 3.5224217635242994,\n",
              " 3.5215700139292236,\n",
              " 3.5208493814267805,\n",
              " 3.5199605599567687,\n",
              " 3.5193127666388753,\n",
              " 3.516863165621498,\n",
              " 3.515738044231082,\n",
              " 3.5165681399281388,\n",
              " 3.515047122870432,\n",
              " 3.5143342447166206,\n",
              " 3.514468786710452,\n",
              " 3.5152716663798698,\n",
              " 3.515209463360013,\n",
              " 3.514236769413046,\n",
              " 3.5137104096652854,\n",
              " 3.5142448961597137,\n",
              " 3.5125516659490965,\n",
              " 3.513364079839181,\n",
              " 3.5132031856408905,\n",
              " 3.513305838156437,\n",
              " 3.5115735730848674,\n",
              " 3.5101057360433363,\n",
              " 3.510045535174713,\n",
              " 3.5106477702651837,\n",
              " 3.5099437926096124,\n",
              " 3.5085568236524693,\n",
              " 3.5081564115977906,\n",
              " 3.508537113571212,\n",
              " 3.5062913304661256,\n",
              " 3.5063438961654643,\n",
              " 3.505871339510491,\n",
              " 3.5056396864553214,\n",
              " 3.5049653277633763,\n",
              " 3.504200422659513,\n",
              " 3.5031131178145762,\n",
              " 3.5005610349798055,\n",
              " 3.500738108415259,\n",
              " 3.499874848952298,\n",
              " 3.497620622142391,\n",
              " 3.497680717605184,\n",
              " 3.497437496302694,\n",
              " 3.497835336300883,\n",
              " 3.498331107455109,\n",
              " 3.4970558181460754,\n",
              " 3.4958702926678256,\n",
              " 3.495134668483776,\n",
              " 3.492130103284111,\n",
              " 3.4901017788571296,\n",
              " 3.4900407822237995,\n",
              " 3.4900565404797748,\n",
              " 3.489867082864688,\n",
              " 3.4898639467527226,\n",
              " 3.490119970497034,\n",
              " 3.4890277292626903,\n",
              " 3.488665149650236,\n",
              " 3.4880167716727275,\n",
              " 3.487693193000313,\n",
              " 3.4868374223862504,\n",
              " 3.485507902826545,\n",
              " 3.484661099964068,\n",
              " 3.483069929453298,\n",
              " 3.482855267429623,\n",
              " 3.483458937126976,\n",
              " 3.4823830897606207,\n",
              " 3.4816375208429076,\n",
              " 3.4809328333107423,\n",
              " 3.481827937835846,\n",
              " 3.48174600474467,\n",
              " 3.4811832376335183,\n",
              " 3.4815208380379126,\n",
              " 3.4821346697425657,\n",
              " 3.4822796061449823,\n",
              " 3.4827019709774762,\n",
              " 3.48060848474123,\n",
              " 3.4805036996896943,\n",
              " 3.481222521380277,\n",
              " 3.4816973243023996,\n",
              " 3.4809201313867897,\n",
              " 3.4807598891305314,\n",
              " 3.4816604377525744,\n",
              " 3.4819143435779853,\n",
              " 3.481687439446091,\n",
              " 3.4817149771311344,\n",
              " 3.4818925822705773,\n",
              " 3.482387495940336,\n",
              " 3.4819980269677044,\n",
              " 3.4818007204998898,\n",
              " 3.4809655287114163,\n",
              " 3.4809938960307734,\n",
              " 3.480278131304537,\n",
              " 3.4811662978024454,\n",
              " 3.4806069511687125,\n",
              " 3.4797754665576623,\n",
              " 3.480914851962163,\n",
              " 3.4808164337381204,\n",
              " 3.4802055933737086,\n",
              " 3.479045213548869,\n",
              " 3.4793670833328654,\n",
              " 3.4800207708784656,\n",
              " 3.4797834703613155,\n",
              " 3.4795769201520304,\n",
              " 3.480078878845765,\n",
              " 3.4802448220883258,\n",
              " 3.4802736197237656,\n",
              " 3.477172784760558,\n",
              " 3.4763753990684223,\n",
              " 3.4752606790891263,\n",
              " 3.4751800735500735,\n",
              " 3.4741463390951783,\n",
              " 3.4744697066205705,\n",
              " 3.4738164157458438,\n",
              " 3.473743304084938,\n",
              " 3.4737810835035208,\n",
              " 3.4731235374528806,\n",
              " 3.473162097657396,\n",
              " 3.4716937792683007,\n",
              " 3.471018966994669,\n",
              " 3.471774654184677,\n",
              " 3.4716470911133386,\n",
              " 3.4723522472038706,\n",
              " 3.4717396076867475,\n",
              " 3.472134863925829,\n",
              " 3.471564129993822,\n",
              " 3.469415378328881,\n",
              " 3.469134498491546,\n",
              " 3.4698382510421912,\n",
              " 3.4693518783326818,\n",
              " 3.4690869461096776,\n",
              " 3.4682074286046007,\n",
              " 3.468017998695512,\n",
              " 3.4681563558735924,\n",
              " 3.4681175881349406,\n",
              " 3.4669165495501364,\n",
              " 3.4674646758775802,\n",
              " 3.4673938278870486,\n",
              " 3.4668185549040405,\n",
              " 3.4659585636572823,\n",
              " 3.4650799175040548,\n",
              " 3.4656152627360703,\n",
              " 3.4659069181563673,\n",
              " 3.4671297301644497,\n",
              " 3.4678029563030974,\n",
              " 3.4687956418806105,\n",
              " 3.4689804153442334,\n",
              " 3.4699609349679936,\n",
              " 3.470626573044336,\n",
              " 3.471176872493926,\n",
              " 3.471665842531605,\n",
              " 3.47224202762097,\n",
              " 3.4729630084575533,\n",
              " 3.473734493491665,\n",
              " 3.474172804189162,\n",
              " 3.474434700600696,\n",
              " 3.474730723687254,\n",
              " 3.4751819597021516,\n",
              " 3.475539613462423,\n",
              " 3.475388188225852,\n",
              " 3.475260572270077,\n",
              " 3.475727735561789,\n",
              " 3.4761361362712027,\n",
              " 3.474620475253341,\n",
              " 3.473870537338574,\n",
              " 3.473066684268321,\n",
              " 3.4734006729250955,\n",
              " 3.4723764863928444,\n",
              " 3.4723138599603587,\n",
              " 3.472753877226704,\n",
              " 3.4730213165015127,\n",
              " 3.47263227488677,\n",
              " 3.471917049266835,\n",
              " 3.4717923902113514,\n",
              " 3.471608757509922,\n",
              " 3.4717393094054008,\n",
              " 3.471247590742166,\n",
              " 3.4712508095265573,\n",
              " 3.47175990193766,\n",
              " 3.4718046808895693,\n",
              " 3.471669830232896,\n",
              " 3.4711751761790266,\n",
              " 3.471040328247862,\n",
              " 3.471979331749503,\n",
              " 3.472670458278627,\n",
              " 3.4726178595520305,\n",
              " 3.47246503670086,\n",
              " 3.4733435393854024,\n",
              " 3.472998474012939,\n",
              " 3.4720724286178863,\n",
              " 3.4702255813079934,\n",
              " 3.469300973473841,\n",
              " 3.469146438534108,\n",
              " 3.4685395220547623,\n",
              " 3.468026458811059,\n",
              " 3.4685047597382956,\n",
              " 3.4688427294174593,\n",
              " 3.4697101868350138,\n",
              " 3.469333272183857,\n",
              " 3.469944721351674,\n",
              " 3.4704065725797424,\n",
              " 3.4703164233190766,\n",
              " 3.4702589510825157,\n",
              " 3.4692162782891103,\n",
              " 3.469557637762292,\n",
              " 3.4695095620222354,\n",
              " 3.469641446462038,\n",
              " 3.4684093734678045,\n",
              " 3.4684494630953835,\n",
              " 3.46809947352531,\n",
              " 3.4678315124909873,\n",
              " 3.4677572512983197,\n",
              " 3.4670403860820342,\n",
              " 3.466599789200245,\n",
              " 3.4664403436219073,\n",
              " 3.4664563515754225,\n",
              " 3.466335640543758,\n",
              " 3.466133908944024,\n",
              " 3.4658630644466006,\n",
              " 3.466179568746417,\n",
              " 3.466395455396595,\n",
              " 3.4659796475038815,\n",
              " 3.4662892560659535,\n",
              " 3.4666218140700225,\n",
              " 3.4653630126278276,\n",
              " 3.4644122511214577,\n",
              " 3.4641952057530814,\n",
              " 3.4643870922627404,\n",
              " 3.4635235768845276,\n",
              " 3.4633523487301585,\n",
              " 3.462920600600413,\n",
              " 3.463302606361359,\n",
              " 3.4620722899918075,\n",
              " 3.462177513555925,\n",
              " 3.4628996542026624,\n",
              " 3.4629159619597027,\n",
              " 3.4630154738286967,\n",
              " 3.4626527457905545,\n",
              " 3.461720407470517,\n",
              " 3.4612505694600806,\n",
              " 3.4614222648830886,\n",
              " 3.4611555194233334,\n",
              " 3.4608606221977576,\n",
              " 3.461385526840114,\n",
              " 3.4599981436985385,\n",
              " 3.46086102473648,\n",
              " 3.461006950068321,\n",
              " 3.460887315262334,\n",
              " 3.4609013734232823,\n",
              " 3.4614310460729527,\n",
              " 3.462055827945154,\n",
              " 3.4619059412689266,\n",
              " 3.4624787244386295,\n",
              " 3.46295727472275,\n",
              " 3.4629128726258718,\n",
              " 3.4628717451479623,\n",
              " 3.462562742408007,\n",
              " 3.462010098749216,\n",
              " 3.462560297823593,\n",
              " 3.4622256826674485,\n",
              " 3.4609313663785586,\n",
              " 3.4613220231179542,\n",
              " 3.461085185515563,\n",
              " 3.4611589347782417,\n",
              " 3.459901637462154,\n",
              " 3.4604619116584514,\n",
              " 3.4610374512676643,\n",
              " 3.4613195794243725,\n",
              " 3.4610638304444437,\n",
              " 3.4594606928349685,\n",
              " 3.4596764533644064,\n",
              " 3.4602757724200264,\n",
              " 3.460469110715308,\n",
              " 3.4602372733808315,\n",
              " 3.4603871539671744,\n",
              " 3.460823348329006,\n",
              " 3.4614875871331847,\n",
              " 3.462261813986005,\n",
              " 3.4622866913093047,\n",
              " 3.4630846430920963,\n",
              " 3.4626803407342974,\n",
              " 3.463556500923416,\n",
              " 3.462795637590202,\n",
              " 3.462466293199682,\n",
              " 3.4627110232347267,\n",
              " 3.4610842539079303,\n",
              " 3.4606095607740874,\n",
              " 3.4602880020901705,\n",
              " 3.4607254583089606,\n",
              " 3.4607620657371814,\n",
              " 3.460825907440732,\n",
              " 3.4610695940258482,\n",
              " 3.462213245103036,\n",
              " 3.4613974223709594,\n",
              " 3.4616017731462785,\n",
              " 3.460747697650438,\n",
              " 3.4598412124552507,\n",
              " 3.459411899024097,\n",
              " 3.4588072971215316,\n",
              " 3.4585291155710927,\n",
              " 3.458033886204225,\n",
              " 3.4568991523190142,\n",
              " 3.4555874752755686,\n",
              " 3.4548176843284453,\n",
              " 3.4547980941878023,\n",
              " 3.455183016731606,\n",
              " 3.4548402764774115,\n",
              " 3.454891189356242,\n",
              " 3.4549922610542,\n",
              " 3.4553546701115554,\n",
              " 3.4560327250096456,\n",
              " 3.4551369472451476,\n",
              " 3.4552432959589985,\n",
              " 3.453520365803016,\n",
              " 3.4528000117132183,\n",
              " 3.4528010214249396,\n",
              " 3.4525941473613684,\n",
              " 3.452303972941019,\n",
              " 3.4514986975442765,\n",
              " 3.450670441542252,\n",
              " 3.44899322601897,\n",
              " 3.4489265175426875,\n",
              " 3.44883196083104,\n",
              " 3.4482310948722015,\n",
              " 3.4483611373266396,\n",
              " 3.447618044433423,\n",
              " 3.445744293832503,\n",
              " 3.445877615081493,\n",
              " 3.4455187190296415,\n",
              " 3.445358632430049,\n",
              " 3.444295887635692,\n",
              " 3.4442147399767835,\n",
              " 3.4437775029213866,\n",
              " 3.4435835151489282,\n",
              " 3.4421750539726164,\n",
              " 3.4421121472301492,\n",
              " 3.442048401360064,\n",
              " 3.44185994156494,\n",
              " 3.441728752708582,\n",
              " 3.442064194762218,\n",
              " 3.441040211941824,\n",
              " 3.4407518279945384,\n",
              " 3.439708893980083,\n",
              " 3.439774214788338,\n",
              " 3.440109956980126,\n",
              " 3.439779692577569,\n",
              " 3.439137195702439,\n",
              " 3.439118948697606,\n",
              " 3.438762889110835,\n",
              " 3.439097912911577,\n",
              " 3.4397982651900754,\n",
              " 3.4392661987875557,\n",
              " 3.438633938917612,\n",
              " 3.4381102155104117,\n",
              " 3.437694679947767,\n",
              " 3.43767219009399,\n",
              " 3.437449427782636,\n",
              " 3.4378401663106923,\n",
              " 3.437136475064922,\n",
              " 3.4364490737780224,\n",
              " 3.435984766252727,\n",
              " 3.4356231933670713,\n",
              " 3.4353996018666817,\n",
              " 3.4360537261552326,\n",
              " 3.436827680541368,\n",
              " 3.4363375816312987,\n",
              " 3.4371368506181215,\n",
              " 3.4372325643743618,\n",
              " 3.4377856296667293,\n",
              " 3.4372804112301294,\n",
              " 3.4377411686919923,\n",
              " 3.438069516569288,\n",
              " 3.438440942147121,\n",
              " 3.4378129873284986,\n",
              " 3.4380466364882323,\n",
              " 3.438492280181581,\n",
              " 3.4380214431657254,\n",
              " 3.43711093660721,\n",
              " 3.43653421891202,\n",
              " 3.436204871087474,\n",
              " 3.43589253646797,\n",
              " 3.435550445230379,\n",
              " 3.4357282071137663,\n",
              " 3.4352969298096663,\n",
              " 3.4340673686791585,\n",
              " 3.43225745430747,\n",
              " 3.4327510707202897,\n",
              " 3.4326564675874556,\n",
              " 3.432381684735265,\n",
              " 3.4327293102094605,\n",
              " 3.432752637871984,\n",
              " 3.432264049504797,\n",
              " 3.432023394214605,\n",
              " 3.432634177765745,\n",
              " 3.4326605629357325,\n",
              " 3.4321484324438325,\n",
              " 3.432422870525345,\n",
              " 3.4330038092453803,\n",
              " 3.4327634338439705,\n",
              " 3.4321286609337287,\n",
              " 3.4325671440401875,\n",
              " 3.4313183978890875,\n",
              " 3.4312865054268786,\n",
              " 3.431232949243025,\n",
              " 3.4310718662384363,\n",
              " 3.4304280115519,\n",
              " 3.430460299725725,\n",
              " 3.4296864459941556,\n",
              " 3.4300359536399103,\n",
              " 3.4296011346776862,\n",
              " 3.4293692143396277,\n",
              " 3.4280432964799354,\n",
              " 3.4266997428496513,\n",
              " 3.426044317196193,\n",
              " 3.4257059864844703,\n",
              " 3.4251106370843183,\n",
              " 3.4252630592126705,\n",
              " 3.425839525552477,\n",
              " 3.4256633336431057,\n",
              " 3.4249557126885084,\n",
              " 3.425447423642486,\n",
              " ...]"
            ]
          },
          "metadata": {
            "tags": []
          },
          "execution_count": 109
        }
      ]
    },
    {
      "cell_type": "code",
      "metadata": {
        "id": "Ls-GGcDe_fYX"
      },
      "source": [
        "import matplotlib.pyplot as plt"
      ],
      "execution_count": null,
      "outputs": []
    },
    {
      "cell_type": "code",
      "metadata": {
        "colab": {
          "base_uri": "https://localhost:8080/",
          "height": 282
        },
        "id": "csNvNu9E_ioI",
        "outputId": "db0dfb53-2892-4e71-8fec-466d4d12cda4"
      },
      "source": [
        "plt.plot(medias)"
      ],
      "execution_count": null,
      "outputs": [
        {
          "output_type": "execute_result",
          "data": {
            "text/plain": [
              "[<matplotlib.lines.Line2D at 0x7f9bbf82c2d0>]"
            ]
          },
          "metadata": {
            "tags": []
          },
          "execution_count": 111
        },
        {
          "output_type": "display_data",
          "data": {
            "image/png": "[encoded data removed]",
            "text/plain": [
              "<Figure size 432x288 with 1 Axes>"
            ]
          },
          "metadata": {
            "tags": [],
            "needs_background": "light"
          }
        }
      ]
    },
    {
      "cell_type": "code",
      "metadata": {
        "id": "__-ricNxAcKL"
      },
      "source": [
        "import numpy as np"
      ],
      "execution_count": null,
      "outputs": []
    },
    {
      "cell_type": "code",
      "metadata": {
        "colab": {
          "base_uri": "https://localhost:8080/"
        },
        "id": "jU0kkLtG_0nt",
        "outputId": "9b1ce40a-99df-47d5-f259-738f0d890e93"
      },
      "source": [
        "np.random.seed(75243)\n",
        "temp = notas_media_por_filmes_com_pelo_menos_10_votos.sample(frac=1)\n",
        "\n",
        "medias = list()\n",
        "for i in range(1, len(temp)):\n",
        "  medias.append(temp[0:i].mean())\n",
        "medias"
      ],
      "execution_count": null,
      "outputs": [
        {
          "output_type": "execute_result",
          "data": {
            "text/plain": [
              "[3.859375,\n",
              " 3.5179227941176467,\n",
              " 3.4494485294117645,\n",
              " 3.5392140566332912,\n",
              " 3.5202601341955218,\n",
              " 3.555344983624473,\n",
              " 3.598458965555671,\n",
              " 3.5634243221339394,\n",
              " 3.5369327307857237,\n",
              " 3.557048981516675,\n",
              " 3.524589983196978,\n",
              " 3.509329435816742,\n",
              " 3.459660737956713,\n",
              " 3.448256399531233,\n",
              " 3.444563115752961,\n",
              " 3.470349349589829,\n",
              " 3.4755537131087664,\n",
              " 3.4701367724076015,\n",
              " 3.503287468596675,\n",
              " 3.5023655194092655,\n",
              " 3.5231319965069927,\n",
              " 3.4932926633324324,\n",
              " 3.5168226674753997,\n",
              " 3.5394060367227484,\n",
              " 3.5130678904919335,\n",
              " 3.5132645800184674,\n",
              " 3.512773299277043,\n",
              " 3.5182694909695296,\n",
              " 3.4988307310928373,\n",
              " 3.51231056693813,\n",
              " 3.5183650647788354,\n",
              " 3.533416156504497,\n",
              " 3.5537068038466937,\n",
              " 3.5584864924457973,\n",
              " 3.551458306947346,\n",
              " 3.5667179776325,\n",
              " 3.558158032291081,\n",
              " 3.535794224423772,\n",
              " 3.518494657415755,\n",
              " 3.5250322909803615,\n",
              " 3.4864016612146997,\n",
              " 3.483749240709588,\n",
              " 3.4798988355345233,\n",
              " 3.4881860850706943,\n",
              " 3.477695928341525,\n",
              " 3.4729550469561743,\n",
              " 3.476569985166833,\n",
              " 3.4619719035793057,\n",
              " 3.446264470696211,\n",
              " 3.4450534669965727,\n",
              " 3.447662712741738,\n",
              " 3.4361157802317472,\n",
              " 3.436595453463949,\n",
              " 3.4459177598812833,\n",
              " 3.4438707703076843,\n",
              " 3.432697753305437,\n",
              " 3.4381182605573883,\n",
              " 3.4311802609911277,\n",
              " 3.4316948067631166,\n",
              " 3.419153981367379,\n",
              " 3.4166220453179617,\n",
              " 3.4162387404395615,\n",
              " 3.4082993698637045,\n",
              " 3.409368820116561,\n",
              " 3.4206532558510316,\n",
              " 3.4183589757507247,\n",
              " 3.406642175117629,\n",
              " 3.407628087403051,\n",
              " 3.419396175530895,\n",
              " 3.4213413095312473,\n",
              " 3.42193389156808,\n",
              " 3.426490365296301,\n",
              " 3.4197347895159864,\n",
              " 3.4181330331614066,\n",
              " 3.4241134816081438,\n",
              " 3.425111988429089,\n",
              " 3.4273214183876473,\n",
              " 3.4318240090484835,\n",
              " 3.432299499504858,\n",
              " 3.4336665890943805,\n",
              " 3.4410214678056334,\n",
              " 3.441305178128561,\n",
              " 3.4310594421379648,\n",
              " 3.42791190909664,\n",
              " 3.4235312461138037,\n",
              " 3.4261646037171314,\n",
              " 3.430340570159584,\n",
              " 3.427154881862316,\n",
              " 3.413366624762739,\n",
              " 3.399682753174466,\n",
              " 3.403621014305835,\n",
              " 3.3963654718798053,\n",
              " 3.3934475635800223,\n",
              " 3.397356308278292,\n",
              " 3.4032613295946605,\n",
              " 3.405619332720025,\n",
              " 3.4107160406301276,\n",
              " 3.4141781218481873,\n",
              " 3.4206366400979173,\n",
              " 3.4272104155409098,\n",
              " 3.428645608936085,\n",
              " 3.4253481783809048,\n",
              " 3.4244878532886394,\n",
              " 3.4240120085454793,\n",
              " 3.4172169067097076,\n",
              " 3.423388714867433,\n",
              " 3.4242844350016695,\n",
              " 3.4212239309738766,\n",
              " 3.423636652032059,\n",
              " 3.4302096521651007,\n",
              " 3.419577132776226,\n",
              " 3.4247594798050094,\n",
              " 3.4216326576069878,\n",
              " 3.4237820787390905,\n",
              " 3.425979370126014,\n",
              " 3.4279105824525136,\n",
              " 3.4344027996965094,\n",
              " 3.4307214200380645,\n",
              " 3.433022462344849,\n",
              " 3.432116644528011,\n",
              " 3.4288897852068434,\n",
              " 3.4327171913390275,\n",
              " 3.432894656893551,\n",
              " 3.4355396158316465,\n",
              " 3.437691662541357,\n",
              " 3.4355406705106057,\n",
              " 3.4356903144793836,\n",
              " 3.4388560861702406,\n",
              " 3.4392361071137176,\n",
              " 3.441077148048008,\n",
              " 3.441436064765926,\n",
              " 3.4470564986187093,\n",
              " 3.4392522460658688,\n",
              " 3.437071698136492,\n",
              " 3.435454500372518,\n",
              " 3.438259719382384,\n",
              " 3.431411108292002,\n",
              " 3.434754920136677,\n",
              " 3.4388556898102394,\n",
              " 3.4363162444068327,\n",
              " 3.435113055912222,\n",
              " 3.430694599938842,\n",
              " 3.4244776213844914,\n",
              " 3.428207210552227,\n",
              " 3.431523649852494,\n",
              " 3.42942417279871,\n",
              " 3.4295041204027203,\n",
              " 3.435169911731846,\n",
              " 3.435205524340869,\n",
              " 3.4374323593068015,\n",
              " 3.431086228891966,\n",
              " 3.43036479693497,\n",
              " 3.43066431117847,\n",
              " 3.4311145429240644,\n",
              " 3.427042836195522,\n",
              " 3.428578886390849,\n",
              " 3.4249805263733046,\n",
              " 3.4236093416072295,\n",
              " 3.4257642122023646,\n",
              " 3.4256307594055118,\n",
              " 3.423652573677172,\n",
              " 3.417001346964065,\n",
              " 3.4188021136439755,\n",
              " 3.4212979849022442,\n",
              " 3.422698262266473,\n",
              " 3.425365047526221,\n",
              " 3.4278847409311766,\n",
              " 3.4231056650923004,\n",
              " 3.415903160286673,\n",
              " 3.4125278785388566,\n",
              " 3.4119255155621606,\n",
              " 3.4097459313846894,\n",
              " 3.4049208103940267,\n",
              " 3.399145403437739,\n",
              " 3.401507429703809,\n",
              " 3.4060443193077647,\n",
              " 3.402858222945336,\n",
              " 3.3998288866570836,\n",
              " 3.399922952467193,\n",
              " 3.4032567138423753,\n",
              " 3.4075032237106493,\n",
              " 3.4003191400638877,\n",
              " 3.3983799892736726,\n",
              " 3.398561718580979,\n",
              " 3.401464000485772,\n",
              " 3.404559746328713,\n",
              " 3.405796979396993,\n",
              " 3.40797260618113,\n",
              " 3.4073572308397835,\n",
              " 3.407084590443551,\n",
              " 3.410742625209654,\n",
              " 3.4146994581275965,\n",
              " 3.418211857788037,\n",
              " 3.418461624844112,\n",
              " 3.4212836165115785,\n",
              " 3.418925110271431,\n",
              " 3.419105924201756,\n",
              " 3.421566247816899,\n",
              " 3.421960387275105,\n",
              " 3.4240172520053966,\n",
              " 3.4256390567217876,\n",
              " 3.4225693364189844,\n",
              " 3.422271305035232,\n",
              " 3.4172057049560833,\n",
              " 3.4178534820050777,\n",
              " 3.417645455393403,\n",
              " 3.4161852580986745,\n",
              " 3.4133830853834564,\n",
              " 3.4128124373531947,\n",
              " 3.413161478656804,\n",
              " 3.415081006332278,\n",
              " 3.4181938317741074,\n",
              " 3.4211387177538275,\n",
              " 3.4222261356794927,\n",
              " 3.424279206507199,\n",
              " 3.425876204482771,\n",
              " 3.427699026450263,\n",
              " 3.4252783887142524,\n",
              " 3.4270615443533847,\n",
              " 3.4271308450259044,\n",
              " 3.425650614957914,\n",
              " 3.4280282625125764,\n",
              " 3.4282264417040995,\n",
              " 3.4242685855655393,\n",
              " 3.425240090264613,\n",
              " 3.429156482907629,\n",
              " 3.428752709855172,\n",
              " 3.4304502395210887,\n",
              " 3.4331556969904287,\n",
              " 3.436055020046992,\n",
              " 3.433251585061774,\n",
              " 3.4343735540360627,\n",
              " 3.4352863663514848,\n",
              " 3.4311965138011162,\n",
              " 3.4294736171018503,\n",
              " 3.4292739532208105,\n",
              " 3.4240546862971266,\n",
              " 3.4255050059733185,\n",
              " 3.427490340676359,\n",
              " 3.4279818581962678,\n",
              " 3.4289722515924104,\n",
              " 3.423630893678242,\n",
              " 3.4263092360297978,\n",
              " 3.427430919488692,\n",
              " 3.430584262674453,\n",
              " 3.4318499180451703,\n",
              " 3.4321258293081454,\n",
              " 3.4343891164989655,\n",
              " 3.4298642297166095,\n",
              " 3.430144772797743,\n",
              " 3.430060892862656,\n",
              " 3.4332383069019676,\n",
              " 3.4318852269968576,\n",
              " 3.4337000770593,\n",
              " 3.4348228218551458,\n",
              " 3.4358912222906075,\n",
              " 3.431276859557959,\n",
              " 3.4297388979264194,\n",
              " 3.4294310257336535,\n",
              " 3.430856291019293,\n",
              " 3.4335477739400364,\n",
              " 3.4346822069813694,\n",
              " 3.429607369692467,\n",
              " 3.4309598670294905,\n",
              " 3.4274468109274925,\n",
              " 3.426503291293311,\n",
              " 3.422721131650514,\n",
              " 3.422331059585333,\n",
              " 3.424083935752686,\n",
              " 3.424133624879528,\n",
              " 3.422753057998053,\n",
              " 3.4241183689872474,\n",
              " 3.4212328205160984,\n",
              " 3.4222716874227594,\n",
              " 3.4221130295655824,\n",
              " 3.420729912323705,\n",
              " 3.4195978290920053,\n",
              " 3.4206864060457107,\n",
              " 3.42085120984722,\n",
              " 3.4209106698120513,\n",
              " 3.421452520566127,\n",
              " 3.4209251260702445,\n",
              " 3.420691605164263,\n",
              " 3.422661000920727,\n",
              " 3.423370962321005,\n",
              " 3.4221528820331693,\n",
              " 3.423585566532473,\n",
              " 3.4260128441119924,\n",
              " 3.4261406991945216,\n",
              " 3.4296999841398277,\n",
              " 3.429254279726976,\n",
              " 3.4265285230612443,\n",
              " 3.4253641453499726,\n",
              " 3.422556784311367,\n",
              " 3.421260586979561,\n",
              " 3.420463034946472,\n",
              " 3.422498512943285,\n",
              " 3.4202418065240123,\n",
              " 3.42154375302234,\n",
              " 3.4233608294011537,\n",
              " 3.4222496269409803,\n",
              " 3.4243537417779053,\n",
              " 3.4248205263716556,\n",
              " 3.425547542184029,\n",
              " 3.423605856253371,\n",
              " 3.424006009113912,\n",
              " 3.4266965432861793,\n",
              " 3.4284330430207652,\n",
              " 3.4261639157853345,\n",
              " 3.427428489664033,\n",
              " 3.4269310580983197,\n",
              " 3.4287678175274916,\n",
              " 3.4289193276190666,\n",
              " 3.427686038889919,\n",
              " 3.4293706334754535,\n",
              " 3.4304055689910693,\n",
              " 3.430309652369647,\n",
              " 3.429428175475403,\n",
              " 3.425777008412323,\n",
              " 3.4255049230029697,\n",
              " 3.426386008393407,\n",
              " 3.4254201655579757,\n",
              " 3.4268846155098083,\n",
              " 3.4279169581667652,\n",
              " 3.427783722555838,\n",
              " 3.4289572228780174,\n",
              " 3.429720569072798,\n",
              " 3.429248860020747,\n",
              " 3.431309328097106,\n",
              " 3.4308104109412563,\n",
              " 3.43264191132221,\n",
              " 3.433725368597673,\n",
              " 3.4345917255154643,\n",
              " 3.4346628081736013,\n",
              " 3.436262585567991,\n",
              " 3.436080256444277,\n",
              " 3.436905791927486,\n",
              " 3.435265103019939,\n",
              " 3.4335788825497806,\n",
              " 3.4323036505422815,\n",
              " 3.434117562000008,\n",
              " 3.4351199173068006,\n",
              " 3.4358117361866745,\n",
              " 3.4370767245754785,\n",
              " 3.4377733698805897,\n",
              " 3.438463246234216,\n",
              " 3.439992683801817,\n",
              " 3.441617689036566,\n",
              " 3.4426718613015725,\n",
              " 3.44474041788833,\n",
              " 3.4414790491763974,\n",
              " 3.441973099080398,\n",
              " 3.4438686741853006,\n",
              " 3.4451306977045513,\n",
              " 3.445676495426197,\n",
              " 3.444041551235776,\n",
              " 3.4456725715109524,\n",
              " 3.4465662933782406,\n",
              " 3.448746238707735,\n",
              " 3.449909359932208,\n",
              " 3.4515146297515256,\n",
              " 3.4477230074826566,\n",
              " 3.445112200299509,\n",
              " 3.4453414838936625,\n",
              " 3.446518630513132,\n",
              " 3.4453636875986415,\n",
              " 3.445836940817849,\n",
              " 3.4470840195242185,\n",
              " 3.447160783254683,\n",
              " 3.4490603487053466,\n",
              " 3.44801207384614,\n",
              " 3.4471239958487674,\n",
              " 3.447042340810746,\n",
              " 3.4479038071968957,\n",
              " 3.447376063711037,\n",
              " 3.448872403967125,\n",
              " 3.447837791567774,\n",
              " 3.4501125389649285,\n",
              " 3.4494046382864414,\n",
              " 3.451056002598643,\n",
              " 3.450418935225243,\n",
              " 3.4493707181173234,\n",
              " 3.4491468686278166,\n",
              " 3.446949254797783,\n",
              " 3.448483152837269,\n",
              " 3.450298281475042,\n",
              " 3.450923628789855,\n",
              " 3.4494392895403965,\n",
              " 3.4486344678098653,\n",
              " 3.448264502061858,\n",
              " 3.4480619013380363,\n",
              " 3.4489446966077324,\n",
              " 3.449253171778187,\n",
              " 3.4490502910930094,\n",
              " 3.4497594464742085,\n",
              " 3.4483941218848573,\n",
              " 3.448636562024046,\n",
              " 3.449960011511745,\n",
              " 3.449898390265671,\n",
              " 3.4495474538138167,\n",
              " 3.449907061160914,\n",
              " 3.4508608578578603,\n",
              " 3.452637050931828,\n",
              " 3.452866797205399,\n",
              " 3.454305926806655,\n",
              " 3.4516270123728128,\n",
              " 3.452653887569418,\n",
              " 3.4529660103940025,\n",
              " 3.4544563135470736,\n",
              " 3.4553458077485932,\n",
              " 3.454481219408572,\n",
              " 3.4555018960604933,\n",
              " 3.455135905576296,\n",
              " 3.4550429847093644,\n",
              " 3.4562466051186083,\n",
              " 3.457656726603557,\n",
              " 3.4590772140697355,\n",
              " 3.459055498246602,\n",
              " 3.4559944364088664,\n",
              " 3.4557622843365543,\n",
              " 3.4568649867490566,\n",
              " 3.4544198090553384,\n",
              " 3.451336074282158,\n",
              " 3.449850443379202,\n",
              " 3.4480076580222314,\n",
              " 3.4487375193213072,\n",
              " 3.448857571969267,\n",
              " 3.445741980949209,\n",
              " 3.448141183790819,\n",
              " 3.44810674692929,\n",
              " 3.44872985579179,\n",
              " 3.448743317825942,\n",
              " 3.4488937694912147,\n",
              " 3.449587562649069,\n",
              " 3.448689254526684,\n",
              " 3.449747306695201,\n",
              " 3.4492902190368597,\n",
              " 3.449860899176732,\n",
              " 3.4507400791228493,\n",
              " 3.452150734787181,\n",
              " 3.4516293549400947,\n",
              " 3.4517387907886463,\n",
              " 3.45269423369883,\n",
              " 3.4520895406641836,\n",
              " 3.4511757541580943,\n",
              " 3.450537841405872,\n",
              " 3.4502010677114514,\n",
              " 3.4508115211552344,\n",
              " 3.4509210723330623,\n",
              " 3.4514386333487925,\n",
              " 3.4519481929200815,\n",
              " 3.4529394579799932,\n",
              " 3.4535450501859373,\n",
              " 3.452252366521798,\n",
              " 3.452176168831821,\n",
              " 3.4496893391154835,\n",
              " 3.4498988909893105,\n",
              " 3.450675433925045,\n",
              " 3.448505216105046,\n",
              " 3.4485183470581773,\n",
              " 3.447039276167957,\n",
              " 3.448709645700061,\n",
              " 3.450386298733106,\n",
              " 3.450762621365147,\n",
              " 3.44912759678259,\n",
              " 3.4482787638035957,\n",
              " 3.4467835201980206,\n",
              " 3.4462562049839223,\n",
              " 3.4445051256555983,\n",
              " 3.4451988337823,\n",
              " 3.4462352127622387,\n",
              " 3.4436108736881903,\n",
              " 3.4432930266629915,\n",
              " 3.443493804114043,\n",
              " 3.442936072797111,\n",
              " 3.4432946868534957,\n",
              " 3.4433866885313282,\n",
              " 3.4437927833251956,\n",
              " 3.444799324332713,\n",
              " 3.4419787196797467,\n",
              " 3.441233095175908,\n",
              " 3.4421061986413464,\n",
              " 3.4406732665530617,\n",
              " 3.438541898045909,\n",
              " 3.438256244647876,\n",
              " 3.43971795741331,\n",
              " 3.439269484144309,\n",
              " 3.438848226291911,\n",
              " 3.4380871188080144,\n",
              " 3.437733279549943,\n",
              " 3.437026916640287,\n",
              " 3.4365197481105305,\n",
              " 3.4380530671674374,\n",
              " 3.438330287679244,\n",
              " 3.437145482758381,\n",
              " 3.4374943214857336,\n",
              " 3.4364205827178473,\n",
              " 3.436739493385559,\n",
              " 3.4348622599318803,\n",
              " 3.4364343958771326,\n",
              " 3.436760874128875,\n",
              " 3.436624739026291,\n",
              " 3.437668305075023,\n",
              " 3.4354110266919373,\n",
              " 3.434548826639082,\n",
              " 3.4331136181542883,\n",
              " 3.4309697132785475,\n",
              " 3.4318789405021275,\n",
              " 3.43209819260501,\n",
              " 3.4322079907334224,\n",
              " 3.4329277402623197,\n",
              " 3.4331310787325826,\n",
              " 3.4329202969026946,\n",
              " 3.4329623691938287,\n",
              " 3.431913621181524,\n",
              " 3.4309150805719995,\n",
              " 3.430219748832844,\n",
              " 3.4290031083910817,\n",
              " 3.4299550810590698,\n",
              " 3.4285032443647254,\n",
              " 3.429408228540609,\n",
              " 3.4295434618192666,\n",
              " 3.4294450016255165,\n",
              " 3.4293297394450244,\n",
              " 3.4292046092053887,\n",
              " 3.42792732466541,\n",
              " 3.4283803404946345,\n",
              " 3.42918142195459,\n",
              " 3.4286923352315277,\n",
              " 3.4298601214813154,\n",
              " 3.4286022017834314,\n",
              " 3.428223762921569,\n",
              " 3.4295310354113973,\n",
              " 3.4289139360941476,\n",
              " 3.4289150075771246,\n",
              " 3.429836951449326,\n",
              " 3.430158060901511,\n",
              " 3.4299928411624188,\n",
              " 3.429417715297553,\n",
              " 3.429178052861817,\n",
              " 3.4293633277450777,\n",
              " 3.429378340055511,\n",
              " 3.429376854030678,\n",
              " 3.4297619864476974,\n",
              " 3.4307248918937483,\n",
              " 3.430241268770622,\n",
              " 3.429039232214784,\n",
              " 3.4290905162018785,\n",
              " 3.429089570687069,\n",
              " 3.429987729509596,\n",
              " 3.4310870517531615,\n",
              " 3.431254024148452,\n",
              " 3.4314478894546236,\n",
              " 3.4321733144435744,\n",
              " 3.43220543459773,\n",
              " 3.433170442808885,\n",
              " 3.433739257094686,\n",
              " 3.4323415992035597,\n",
              " 3.4333416666653513,\n",
              " 3.4347999851177344,\n",
              " 3.434786229945213,\n",
              " 3.4351513790022503,\n",
              " 3.4364776077816748,\n",
              " 3.43806777750783,\n",
              " 3.439062347813126,\n",
              " 3.4390017463236364,\n",
              " 3.437737584905468,\n",
              " 3.4370051932602728,\n",
              " 3.437032215684035,\n",
              " 3.4369287359731646,\n",
              " 3.437258107714017,\n",
              " 3.4364861348948885,\n",
              " 3.437506711615394,\n",
              " 3.4366719147891187,\n",
              " 3.4372831559689994,\n",
              " 3.436980080810037,\n",
              " 3.4377605727733855,\n",
              " 3.4370032015402137,\n",
              " 3.4375327119755323,\n",
              " 3.4367167688760674,\n",
              " 3.4343299930260223,\n",
              " 3.4345529699522706,\n",
              " 3.434236412542404,\n",
              " 3.434600834479026,\n",
              " 3.43385792706966,\n",
              " 3.4352506609825104,\n",
              " 3.4366031584368275,\n",
              " 3.4355605160105145,\n",
              " 3.4358658200841545,\n",
              " 3.4366264125664108,\n",
              " 3.4358208286463143,\n",
              " 3.4358557964005105,\n",
              " 3.4331533976432302,\n",
              " 3.433856950559298,\n",
              " 3.433781373985062,\n",
              " 3.4333077729406494,\n",
              " 3.4328848973810002,\n",
              " 3.4329233546645455,\n",
              " 3.433661379114187,\n",
              " 3.4327719434823303,\n",
              " 3.4327798104648886,\n",
              " 3.432233941455257,\n",
              " 3.430798506505359,\n",
              " 3.42865540241572,\n",
              " 3.4290055519452287,\n",
              " 3.4290048355700247,\n",
              " 3.4291359984268373,\n",
              " 3.4288333044149764,\n",
              " 3.4300869569402517,\n",
              " 3.4312470686535317,\n",
              " 3.4322597575755394,\n",
              " 3.432915106555536,\n",
              " 3.4335683173659404,\n",
              " 3.432406706072267,\n",
              " 3.432748901904438,\n",
              " 3.43258751299442,\n",
              " 3.4336518536772265,\n",
              " 3.433191148687802,\n",
              " 3.4323859652629354,\n",
              " 3.431563120516096,\n",
              " 3.4313042963821467,\n",
              " 3.431558285799998,\n",
              " 3.4317153539844374,\n",
              " 3.4327863229684366,\n",
              " 3.4329634300690786,\n",
              " 3.4340689197974026,\n",
              " 3.434029082459753,\n",
              " 3.4347244018430536,\n",
              " 3.4360816945880748,\n",
              " 3.4355726516052125,\n",
              " 3.434323025887184,\n",
              " 3.4346311101153124,\n",
              " 3.434433468250239,\n",
              " 3.4345368854927467,\n",
              " 3.434783140934347,\n",
              " 3.4343414161118813,\n",
              " 3.4353007773824347,\n",
              " 3.4352213331931445,\n",
              " 3.433757763031653,\n",
              " 3.432542907151916,\n",
              " 3.432330353936852,\n",
              " 3.4326953637697644,\n",
              " 3.4325607735401906,\n",
              " 3.4329316862698307,\n",
              " 3.433571747445038,\n",
              " 3.4330111542933093,\n",
              " 3.4331146919219133,\n",
              " 3.431994988955693,\n",
              " 3.433119441524147,\n",
              " 3.43264541161411,\n",
              " 3.4327595422328967,\n",
              " 3.4332967497876385,\n",
              " 3.4316851963897284,\n",
              " 3.4312336343713397,\n",
              " 3.432240772472924,\n",
              " 3.4318867469051297,\n",
              " 3.4308834600342353,\n",
              " 3.4303299390716706,\n",
              " 3.431419192803198,\n",
              " 3.4306897697837986,\n",
              " 3.4312989128451448,\n",
              " 3.431132945562038,\n",
              " 3.43067120657929,\n",
              " 3.4305497137982965,\n",
              " 3.429771508932827,\n",
              " 3.4309514913675025,\n",
              " 3.431141507583882,\n",
              " 3.431812419016881,\n",
              " 3.4318396052365863,\n",
              " 3.431101784930263,\n",
              " 3.431098013907374,\n",
              " 3.4320284819655766,\n",
              " 3.4303959483123343,\n",
              " 3.429575172398601,\n",
              " 3.4290694836900366,\n",
              " 3.429476992522663,\n",
              " 3.4301492796601707,\n",
              " 3.429514841194595,\n",
              " 3.429545010795192,\n",
              " 3.4294248359071937,\n",
              " 3.429406101444285,\n",
              " 3.4294790641498896,\n",
              " 3.429902594070607,\n",
              " 3.430177074282234,\n",
              " 3.430887278066737,\n",
              " 3.4303449110861903,\n",
              " 3.4310701316356593,\n",
              " 3.4310189153590573,\n",
              " 3.4304491659005705,\n",
              " 3.42934223474226,\n",
              " 3.4301526825966526,\n",
              " 3.428244044327004,\n",
              " 3.4287251961288274,\n",
              " 3.4290296266819555,\n",
              " 3.4295346200248598,\n",
              " 3.4281990817776977,\n",
              " 3.426723903755061,\n",
              " 3.4262256565697693,\n",
              " 3.425715702042288,\n",
              " 3.42593460442283,\n",
              " 3.4244948498753884,\n",
              " 3.4248177386799785,\n",
              " 3.424569064798499,\n",
              " 3.4249378736927,\n",
              " 3.424835750717917,\n",
              " 3.4253285149133976,\n",
              " 3.4265117910760443,\n",
              " 3.4269294611765333,\n",
              " 3.4268426560343728,\n",
              " 3.425904665765617,\n",
              " 3.426654873444683,\n",
              " 3.427109009858384,\n",
              " 3.4273164306019206,\n",
              " 3.4270180682541387,\n",
              " 3.4276922960035607,\n",
              " 3.4282588337651947,\n",
              " 3.4289068090916834,\n",
              " 3.426809552983028,\n",
              " 3.4271326146744157,\n",
              " 3.4255998324481527,\n",
              " 3.4258417189496115,\n",
              " 3.426561678028508,\n",
              " 3.4267324087642916,\n",
              " 3.4272146320518626,\n",
              " 3.4272756167958303,\n",
              " 3.4276709475086267,\n",
              " 3.4269945052643194,\n",
              " 3.4272361902522404,\n",
              " 3.427416694146835,\n",
              " 3.4279075127654206,\n",
              " 3.4268205439837076,\n",
              " 3.427262045972801,\n",
              " 3.426747363781842,\n",
              " 3.4269807314274883,\n",
              " 3.4274202134255463,\n",
              " 3.426985053974075,\n",
              " 3.426590723692378,\n",
              " 3.426742310162255,\n",
              " 3.42677378200236,\n",
              " 3.4262345982128672,\n",
              " 3.4271315948291914,\n",
              " 3.4279036546744353,\n",
              " 3.4270099605078324,\n",
              " 3.4275834128950335,\n",
              " 3.427412159991819,\n",
              " 3.427661790291611,\n",
              " 3.428154150070945,\n",
              " 3.428441186157558,\n",
              " 3.4286108982662338,\n",
              " 3.428439417068546,\n",
              " 3.428230348033073,\n",
              " 3.4277037891454176,\n",
              " 3.4282084219721733,\n",
              " 3.428923518633149,\n",
              " 3.4279580570190653,\n",
              " 3.428928073243353,\n",
              " 3.4287231610248146,\n",
              " 3.428887367262726,\n",
              " 3.4279169065579103,\n",
              " 3.4285721815833945,\n",
              " 3.4292902207665965,\n",
              " 3.4294503150323647,\n",
              " 3.4304132028745267,\n",
              " 3.42899401523484,\n",
              " 3.429773108025383,\n",
              " 3.429934975300624,\n",
              " 3.429570001408446,\n",
              " 3.430244218100691,\n",
              " 3.429971583532672,\n",
              " 3.429445646411201,\n",
              " 3.429655067221185,\n",
              " 3.430550189744438,\n",
              " 3.43098832762217,\n",
              " 3.4315942858552164,\n",
              " 3.4296884163954617,\n",
              " 3.430657655783893,\n",
              " 3.4304759518307737,\n",
              " 3.431593591995516,\n",
              " 3.432254034664806,\n",
              " 3.4329819141075433,\n",
              " 3.4336225689336968,\n",
              " 3.4328205600385173,\n",
              " 3.4316292183271018,\n",
              " 3.4321449973853575,\n",
              " 3.432402921445523,\n",
              " 3.433411314675236,\n",
              " 3.433284150785348,\n",
              " 3.4319728764823214,\n",
              " 3.432490560456254,\n",
              " 3.432154074514748,\n",
              " 3.4326896183279643,\n",
              " 3.4327003340505153,\n",
              " 3.4333526665422545,\n",
              " 3.4340663281712946,\n",
              " 3.434463729016362,\n",
              " 3.434860131366844,\n",
              " 3.4359552783885827,\n",
              " 3.436279199649304,\n",
              " 3.4366477729047733,\n",
              " 3.43622845128388,\n",
              " 3.4354568574847515,\n",
              " 3.4351032937399792,\n",
              " 3.436118109065334,\n",
              " 3.435575673606298,\n",
              " 3.4355631968874003,\n",
              " 3.4354570390748846,\n",
              " 3.43548169843521,\n",
              " 3.43613910557411,\n",
              " 3.436550838162067,\n",
              " 3.4367680593495216,\n",
              " 3.4369145297517485,\n",
              " 3.4351449305771773,\n",
              " 3.435429705160313,\n",
              " 3.4342293410671596,\n",
              " 3.4335313720785923,\n",
              " 3.4335861876392375,\n",
              " 3.4334634791272354,\n",
              " 3.433981424577132,\n",
              " 3.434445370930972,\n",
              " 3.43404490170552,\n",
              " 3.4345185579356796,\n",
              " 3.434270687707983,\n",
              " 3.4326936439031903,\n",
              " 3.433537349404211,\n",
              " 3.434214401420882,\n",
              " 3.435000259691963,\n",
              " 3.434353342812045,\n",
              " 3.4348718005666643,\n",
              " 3.432688601772253,\n",
              " 3.432810773226854,\n",
              " 3.4328359151407857,\n",
              " 3.432928660435088,\n",
              " 3.433689450358535,\n",
              " 3.434640989059871,\n",
              " 3.4350643358912007,\n",
              " 3.4356750868936192,\n",
              " 3.4360364012917097,\n",
              " 3.4359387047110115,\n",
              " 3.435373269379459,\n",
              " 3.433366872630198,\n",
              " 3.4332082913309945,\n",
              " 3.4330114190853105,\n",
              " 3.432550485544811,\n",
              " 3.4328936985029594,\n",
              " 3.4329662338260465,\n",
              " 3.4331549174652505,\n",
              " 3.4320531997350674,\n",
              " 3.4320841904586503,\n",
              " 3.432223078337969,\n",
              " 3.4331644563236856,\n",
              " 3.433506789272681,\n",
              " 3.4338782601772904,\n",
              " 3.4337754179568645,\n",
              " 3.434028608333964,\n",
              " 3.434356394422797,\n",
              " 3.433907379943331,\n",
              " 3.4325524439955877,\n",
              " 3.432339678909346,\n",
              " 3.4332456004889504,\n",
              " 3.4337883381628007,\n",
              " 3.4333135549593594,\n",
              " 3.4333369596196075,\n",
              " 3.4339240546837795,\n",
              " 3.4336045763066476,\n",
              " 3.433565727085484,\n",
              " 3.434267922165832,\n",
              " 3.4338823766962054,\n",
              " 3.432518456907385,\n",
              " 3.433410265357434,\n",
              " 3.4336838496172857,\n",
              " 3.4338643608013175,\n",
              " 3.4334743213967287,\n",
              " 3.4332111248128885,\n",
              " 3.4334221499090103,\n",
              " 3.433330171653652,\n",
              " 3.4326642696312164,\n",
              " 3.4325510074461563,\n",
              " 3.4324953923240447,\n",
              " 3.431955958809835,\n",
              " 3.432756422079782,\n",
              " 3.4333335163459666,\n",
              " 3.4338489330331967,\n",
              " 3.43453103455673,\n",
              " 3.43460509447239,\n",
              " 3.4353246690226227,\n",
              " 3.4354682077709042,\n",
              " 3.435567803392143,\n",
              " 3.436109581391326,\n",
              " 3.4356190194325054,\n",
              " 3.4354195199905915,\n",
              " 3.4354545897399476,\n",
              " 3.4355118003865246,\n",
              " 3.434713043860025,\n",
              " 3.435065713833336,\n",
              " 3.4350917111735595,\n",
              " 3.4346717690064144,\n",
              " 3.434148295773486,\n",
              " 3.4340022846457097,\n",
              " 3.4342504944037713,\n",
              " 3.434138364224804,\n",
              " 3.434621634872048,\n",
              " 3.434387779634414,\n",
              " 3.433818639840195,\n",
              " 3.433592254914118,\n",
              " 3.4334179674158323,\n",
              " 3.4325780069585337,\n",
              " 3.4328603677505116,\n",
              " 3.4330010568395597,\n",
              " 3.4320101404563657,\n",
              " 3.4320537536132347,\n",
              " 3.4325049978517517,\n",
              " 3.4308844281770736,\n",
              " 3.4304672491757846,\n",
              " 3.4309460109989574,\n",
              " 3.431482396921838,\n",
              " 3.431379202734957,\n",
              " 3.4319382831507923,\n",
              " 3.432518182313249,\n",
              " 3.432806972829411,\n",
              " 3.433332907279234,\n",
              " 3.4327636977263696,\n",
              " 3.432614772398526,\n",
              " 3.4335108451505105,\n",
              " 3.4333663528938545,\n",
              " 3.4324654162961314,\n",
              " 3.432142379489476,\n",
              " 3.4324433166325417,\n",
              " 3.43247466915938,\n",
              " 3.432561155535764,\n",
              " 3.432042272572822,\n",
              " 3.431614497611717,\n",
              " 3.4321555737257574,\n",
              " 3.431280149333109,\n",
              " 3.4310234140144464,\n",
              " 3.4314432065254095,\n",
              " 3.431845182060844,\n",
              " 3.4326071758188723,\n",
              " 3.4330846039711003,\n",
              " 3.4339139754330903,\n",
              " 3.434564550507581,\n",
              " 3.4348997635251073,\n",
              " 3.434070619565788,\n",
              " 3.4334777557062273,\n",
              " 3.434077885202301,\n",
              " 3.433936003842299,\n",
              " 3.433345162400605,\n",
              " 3.4337284265335466,\n",
              " 3.4335501327105713,\n",
              " 3.4343709439511296,\n",
              " 3.4336984003737645,\n",
              " 3.4344253210884084,\n",
              " 3.4344545635567436,\n",
              " 3.4336838872046376,\n",
              " 3.4337963607050073,\n",
              " 3.43351151080467,\n",
              " 3.433865504856717,\n",
              " 3.4345847908727727,\n",
              " 3.4351097545566214,\n",
              " 3.435050254062285,\n",
              " 3.434584964311203,\n",
              " 3.4333002765231577,\n",
              " 3.4333696109550464,\n",
              " 3.4334102733242804,\n",
              " 3.432960677605064,\n",
              " 3.4328048724424187,\n",
              " 3.4323814818123637,\n",
              " 3.4314495981703654,\n",
              " 3.431656343365818,\n",
              " 3.431375996262241,\n",
              " 3.431796690638553,\n",
              " 3.4321900261684783,\n",
              " 3.43225400970377,\n",
              " 3.4314243550175383,\n",
              " 3.431433648483101,\n",
              " 3.4305715720137946,\n",
              " 3.430749435840283,\n",
              " 3.430977784579286,\n",
              " 3.4307476256512306,\n",
              " 3.430265077855196,\n",
              " 3.4309364760350554,\n",
              " 3.4306361979110274,\n",
              " 3.4307160906922696,\n",
              " 3.429981215048975,\n",
              " 3.4306836854820673,\n",
              " 3.4303287589801377,\n",
              " 3.4312107784943566,\n",
              " 3.4294141057064618,\n",
              " 3.4294012034402273,\n",
              " 3.4291836953622146,\n",
              " 3.4299593364819585,\n",
              " 3.42977774280236,\n",
              " 3.4290111874554925,\n",
              " 3.4292657765736827,\n",
              " 3.427753362237015,\n",
              " 3.4279630208039764,\n",
              " 3.427647431790756,\n",
              " 3.4274477567624513,\n",
              " 3.4283020175272187,\n",
              " 3.428190505406021,\n",
              " 3.427602314900615,\n",
              " ...]"
            ]
          },
          "metadata": {
            "tags": []
          },
          "execution_count": 117
        }
      ]
    },
    {
      "cell_type": "code",
      "metadata": {
        "colab": {
          "base_uri": "https://localhost:8080/",
          "height": 282
        },
        "id": "HrCLcPbdALVW",
        "outputId": "10b5ed82-eeaa-4e8a-a8ae-fd4bb8703254"
      },
      "source": [
        "plt.plot(medias)"
      ],
      "execution_count": null,
      "outputs": [
        {
          "output_type": "execute_result",
          "data": {
            "text/plain": [
              "[<matplotlib.lines.Line2D at 0x7f9bbd991e50>]"
            ]
          },
          "metadata": {
            "tags": []
          },
          "execution_count": 118
        },
        {
          "output_type": "display_data",
          "data": {
            "image/png": "[encoded data removed]",
            "text/plain": [
              "<Figure size 432x288 with 1 Axes>"
            ]
          },
          "metadata": {
            "tags": [],
            "needs_background": "light"
          }
        }
      ]
    },
    {
      "cell_type": "markdown",
      "metadata": {
        "id": "W-otXi4UA2Ut"
      },
      "source": [
        "**Intervalo de confiança da média com t e ztest**"
      ]
    },
    {
      "cell_type": "code",
      "metadata": {
        "colab": {
          "base_uri": "https://localhost:8080/"
        },
        "id": "Dx_Dtu4W9z6n",
        "outputId": "2d7b098c-29f7-4934-bd9d-f5ebdf2f20f9"
      },
      "source": [
        "from statsmodels.stats.weightstats import zconfint"
      ],
      "execution_count": null,
      "outputs": [
        {
          "output_type": "stream",
          "text": [
            "/usr/local/lib/python3.7/dist-packages/statsmodels/tools/_testing.py:19: FutureWarning: pandas.util.testing is deprecated. Use the functions in the public API at pandas.testing instead.\n",
            "  import pandas.util.testing as tm\n"
          ],
          "name": "stderr"
        }
      ]
    },
    {
      "cell_type": "code",
      "metadata": {
        "colab": {
          "base_uri": "https://localhost:8080/"
        },
        "id": "PiH-snnbWLxV",
        "outputId": "63f457ce-b683-44f1-d0e7-ba3bb0e24d42"
      },
      "source": [
        "zconfint(notas_media_por_filmes_com_pelo_menos_10_votos)"
      ],
      "execution_count": null,
      "outputs": [
        {
          "output_type": "execute_result",
          "data": {
            "text/plain": [
              "(3.4112459477469557, 3.452854733323563)"
            ]
          },
          "metadata": {
            "tags": []
          },
          "execution_count": 120
        }
      ]
    },
    {
      "cell_type": "code",
      "metadata": {
        "id": "M0kzbSp0Wewc"
      },
      "source": [
        "from statsmodels.stats.weightstats import DescrStatsW"
      ],
      "execution_count": null,
      "outputs": []
    },
    {
      "cell_type": "code",
      "metadata": {
        "colab": {
          "base_uri": "https://localhost:8080/"
        },
        "id": "lO0rn-TZWgjz",
        "outputId": "7ba5a498-35f8-4a0d-ac72-b3d67bc24065"
      },
      "source": [
        "descr_todos_com_10_votos = DescrStatsW(notas_media_por_filmes_com_pelo_menos_10_votos)\n",
        "descr_todos_com_10_votos"
      ],
      "execution_count": null,
      "outputs": [
        {
          "output_type": "execute_result",
          "data": {
            "text/plain": [
              "<statsmodels.stats.weightstats.DescrStatsW at 0x7f9bbd945350>"
            ]
          },
          "metadata": {
            "tags": []
          },
          "execution_count": 122
        }
      ]
    },
    {
      "cell_type": "code",
      "metadata": {
        "id": "sQLv3GAdWmHC"
      },
      "source": [
        "from statsmodels.stats.weightstats import DescrStatsW"
      ],
      "execution_count": null,
      "outputs": []
    },
    {
      "cell_type": "code",
      "metadata": {
        "colab": {
          "base_uri": "https://localhost:8080/"
        },
        "id": "h213YijbW0OL",
        "outputId": "c7b79849-8473-4bde-9cd4-b901d4fad626"
      },
      "source": [
        "descr_todos_com_10_votos = DescrStatsW(notas_media_por_filmes_com_pelo_menos_10_votos)\n",
        "descr_todos_com_10_votos"
      ],
      "execution_count": null,
      "outputs": [
        {
          "output_type": "execute_result",
          "data": {
            "text/plain": [
              "<statsmodels.stats.weightstats.DescrStatsW at 0x7f9bbd910d90>"
            ]
          },
          "metadata": {
            "tags": []
          },
          "execution_count": 124
        }
      ]
    },
    {
      "cell_type": "markdown",
      "metadata": {
        "id": "SCmeq7y4XW4T"
      },
      "source": [
        "# **04. Outros Testes**"
      ]
    },
    {
      "cell_type": "markdown",
      "metadata": {
        "id": "ODEEs_K1ZuH8"
      },
      "source": [
        "**ZTest para uma amostra**"
      ]
    },
    {
      "cell_type": "code",
      "metadata": {
        "id": "-wvO8ULsZ1tY"
      },
      "source": [
        "filmes = pd.read_csv(path + \"/movies.csv\")"
      ],
      "execution_count": null,
      "outputs": []
    },
    {
      "cell_type": "code",
      "metadata": {
        "colab": {
          "base_uri": "https://localhost:8080/",
          "height": 202
        },
        "id": "MSdlWGncaB15",
        "outputId": "6650a6a3-111c-48dd-94a2-0b6f465d946b"
      },
      "source": [
        "filmes.head()"
      ],
      "execution_count": null,
      "outputs": [
        {
          "output_type": "execute_result",
          "data": {
            "text/html": [
              "<div>\n",
              "<style scoped>\n",
              "    .dataframe tbody tr th:only-of-type {\n",
              "        vertical-align: middle;\n",
              "    }\n",
              "\n",
              "    .dataframe tbody tr th {\n",
              "        vertical-align: top;\n",
              "    }\n",
              "\n",
              "    .dataframe thead th {\n",
              "        text-align: right;\n",
              "    }\n",
              "</style>\n",
              "<table border=\"1\" class=\"dataframe\">\n",
              "  <thead>\n",
              "    <tr style=\"text-align: right;\">\n",
              "      <th></th>\n",
              "      <th>movieId</th>\n",
              "      <th>title</th>\n",
              "      <th>genres</th>\n",
              "    </tr>\n",
              "  </thead>\n",
              "  <tbody>\n",
              "    <tr>\n",
              "      <th>0</th>\n",
              "      <td>1</td>\n",
              "      <td>Toy Story (1995)</td>\n",
              "      <td>Adventure|Animation|Children|Comedy|Fantasy</td>\n",
              "    </tr>\n",
              "    <tr>\n",
              "      <th>1</th>\n",
              "      <td>2</td>\n",
              "      <td>Jumanji (1995)</td>\n",
              "      <td>Adventure|Children|Fantasy</td>\n",
              "    </tr>\n",
              "    <tr>\n",
              "      <th>2</th>\n",
              "      <td>3</td>\n",
              "      <td>Grumpier Old Men (1995)</td>\n",
              "      <td>Comedy|Romance</td>\n",
              "    </tr>\n",
              "    <tr>\n",
              "      <th>3</th>\n",
              "      <td>4</td>\n",
              "      <td>Waiting to Exhale (1995)</td>\n",
              "      <td>Comedy|Drama|Romance</td>\n",
              "    </tr>\n",
              "    <tr>\n",
              "      <th>4</th>\n",
              "      <td>5</td>\n",
              "      <td>Father of the Bride Part II (1995)</td>\n",
              "      <td>Comedy</td>\n",
              "    </tr>\n",
              "  </tbody>\n",
              "</table>\n",
              "</div>"
            ],
            "text/plain": [
              "   movieId  ...                                       genres\n",
              "0        1  ...  Adventure|Animation|Children|Comedy|Fantasy\n",
              "1        2  ...                   Adventure|Children|Fantasy\n",
              "2        3  ...                               Comedy|Romance\n",
              "3        4  ...                         Comedy|Drama|Romance\n",
              "4        5  ...                                       Comedy\n",
              "\n",
              "[5 rows x 3 columns]"
            ]
          },
          "metadata": {
            "tags": []
          },
          "execution_count": 126
        }
      ]
    },
    {
      "cell_type": "code",
      "metadata": {
        "colab": {
          "base_uri": "https://localhost:8080/",
          "height": 79
        },
        "id": "FohBVEH5aGPc",
        "outputId": "989eeb37-7b8a-4542-ab64-7670de120916"
      },
      "source": [
        "filmes.query(\"movieId==1\")"
      ],
      "execution_count": null,
      "outputs": [
        {
          "output_type": "execute_result",
          "data": {
            "text/html": [
              "<div>\n",
              "<style scoped>\n",
              "    .dataframe tbody tr th:only-of-type {\n",
              "        vertical-align: middle;\n",
              "    }\n",
              "\n",
              "    .dataframe tbody tr th {\n",
              "        vertical-align: top;\n",
              "    }\n",
              "\n",
              "    .dataframe thead th {\n",
              "        text-align: right;\n",
              "    }\n",
              "</style>\n",
              "<table border=\"1\" class=\"dataframe\">\n",
              "  <thead>\n",
              "    <tr style=\"text-align: right;\">\n",
              "      <th></th>\n",
              "      <th>movieId</th>\n",
              "      <th>title</th>\n",
              "      <th>genres</th>\n",
              "    </tr>\n",
              "  </thead>\n",
              "  <tbody>\n",
              "    <tr>\n",
              "      <th>0</th>\n",
              "      <td>1</td>\n",
              "      <td>Toy Story (1995)</td>\n",
              "      <td>Adventure|Animation|Children|Comedy|Fantasy</td>\n",
              "    </tr>\n",
              "  </tbody>\n",
              "</table>\n",
              "</div>"
            ],
            "text/plain": [
              "   movieId             title                                       genres\n",
              "0        1  Toy Story (1995)  Adventure|Animation|Children|Comedy|Fantasy"
            ]
          },
          "metadata": {
            "tags": []
          },
          "execution_count": 127
        }
      ]
    },
    {
      "cell_type": "code",
      "metadata": {
        "colab": {
          "base_uri": "https://localhost:8080/",
          "height": 202
        },
        "id": "IbGa3FGQaajB",
        "outputId": "6abeadf6-fb66-4d88-bce7-4176a7581a63"
      },
      "source": [
        "notas1 = notas.query(\"movieId ==1\")\n",
        "notas1.head()"
      ],
      "execution_count": null,
      "outputs": [
        {
          "output_type": "execute_result",
          "data": {
            "text/html": [
              "<div>\n",
              "<style scoped>\n",
              "    .dataframe tbody tr th:only-of-type {\n",
              "        vertical-align: middle;\n",
              "    }\n",
              "\n",
              "    .dataframe tbody tr th {\n",
              "        vertical-align: top;\n",
              "    }\n",
              "\n",
              "    .dataframe thead th {\n",
              "        text-align: right;\n",
              "    }\n",
              "</style>\n",
              "<table border=\"1\" class=\"dataframe\">\n",
              "  <thead>\n",
              "    <tr style=\"text-align: right;\">\n",
              "      <th></th>\n",
              "      <th>userId</th>\n",
              "      <th>movieId</th>\n",
              "      <th>rating</th>\n",
              "      <th>timestamp</th>\n",
              "    </tr>\n",
              "  </thead>\n",
              "  <tbody>\n",
              "    <tr>\n",
              "      <th>0</th>\n",
              "      <td>1</td>\n",
              "      <td>1</td>\n",
              "      <td>4.0</td>\n",
              "      <td>964982703</td>\n",
              "    </tr>\n",
              "    <tr>\n",
              "      <th>516</th>\n",
              "      <td>5</td>\n",
              "      <td>1</td>\n",
              "      <td>4.0</td>\n",
              "      <td>847434962</td>\n",
              "    </tr>\n",
              "    <tr>\n",
              "      <th>874</th>\n",
              "      <td>7</td>\n",
              "      <td>1</td>\n",
              "      <td>4.5</td>\n",
              "      <td>1106635946</td>\n",
              "    </tr>\n",
              "    <tr>\n",
              "      <th>1434</th>\n",
              "      <td>15</td>\n",
              "      <td>1</td>\n",
              "      <td>2.5</td>\n",
              "      <td>1510577970</td>\n",
              "    </tr>\n",
              "    <tr>\n",
              "      <th>1667</th>\n",
              "      <td>17</td>\n",
              "      <td>1</td>\n",
              "      <td>4.5</td>\n",
              "      <td>1305696483</td>\n",
              "    </tr>\n",
              "  </tbody>\n",
              "</table>\n",
              "</div>"
            ],
            "text/plain": [
              "      userId  movieId  rating   timestamp\n",
              "0          1        1     4.0   964982703\n",
              "516        5        1     4.0   847434962\n",
              "874        7        1     4.5  1106635946\n",
              "1434      15        1     2.5  1510577970\n",
              "1667      17        1     4.5  1305696483"
            ]
          },
          "metadata": {
            "tags": []
          },
          "execution_count": 128
        }
      ]
    },
    {
      "cell_type": "code",
      "metadata": {
        "colab": {
          "base_uri": "https://localhost:8080/",
          "height": 367
        },
        "id": "IaP3n11GagB9",
        "outputId": "ad38fb4b-a13d-4b6a-c642-841eabbf56cf"
      },
      "source": [
        "ax = sns.distplot(notas1[\"rating\"])\n",
        "ax.set(xlabel='Notas do Toy Story', ylabel='Densidade')\n",
        "ax.set_title('Distribuição das notas para o Toy Story')"
      ],
      "execution_count": null,
      "outputs": [
        {
          "output_type": "stream",
          "text": [
            "/usr/local/lib/python3.7/dist-packages/seaborn/distributions.py:2557: FutureWarning: `distplot` is a deprecated function and will be removed in a future version. Please adapt your code to use either `displot` (a figure-level function with similar flexibility) or `histplot` (an axes-level function for histograms).\n",
            "  warnings.warn(msg, FutureWarning)\n"
          ],
          "name": "stderr"
        },
        {
          "output_type": "execute_result",
          "data": {
            "text/plain": [
              "Text(0.5, 1.0, 'Distribuição das notas para o Toy Story')"
            ]
          },
          "metadata": {
            "tags": []
          },
          "execution_count": 130
        },
        {
          "output_type": "display_data",
          "data": {
            "image/png": "[encoded data removed]",
            "text/plain": [
              "<Figure size 432x288 with 1 Axes>"
            ]
          },
          "metadata": {
            "tags": [],
            "needs_background": "light"
          }
        }
      ]
    },
    {
      "cell_type": "code",
      "metadata": {
        "colab": {
          "base_uri": "https://localhost:8080/",
          "height": 367
        },
        "id": "p3U6tBcGatTl",
        "outputId": "f17681f0-7a98-477d-935e-895d7f43033f"
      },
      "source": [
        "ax = sns.boxplot(notas1[\"rating\"])\n",
        "ax.set(xlabel='Notas')\n",
        "ax.set_title('Distribuição das notas para o Toy Story')"
      ],
      "execution_count": null,
      "outputs": [
        {
          "output_type": "stream",
          "text": [
            "/usr/local/lib/python3.7/dist-packages/seaborn/_decorators.py:43: FutureWarning: Pass the following variable as a keyword arg: x. From version 0.12, the only valid positional argument will be `data`, and passing other arguments without an explicit keyword will result in an error or misinterpretation.\n",
            "  FutureWarning\n"
          ],
          "name": "stderr"
        },
        {
          "output_type": "execute_result",
          "data": {
            "text/plain": [
              "Text(0.5, 1.0, 'Distribuição das notas para o Toy Story')"
            ]
          },
          "metadata": {
            "tags": []
          },
          "execution_count": 131
        },
        {
          "output_type": "display_data",
          "data": {
            "image/png": "[encoded data removed]",
            "text/plain": [
              "<Figure size 432x288 with 1 Axes>"
            ]
          },
          "metadata": {
            "tags": [],
            "needs_background": "light"
          }
        }
      ]
    },
    {
      "cell_type": "code",
      "metadata": {
        "colab": {
          "base_uri": "https://localhost:8080/"
        },
        "id": "TNrS2ztdbTNZ",
        "outputId": "9deab191-47b7-477b-817e-2b2efe409a0a"
      },
      "source": [
        "notas1[\"rating\"].mean()"
      ],
      "execution_count": null,
      "outputs": [
        {
          "output_type": "execute_result",
          "data": {
            "text/plain": [
              "3.9209302325581397"
            ]
          },
          "metadata": {
            "tags": []
          },
          "execution_count": 135
        }
      ]
    },
    {
      "cell_type": "code",
      "metadata": {
        "id": "byYuhQdJbX6h"
      },
      "source": [
        "from statsmodels.stats.weightstats import ztest"
      ],
      "execution_count": null,
      "outputs": []
    },
    {
      "cell_type": "code",
      "metadata": {
        "colab": {
          "base_uri": "https://localhost:8080/"
        },
        "id": "C5dZR_Slalvt",
        "outputId": "2bd14f9c-c38b-4e32-a6ce-2719a4ba26e2"
      },
      "source": [
        "ztest(notas1.rating, value = 3.4320503405352603)"
      ],
      "execution_count": null,
      "outputs": [
        {
          "output_type": "execute_result",
          "data": {
            "text/plain": [
              "(8.586342305916716, 8.978190401886942e-18)"
            ]
          },
          "metadata": {
            "tags": []
          },
          "execution_count": 134
        }
      ]
    },
    {
      "cell_type": "markdown",
      "metadata": {
        "id": "rMTFAzbDf6wJ"
      },
      "source": [
        "**Problemas de amostras pequenas**"
      ]
    },
    {
      "cell_type": "code",
      "metadata": {
        "colab": {
          "base_uri": "https://localhost:8080/",
          "height": 282
        },
        "id": "_mvZMKg5f8pA",
        "outputId": "fe5be365-f5e7-4459-9bbe-49f99047b68f"
      },
      "source": [
        "np.random.seed(75241)\n",
        "temp = notas1.sample(frac=1).rating\n",
        "\n",
        "medias = [temp[0:i].mean() for i in range(1, len(temp))]\n",
        "\n",
        "plt.plot(medias)"
      ],
      "execution_count": null,
      "outputs": [
        {
          "output_type": "execute_result",
          "data": {
            "text/plain": [
              "[<matplotlib.lines.Line2D at 0x7f9bbd67ffd0>]"
            ]
          },
          "metadata": {
            "tags": []
          },
          "execution_count": 136
        },
        {
          "output_type": "display_data",
          "data": {
            "image/png": "[encoded data removed]",
            "text/plain": [
              "<Figure size 432x288 with 1 Axes>"
            ]
          },
          "metadata": {
            "tags": [],
            "needs_background": "light"
          }
        }
      ]
    },
    {
      "cell_type": "code",
      "metadata": {
        "colab": {
          "base_uri": "https://localhost:8080/"
        },
        "id": "lLGcAMFyguRa",
        "outputId": "baae2da1-4a64-425b-8a30-344791f442b4"
      },
      "source": [
        "np.random.seed(75241)\n",
        "temp = notas1.sample(frac=1).rating\n",
        "\n",
        "def calcula_teste(i):\n",
        "    media = temp[0:i].mean()\n",
        "    stat, p = ztest(temp[0:i], value = 3.4320503405352603) \n",
        "    return (media, p)\n",
        "\n",
        "medias = [calcula_teste(i) for i in range(2, len(temp))]\n",
        "medias"
      ],
      "execution_count": null,
      "outputs": [
        {
          "output_type": "execute_result",
          "data": {
            "text/plain": [
              "[(4.5, 0.032687621135204896),\n",
              " (4.0, 0.3252543510880489),\n",
              " (3.875, 0.29952196979944745),\n",
              " (3.9, 0.15826781784711086),\n",
              " (3.9166666666666665, 0.07406936464331344),\n",
              " (3.9285714285714284, 0.03058372185045264),\n",
              " (4.0625, 0.008546846816661634),\n",
              " (3.9444444444444446, 0.034351369792154834),\n",
              " (3.6, 0.6797757440816464),\n",
              " (3.590909090909091, 0.6661040559180447),\n",
              " (3.5, 0.8452594429449549),\n",
              " (3.5, 0.8319722700425317),\n",
              " (3.5357142857142856, 0.7285036535608292),\n",
              " (3.6, 0.5561564945645507),\n",
              " (3.5625, 0.6284166359766319),\n",
              " (3.6470588235294117, 0.42056196093078513),\n",
              " (3.7222222222222223, 0.2692718087435868),\n",
              " (3.6842105263157894, 0.3157395629293568),\n",
              " (3.65, 0.36558117183067695),\n",
              " (3.5714285714285716, 0.5650170364597873),\n",
              " (3.590909090909091, 0.4930885087384419),\n",
              " (3.608695652173913, 0.4265824656611449),\n",
              " (3.625, 0.36578337526912086),\n",
              " (3.64, 0.3108287352909964),\n",
              " (3.6538461538461537, 0.26171758950670954),\n",
              " (3.6481481481481484, 0.2559999054486449),\n",
              " (3.6964285714285716, 0.16314137427171593),\n",
              " (3.7413793103448274, 0.10054986793464257),\n",
              " (3.7333333333333334, 0.09812718831667805),\n",
              " (3.7419354838709675, 0.07894877889458934),\n",
              " (3.671875, 0.19389049416761317),\n",
              " (3.6666666666666665, 0.18994435269346233),\n",
              " (3.7058823529411766, 0.12400478766945784),\n",
              " (3.742857142857143, 0.07870821336871098),\n",
              " (3.7222222222222223, 0.09353576061527746),\n",
              " (3.7027027027027026, 0.11013590254134484),\n",
              " (3.736842105263158, 0.070293980214127),\n",
              " (3.7435897435897436, 0.057719600728433226),\n",
              " (3.725, 0.06895669959313765),\n",
              " (3.7560975609756095, 0.043027696867534854),\n",
              " (3.7857142857142856, 0.026192682251694282),\n",
              " (3.813953488372093, 0.015559932099710492),\n",
              " (3.8181818181818183, 0.01233272538941352),\n",
              " (3.8222222222222224, 0.00971325069982623),\n",
              " (3.8043478260869565, 0.012260404094830826),\n",
              " (3.7872340425531914, 0.015299059283941084),\n",
              " (3.8125, 0.008966188879749698),\n",
              " (3.806122448979592, 0.008766884002523942),\n",
              " (3.81, 0.006897537294395224),\n",
              " (3.8137254901960786, 0.005394516156167565),\n",
              " (3.8173076923076925, 0.004193844231736312),\n",
              " (3.80188679245283, 0.005385212289644282),\n",
              " (3.8055555555555554, 0.004195763368449785),\n",
              " (3.790909090909091, 0.005368352947838337),\n",
              " (3.7767857142857144, 0.006794205663451532),\n",
              " (3.763157894736842, 0.008512220201001898),\n",
              " (3.7844827586206895, 0.004975558567317606),\n",
              " (3.788135593220339, 0.003904050433428437),\n",
              " (3.808333333333333, 0.0022169155153936113),\n",
              " (3.8114754098360657, 0.0017134856636438817),\n",
              " (3.7983870967741935, 0.0022185468321933607),\n",
              " (3.7936507936507935, 0.0021667091142656882),\n",
              " (3.7890625, 0.0021155742986059037),\n",
              " (3.792307692307692, 0.001638169688311084),\n",
              " (3.7803030303030303, 0.002112904717074153),\n",
              " (3.783582089552239, 0.0016391796508841768),\n",
              " (3.7720588235294117, 0.002107877006211813),\n",
              " (3.7753623188405796, 0.001638208006937132),\n",
              " (3.7785714285714285, 0.0012667046775475992),\n",
              " (3.76056338028169, 0.0022426047709492537),\n",
              " (3.763888888888889, 0.0017525084760790894),\n",
              " (3.7739726027397262, 0.0011365250751412),\n",
              " (3.7905405405405403, 0.0006361085905667348),\n",
              " (3.8066666666666666, 0.00035042445221225517),\n",
              " (3.8157894736842106, 0.00021841519783205381),\n",
              " (3.811688311688312, 0.0002133389727594162),\n",
              " (3.8141025641025643, 0.0001607423772756106),\n",
              " (3.8164556962025316, 0.00012053616176043722),\n",
              " (3.83125, 6.355135417245393e-05),\n",
              " (3.845679012345679, 3.300722928041108e-05),\n",
              " (3.841463414634146, 3.2304003745802037e-05),\n",
              " (3.8433734939759034, 2.374556884407959e-05),\n",
              " (3.857142857142857, 1.2077073301628071e-05),\n",
              " (3.847058823529412, 1.7088673225760976e-05),\n",
              " (3.8313953488372094, 3.608185615666001e-05),\n",
              " (3.8333333333333335, 2.681257612846113e-05),\n",
              " (3.8238636363636362, 3.681562512354262e-05),\n",
              " (3.808988764044944, 7.313870608516293e-05),\n",
              " (3.811111111111111, 5.525606847923858e-05),\n",
              " (3.8131868131868134, 4.1572170968967595e-05),\n",
              " (3.8206521739130435, 2.540508532221419e-05),\n",
              " (3.8225806451612905, 1.891161316381205e-05),\n",
              " (3.824468085106383, 1.4019284811900051e-05),\n",
              " (3.8157894736842106, 1.9300245184706242e-05),\n",
              " (3.8177083333333335, 1.4337154349835086e-05),\n",
              " (3.829896907216495, 7.470440358184904e-06),\n",
              " (3.8418367346938775, 3.843679820388642e-06),\n",
              " (3.823232323232323, 1.3101881021708747e-05),\n",
              " (3.815, 1.773810320525232e-05),\n",
              " (3.797029702970297, 5.156319239792069e-05),\n",
              " (3.799019607843137, 3.956916550250529e-05),\n",
              " (3.7815533980582523, 0.00010532490098882295),\n",
              " (3.7836538461538463, 8.207340957567451e-05),\n",
              " (3.7857142857142856, 6.373666797007717e-05),\n",
              " (3.7877358490566038, 4.9327620681370155e-05),\n",
              " (3.794392523364486, 3.158510492524062e-05),\n",
              " (3.7824074074074074, 5.741195652105531e-05),\n",
              " (3.7844036697247705, 4.452063805181686e-05),\n",
              " (3.7954545454545454, 2.5034997999585643e-05),\n",
              " (3.8018018018018016, 1.593383648900579e-05),\n",
              " (3.8035714285714284, 1.2181676067708934e-05),\n",
              " (3.8053097345132745, 9.282385148662153e-06),\n",
              " (3.807017543859649, 7.049800097807919e-06),\n",
              " (3.8086956521739133, 5.336512954125956e-06),\n",
              " (3.8017241379310347, 7.132420343988585e-06),\n",
              " (3.8119658119658117, 3.8777239631651985e-06),\n",
              " (3.809322033898305, 3.789024541840527e-06),\n",
              " (3.80672268907563, 3.701652394675697e-06),\n",
              " (3.8041666666666667, 3.6156244484077226e-06),\n",
              " (3.809917355371901, 2.234409015059164e-06),\n",
              " (3.819672131147541, 1.1935921381583365e-06),\n",
              " (3.821138211382114, 8.907771906449635e-07),\n",
              " (3.814516129032258, 1.2165528009735344e-06),\n",
              " (3.808, 1.6492029231809994e-06),\n",
              " (3.8095238095238093, 1.2383902023580329e-06),\n",
              " (3.7992125984251968, 2.4447090501870245e-06),\n",
              " (3.80859375, 1.3259626346058774e-06),\n",
              " (3.802325581395349, 1.7799716841358229e-06),\n",
              " (3.7884615384615383, 5.106740278151876e-06),\n",
              " (3.786259541984733, 4.986913728968981e-06),\n",
              " (3.7954545454545454, 2.7799402746913627e-06),\n",
              " (3.793233082706767, 2.715247214619515e-06),\n",
              " (3.794776119402985, 2.075872794199074e-06),\n",
              " (3.785185185185185, 3.869818273690176e-06),\n",
              " (3.786764705882353, 2.9771501112494567e-06),\n",
              " (3.7846715328467155, 2.906855295169462e-06),\n",
              " (3.786231884057971, 2.229978257172786e-06),\n",
              " (3.7805755395683454, 2.923020543496903e-06),\n",
              " (3.7857142857142856, 1.861736987479408e-06),\n",
              " (3.780141843971631, 2.441850783063681e-06),\n",
              " (3.7816901408450705, 1.8743496554091788e-06),\n",
              " (3.7832167832167833, 1.4348129269825041e-06),\n",
              " (3.7847222222222223, 1.0953489095524478e-06),\n",
              " (3.786206896551724, 8.33914593413763e-07),\n",
              " (3.7945205479452055, 4.5654100105346796e-07),\n",
              " (3.802721088435374, 2.4781068087348057e-07),\n",
              " (3.804054054054054, 1.8647631467675183e-07),\n",
              " (3.8053691275167787, 1.3994497318116365e-07),\n",
              " (3.8066666666666666, 1.0474187906210276e-07),\n",
              " (3.814569536423841, 5.5638738167742754e-08),\n",
              " (3.8223684210526314, 2.9310557354650833e-08),\n",
              " (3.823529411764706, 2.169106984430368e-08),\n",
              " (3.8279220779220777, 1.296533237512879e-08),\n",
              " (3.835483870967742, 6.69721358751862e-09),\n",
              " (3.8365384615384617, 4.90242789582791e-09),\n",
              " (3.837579617834395, 3.579198670373318e-09),\n",
              " (3.8322784810126582, 5.065038279328382e-09),\n",
              " (3.839622641509434, 2.593122661980238e-09),\n",
              " (3.840625, 1.888254008877338e-09),\n",
              " (3.829192546583851, 6.89862648428305e-09),\n",
              " (3.830246913580247, 5.088654193995244e-09),\n",
              " (3.831288343558282, 3.744165106538347e-09),\n",
              " (3.826219512195122, 5.23409616911476e-09),\n",
              " (3.8333333333333335, 2.715045381204715e-09),\n",
              " (3.8343373493975905, 1.9924856311040464e-09),\n",
              " (3.841317365269461, 1.021658248002295e-09),\n",
              " (3.8452380952380953, 5.986014433616568e-10),\n",
              " (3.8520710059171597, 3.026046512497991e-10),\n",
              " (3.85, 2.9667891226340393e-10),\n",
              " (3.8508771929824563, 2.1473424779915278e-10),\n",
              " (3.8459302325581395, 3.087411923363227e-10),\n",
              " (3.8497109826589595, 1.7917893544489147e-10),\n",
              " (3.8505747126436782, 1.2939702905988413e-10),\n",
              " (3.854285714285714, 7.437375301814674e-11),\n",
              " (3.8607954545454546, 3.68536489501502e-11),\n",
              " (3.867231638418079, 1.8128994549484078e-11),\n",
              " (3.8707865168539324, 1.0226884113071301e-11),\n",
              " (3.863128491620112, 2.476407211840968e-11),\n",
              " (3.863888888888889, 1.7738569534234892e-11),\n",
              " (3.8701657458563536, 8.709233016873075e-12),\n",
              " (3.870879120879121, 6.201886620364462e-12),\n",
              " (3.866120218579235, 9.186029818083115e-12),\n",
              " (3.8668478260869565, 6.5513651601619266e-12),\n",
              " (3.8702702702702703, 3.688482306426001e-12),\n",
              " (3.8763440860215055, 1.787257905280176e-12),\n",
              " (3.8823529411764706, 8.600037830948384e-13),\n",
              " (3.882978723404255, 6.056150219694947e-13),\n",
              " (3.8835978835978837, 4.2551292144889585e-13),\n",
              " (3.886842105263158, 2.3370424038676717e-13),\n",
              " (3.887434554973822, 1.6326985261947053e-13),\n",
              " (3.8880208333333335, 1.1380629973295943e-13),\n",
              " (3.88860103626943, 7.91493424125946e-14),\n",
              " (3.8917525773195876, 4.278258438283099e-14),\n",
              " (3.8923076923076922, 2.958555465053198e-14),\n",
              " (3.8877551020408165, 4.623476152843946e-14),\n",
              " (3.8908629441624365, 2.493280074064741e-14),\n",
              " (3.893939393939394, 1.3370684043107038e-14),\n",
              " (3.899497487437186, 6.160613753635314e-15),\n",
              " (3.895, 9.749074156510373e-15),\n",
              " (3.8955223880597014, 6.7127681104016146e-15),\n",
              " (3.896039603960396, 4.6119520070165714e-15),\n",
              " (3.896551724137931, 3.1616414709692205e-15),\n",
              " (3.9019607843137254, 1.443848995257856e-15),\n",
              " (3.897560975609756, 2.309845735394206e-15),\n",
              " (3.9029126213592233, 1.0555998801123747e-15),\n",
              " (3.9082125603864735, 4.793088683620973e-16),\n",
              " (3.9086538461538463, 3.2609910418318076e-16),\n",
              " (3.9138755980861246, 1.466694033719233e-16),\n",
              " (3.914285714285714, 9.927030087378508e-17),\n",
              " (3.914691943127962, 6.704625749290763e-17),\n",
              " (3.9150943396226414, 4.518611521397103e-17),\n",
              " (3.915492957746479, 3.038859398683116e-17),\n",
              " (3.9205607476635516, 1.3418325209316871e-17)]"
            ]
          },
          "metadata": {
            "tags": []
          },
          "execution_count": 138
        }
      ]
    },
    {
      "cell_type": "code",
      "metadata": {
        "colab": {
          "base_uri": "https://localhost:8080/",
          "height": 282
        },
        "id": "KXUpg-Ghg3YK",
        "outputId": "752aa40f-184f-40e9-caab-663d66552d96"
      },
      "source": [
        "medias = np.array([calcula_teste(i) for i in range(2, len(temp))])\n",
        "medias\n",
        "\n",
        "plt.plot(medias[:,1])"
      ],
      "execution_count": null,
      "outputs": [
        {
          "output_type": "execute_result",
          "data": {
            "text/plain": [
              "[<matplotlib.lines.Line2D at 0x7f9bbd5fa6d0>]"
            ]
          },
          "metadata": {
            "tags": []
          },
          "execution_count": 139
        },
        {
          "output_type": "display_data",
          "data": {
            "image/png": "[encoded data removed]",
            "text/plain": [
              "<Figure size 432x288 with 1 Axes>"
            ]
          },
          "metadata": {
            "tags": [],
            "needs_background": "light"
          }
        }
      ]
    },
    {
      "cell_type": "markdown",
      "metadata": {
        "id": "h8u8BA-wibiR"
      },
      "source": [
        "# **05. Teste por duas amostras**"
      ]
    },
    {
      "cell_type": "markdown",
      "metadata": {
        "id": "45uf-Ghlikhf"
      },
      "source": [
        "**Comparando a média de duas amostras**"
      ]
    },
    {
      "cell_type": "code",
      "metadata": {
        "colab": {
          "base_uri": "https://localhost:8080/"
        },
        "id": "MTJ2EGSvipnJ",
        "outputId": "24e6fb47-3dbc-4ab6-8662-62ea2d26ee84"
      },
      "source": [
        "zconfint(notas1[\"rating\"], notas.rating)"
      ],
      "execution_count": null,
      "outputs": [
        {
          "output_type": "execute_result",
          "data": {
            "text/plain": [
              "(0.2799245129192442, 0.5588219849631111)"
            ]
          },
          "metadata": {
            "tags": []
          },
          "execution_count": 141
        }
      ]
    },
    {
      "cell_type": "code",
      "metadata": {
        "colab": {
          "base_uri": "https://localhost:8080/"
        },
        "id": "vjO-zetmjEiX",
        "outputId": "09fb3c05-49c5-4ee3-9735-d7dde5dd69c2"
      },
      "source": [
        "print (ztest(notas1.rating, notas.rating))\n",
        "zconfint(notas1.rating, notas.rating)"
      ],
      "execution_count": null,
      "outputs": [
        {
          "output_type": "stream",
          "text": [
            "(5.894327101501841, 3.762112778881965e-09)\n"
          ],
          "name": "stdout"
        },
        {
          "output_type": "execute_result",
          "data": {
            "text/plain": [
              "(0.2799245129192442, 0.5588219849631111)"
            ]
          },
          "metadata": {
            "tags": []
          },
          "execution_count": 142
        }
      ]
    },
    {
      "cell_type": "code",
      "metadata": {
        "colab": {
          "base_uri": "https://localhost:8080/"
        },
        "id": "pXYnnL6EjcCJ",
        "outputId": "e2952b70-28f9-48b5-a731-30e6d2f1f257"
      },
      "source": [
        "from scipy.stats import ttest_ind\n",
        "\n",
        "ttest_ind(notas.rating, notas1.rating)"
      ],
      "execution_count": null,
      "outputs": [
        {
          "output_type": "execute_result",
          "data": {
            "text/plain": [
              "Ttest_indResult(statistic=-5.894327101501841, pvalue=3.774003138720876e-09)"
            ]
          },
          "metadata": {
            "tags": []
          },
          "execution_count": 143
        }
      ]
    },
    {
      "cell_type": "code",
      "metadata": {
        "colab": {
          "base_uri": "https://localhost:8080/"
        },
        "id": "pUJKBOxIjtbF",
        "outputId": "a50ef1dd-0f80-4d18-a0ae-336ea459ee27"
      },
      "source": [
        "descr_todas_as_notas = DescrStatsW(notas.rating)\n",
        "descr_toystory = DescrStatsW(notas1.rating)\n",
        "descr_todas_as_notas.get_compare(descr_toystory)"
      ],
      "execution_count": null,
      "outputs": [
        {
          "output_type": "execute_result",
          "data": {
            "text/plain": [
              "<statsmodels.stats.weightstats.CompareMeans at 0x7f9bbd4dfe10>"
            ]
          },
          "metadata": {
            "tags": []
          },
          "execution_count": 144
        }
      ]
    },
    {
      "cell_type": "markdown",
      "metadata": {
        "id": "og9GEg6zkTBQ"
      },
      "source": [
        "**Visualizando graficamente**"
      ]
    },
    {
      "cell_type": "code",
      "metadata": {
        "colab": {
          "base_uri": "https://localhost:8080/",
          "height": 353
        },
        "id": "FFV8y6srknAa",
        "outputId": "3440419b-7feb-4371-f037-3e8155e630f2"
      },
      "source": [
        "import matplotlib.pyplot as plt\n",
        "\n",
        "plt.boxplot([notas.rating, notas1.rating], labels=[\"Todas as notas\", \"Toy Story\"])\n",
        "plt.title(\"Distribuição das notas de acordo com filmes\")"
      ],
      "execution_count": null,
      "outputs": [
        {
          "output_type": "stream",
          "text": [
            "/usr/local/lib/python3.7/dist-packages/numpy/core/_asarray.py:83: VisibleDeprecationWarning: Creating an ndarray from ragged nested sequences (which is a list-or-tuple of lists-or-tuples-or ndarrays with different lengths or shapes) is deprecated. If you meant to do this, you must specify 'dtype=object' when creating the ndarray\n",
            "  return array(a, dtype, copy=False, order=order)\n"
          ],
          "name": "stderr"
        },
        {
          "output_type": "execute_result",
          "data": {
            "text/plain": [
              "Text(0.5, 1.0, 'Distribuição das notas de acordo com filmes')"
            ]
          },
          "metadata": {
            "tags": []
          },
          "execution_count": 145
        },
        {
          "output_type": "display_data",
          "data": {
            "image/png": "[encoded data removed]",
            "text/plain": [
              "<Figure size 432x288 with 1 Axes>"
            ]
          },
          "metadata": {
            "tags": [],
            "needs_background": "light"
          }
        }
      ]
    }
  ]
}